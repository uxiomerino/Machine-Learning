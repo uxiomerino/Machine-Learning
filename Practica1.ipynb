{
  "nbformat": 4,
  "nbformat_minor": 0,
  "metadata": {
    "colab": {
      "provenance": [],
      "collapsed_sections": []
    },
    "kernelspec": {
      "display_name": "Python 3",
      "name": "python3"
    },
    "language_info": {
      "name": "python"
    },
    "accelerator": "GPU",
    "gpuClass": "standard"
  },
  "cells": [
    {
      "cell_type": "markdown",
      "source": [
        "# **Práctica 1 AAII**\n",
        "Uxío Merino Currás y Nina López Laudenbach"
      ],
      "metadata": {
        "id": "ViaCqezalYPr"
      }
    },
    {
      "cell_type": "markdown",
      "source": [
        "## Carga do dataset\n",
        "\n",
        "Esta celda encargarase de baixar o dataset."
      ],
      "metadata": {
        "id": "RrHFSeIlrjtq"
      }
    },
    {
      "cell_type": "code",
      "source": [
        "import os\n",
        "import numpy as np\n",
        "from scipy.special import erf\n",
        "from tensorflow.keras.utils import get_file\n",
        "\n",
        "datasets_url = 'https://archive.ics.uci.edu/ml/machine-learning-databases/'\n",
        "\n",
        "\n",
        "def download_dataset(directory):\n",
        "    dataset_name = 'madelon'\n",
        "\n",
        "    if not os.path.isdir(directory):\n",
        "        os.makedirs(directory)\n",
        "\n",
        "    train_url = datasets_url + dataset_name.lower() + '/'\n",
        "\n",
        "    for subset in ['train', 'test', 'valid']:\n",
        "        for option in ['labels', 'data']:\n",
        "            if option == 'labels' and subset == 'test':\n",
        "                continue\n",
        "            filename = dataset_name + '_' + subset + '.' + option\n",
        "            if subset == 'valid' and option == 'labels':\n",
        "                url = train_url + dataset_name.lower() + '_' + subset + '.' + option\n",
        "            else:\n",
        "                url = train_url + dataset_name.upper() + '/' + dataset_name.lower() + '_' + subset + '.' + option\n",
        "            if not os.path.exists(directory + '/' + filename):\n",
        "                get_file(filename, url, cache_dir=directory, cache_subdir='.')\n",
        "\n",
        "\n",
        "def load_dataset(directory=None):\n",
        "    directory = './madelon/'\n",
        "    download_dataset(directory=directory)\n",
        "    dataset = load_data(directory + 'madelon')\n",
        "    return dataset\n",
        "\n",
        "\n",
        "def load_data(source):\n",
        "    info = {\n",
        "        'train': {}, 'validation': {}, 'test': {}\n",
        "    }\n",
        "\n",
        "    file = source + '_train.labels'\n",
        "    info['train']['label'] = np.loadtxt(file, dtype=np.int16)\n",
        "    info['train']['label'][info['train']['label'] < 0] = 0\n",
        "\n",
        "    file = source + '_train.data'\n",
        "    info['train']['data'] = np.loadtxt(file, dtype=np.int16).astype(np.float32)\n",
        "\n",
        "    file = source + '_test.data'\n",
        "    info['test']['data'] = np.loadtxt(file, dtype=np.int16).astype(np.float32)\n",
        "\n",
        "    file = source + '_valid.labels'\n",
        "    info['validation']['label'] = np.loadtxt(file, dtype=np.int16)\n",
        "    info['validation']['label'][info['validation']['label'] < 0] = 0\n",
        "\n",
        "    file = source + '_valid.data'\n",
        "    info['validation']['data'] = np.loadtxt(file, dtype=np.int16).astype(np.float32)\n",
        "\n",
        "    return info\n",
        "\n"
      ],
      "metadata": {
        "id": "FQNGgog5r9sr"
      },
      "execution_count": 9,
      "outputs": []
    },
    {
      "cell_type": "code",
      "source": [
        "# Cargamos o dataset\n",
        "dataset = load_dataset()"
      ],
      "metadata": {
        "id": "9UaVQr2KsgAd"
      },
      "execution_count": 10,
      "outputs": []
    },
    {
      "cell_type": "markdown",
      "source": [
        "## Normalizamos os datos de entrada\n",
        "\n",
        "Utilizamos a media e a desviación típica para normalizar, xa que observando os datos, considerámolo máis apropiado que usar o máximo e o mínimo."
      ],
      "metadata": {
        "id": "y7UQBctKtLDG"
      }
    },
    {
      "cell_type": "code",
      "metadata": {
        "id": "oZSAcVZq5AC9"
      },
      "source": [
        "# Clase para normalizar os datos\n",
        "class Normalize:\n",
        "\n",
        "    def __init__(self):\n",
        "        # Definición das variables\n",
        "        self.train = np.array(dataset['train']['data'])\n",
        "        self.atrib = len(self.train[0])\n",
        "        self.filas = len(self.train)\n",
        "        self.media = None\n",
        "        self.std = None\n",
        "        pass\n",
        "\n",
        "    def fit(self, X):\n",
        "        # Función para obter as variables necesarias para a normalización (media e desviación típica)\n",
        "        self.media = np.mean(self.train, axis=0)\n",
        "        self.std = np.std(self.train, axis=0)\n",
        "        pass\n",
        "\n",
        "    def transform(self, X):\n",
        "        # Función para normalizar os datos de entrada.\n",
        "        X = (X - self.media) / self.std\n",
        "        return X\n",
        "\n",
        "    def fit_transform(self, X):\n",
        "        # NON TOCAR: Función para entrenar e transformar os datos simultáneamente (usar só cos datos de entrenamento)\n",
        "        self.fit(X)\n",
        "        return self.transform(X)"
      ],
      "execution_count": 11,
      "outputs": []
    },
    {
      "cell_type": "code",
      "source": [
        "# Normalizamos os datos\n",
        "norm_class = Normalize()\n",
        "dataset['train']['data'] = norm_class.fit_transform(dataset['train']['data']) # Para los datos de entrenamiento\n",
        "dataset['validation']['data'] = norm_class.transform(dataset['validation']['data']) # Para los datos de validación\n",
        "dataset['test']['data'] = norm_class.transform(dataset['test']['data']) # Para los datos de test"
      ],
      "metadata": {
        "id": "irc72K4Vt_aB"
      },
      "execution_count": 12,
      "outputs": []
    },
    {
      "cell_type": "markdown",
      "source": [
        "## Función para crear unha rede\n",
        "\n",
        "Como podemos ver na siguiente función, creamos o modelo con Sequential() e con .add() engadimos as capas ocultas que lle indiquemos á función.\n",
        "Para mellorar a precisión do modelo, que se verá máis adiante, probamos a quitarlle a regularización (como se indicou en clase que podíamos facer) á capa de saída que definimos fóra do bucle for."
      ],
      "metadata": {
        "id": "6Zomft-kvSnZ"
      }
    },
    {
      "cell_type": "code",
      "source": [
        "from tensorflow.keras import layers, regularizers, optimizers\n",
        "from tensorflow.keras.models import Sequential\n",
        "import tensorflow as tf\n",
        "from tensorflow import keras\n",
        "\n",
        "def crear_red(data, Ncapas, NumNeuronas, FActiv, Regu):\n",
        "    # Función para crear a rede\n",
        "    model = tf.keras.models.Sequential() \n",
        "    for i in range(Ncapas): \n",
        "      model.add(tf.keras.layers.Dense(NumNeuronas, activation=FActiv, kernel_regularizer=tf.keras.regularizers.L2(Regu)))\n",
        "    \n",
        "    model.add(tf.keras.layers.Dense(1, activation='sigmoid'))\n",
        "    model.build((1,len(data[1])))\n",
        "    return model\n",
        "\n",
        "model = crear_red(dataset['train']['data'], 2, 15, 'relu', 1e-5)\n",
        "print(model.summary())"
      ],
      "metadata": {
        "id": "UTgrJcvEum-l",
        "colab": {
          "base_uri": "https://localhost:8080/"
        },
        "outputId": "4968d6c2-816b-4bb1-a3a3-23df83903337"
      },
      "execution_count": 13,
      "outputs": [
        {
          "output_type": "stream",
          "name": "stdout",
          "text": [
            "Model: \"sequential_2\"\n",
            "_________________________________________________________________\n",
            " Layer (type)                Output Shape              Param #   \n",
            "=================================================================\n",
            " dense_5 (Dense)             (1, 15)                   7515      \n",
            "                                                                 \n",
            " dense_6 (Dense)             (1, 15)                   240       \n",
            "                                                                 \n",
            " dense_7 (Dense)             (1, 1)                    16        \n",
            "                                                                 \n",
            "=================================================================\n",
            "Total params: 7,771\n",
            "Trainable params: 7,771\n",
            "Non-trainable params: 0\n",
            "_________________________________________________________________\n",
            "None\n"
          ]
        }
      ]
    },
    {
      "cell_type": "markdown",
      "source": [
        "# Exercicio 2\n",
        "Para levar a cabo este exericio, definimos en listas os diferentes aspectos para as configuracións que queríamos probar (non aparecen todos os que probamos). \n",
        "Creamos un dicionario para ir gardando os resultados (precisión no conxunto de entrenamento e no de validación) segundo os parámetros usados. Para obter estes resultados fixemos un bucle que iterara sobre as listas e fora probando todas as combinacións posibles."
      ],
      "metadata": {
        "id": "uHOB7d0qyIvJ"
      }
    },
    {
      "cell_type": "code",
      "source": [
        "import random\n",
        "# Valores a probar\n",
        "Ncapas = [1, 2, 3]\n",
        "NumNeuronas = [45, 60, 80]\n",
        "valL2 = [1e-3, 1e-5, 1e-7]\n",
        "FActiv =  ['selu', 'elu', 'softmax', 'tanh']\n",
        "# Dicionario para gardar os resultados de entrenamento e validación\n",
        "dictResult = {}\n",
        "# Métricas do modelo\n",
        "fn_perdida = tf.keras.losses.BinaryCrossentropy()\n",
        "optimizador = tf.keras.optimizers.Adam()\n",
        "metrica = tf.keras.metrics.BinaryAccuracy()\n",
        "num_epochs = 100\n",
        "batch_size = 50\n",
        "\n",
        "# Variable para gardar o mellor accuracy ata o momento\n",
        "best = 0\n",
        "\n",
        "#Poñemos unha semente para obter resultados estables\n",
        "seed=1234\n",
        "os.environ['PYTHONHASHSEED']=str(seed)\n",
        "tf.random.set_seed(seed)\n",
        "np.random.seed(seed)\n",
        "random.seed(seed)\n",
        "\n",
        "# Bucle para probar cos diferentes valores\n",
        "for capa in Ncapas:\n",
        "  if capa not in dictResult:\n",
        "    dictResult[capa] = {}\n",
        "  for neuronas in NumNeuronas:\n",
        "    if neuronas not in dictResult[capa]:\n",
        "      dictResult[capa][neuronas] = {}\n",
        "    for val in valL2:\n",
        "      if val not in dictResult[capa][neuronas]:\n",
        "        dictResult[capa][neuronas][val] = {}\n",
        "      for fun in FActiv:\n",
        "        if fun not in dictResult[capa][neuronas][val]:\n",
        "          model = crear_red(dataset['train']['data'], capa, neuronas, fun, val) # Creamos a rede\n",
        "          model.compile(optimizer=optimizador, loss=fn_perdida, metrics=metrica) # A compilamos \n",
        "          model.fit(dataset['train']['data'], dataset['train']['label'], epochs = num_epochs, batch_size=batch_size, verbose = 0) # A entrenamos\n",
        "          \n",
        "          result1 = model.evaluate(dataset['train']['data'], dataset['train']['label'], verbose = 0) # Evaluamos co conxunto de entrenamento\n",
        "          result = model.evaluate(dataset['validation']['data'], dataset['validation']['label'], verbose = 0) # Evaluamos co conxunto de validación\n",
        "          accuracy_validation = result[1]\n",
        "          accuracy_train = result1[1]\n",
        "          print(\"\\nCo conxunto train con \" + str(capa) + \" capas, \" + str(neuronas) + \" neuronas, \" + str(val) + \" valor para L2, \" +\n",
        "          fun + \" como función de activacion: \\nloss: \" + str(result1[0]) + \"\\taccuracy: \" + str(result1[1]))\n",
        "          print(\"Co conxunto validation: \\nloss: \" + str(result[0]) + \"\\taccuracy: \" + str(accuracy_validation))\n",
        "          \n",
        "          # Gardamos os parámetros do mellor modelo para poder mostralo abaixo\n",
        "          if best < accuracy_validation:\n",
        "              best = accuracy_validation\n",
        "              par_capas = capa\n",
        "              par_neuronas = neuronas\n",
        "              par_valL2 = val\n",
        "              par_FActiv = fun\n",
        "              acc_train = accuracy_train\n",
        "          \n",
        "          dictResult[capa][neuronas][val][fun] = [accuracy_validation, accuracy_train] # Gardamos no diccionario as precisións para entrenamento e validación de cada modelo\n"
      ],
      "metadata": {
        "id": "J_VH3LrTyIWy",
        "colab": {
          "base_uri": "https://localhost:8080/"
        },
        "outputId": "0983be70-bcd3-43a2-836c-5bcabf79f588"
      },
      "execution_count": 14,
      "outputs": [
        {
          "output_type": "stream",
          "name": "stdout",
          "text": [
            "\n",
            "Co conxunto train con 1 capas, 45 neuronas, 0.001 valor para L2, selu como función de activacion: \n",
            "loss: 0.06880107522010803\taccuracy: 1.0\n",
            "Co conxunto validation: \n",
            "loss: 1.6440273523330688\taccuracy: 0.5933333039283752\n",
            "\n",
            "Co conxunto train con 1 capas, 45 neuronas, 0.001 valor para L2, elu como función de activacion: \n",
            "loss: 0.0506400391459465\taccuracy: 1.0\n",
            "Co conxunto validation: \n",
            "loss: 1.5824377536773682\taccuracy: 0.6200000047683716\n",
            "\n",
            "Co conxunto train con 1 capas, 45 neuronas, 0.001 valor para L2, softmax como función de activacion: \n",
            "loss: 0.080138199031353\taccuracy: 1.0\n",
            "Co conxunto validation: \n",
            "loss: 0.8929653763771057\taccuracy: 0.6200000047683716\n",
            "\n",
            "Co conxunto train con 1 capas, 45 neuronas, 0.001 valor para L2, tanh como función de activacion: \n",
            "loss: 0.03971535712480545\taccuracy: 1.0\n",
            "Co conxunto validation: \n",
            "loss: 1.5446640253067017\taccuracy: 0.550000011920929\n",
            "\n",
            "Co conxunto train con 1 capas, 45 neuronas, 1e-05 valor para L2, selu como función de activacion: \n",
            "loss: 0.0030965718906372786\taccuracy: 1.0\n",
            "Co conxunto validation: \n",
            "loss: 2.074967384338379\taccuracy: 0.5916666388511658\n",
            "\n",
            "Co conxunto train con 1 capas, 45 neuronas, 1e-05 valor para L2, elu como función de activacion: \n",
            "loss: 0.002904127584770322\taccuracy: 1.0\n",
            "Co conxunto validation: \n",
            "loss: 2.002068042755127\taccuracy: 0.5899999737739563\n",
            "\n",
            "Co conxunto train con 1 capas, 45 neuronas, 1e-05 valor para L2, softmax como función de activacion: \n",
            "loss: 0.04325418174266815\taccuracy: 0.9950000047683716\n",
            "Co conxunto validation: \n",
            "loss: 1.2302075624465942\taccuracy: 0.5799999833106995\n",
            "\n",
            "Co conxunto train con 1 capas, 45 neuronas, 1e-05 valor para L2, tanh como función de activacion: \n",
            "loss: 0.0030959006398916245\taccuracy: 1.0\n",
            "Co conxunto validation: \n",
            "loss: 1.8609981536865234\taccuracy: 0.5583333373069763\n",
            "\n",
            "Co conxunto train con 1 capas, 45 neuronas, 1e-07 valor para L2, selu como función de activacion: \n",
            "loss: 0.0005364730022847652\taccuracy: 1.0\n",
            "Co conxunto validation: \n",
            "loss: 2.0136306285858154\taccuracy: 0.5816666483879089\n",
            "\n",
            "Co conxunto train con 1 capas, 45 neuronas, 1e-07 valor para L2, elu como función de activacion: \n",
            "loss: 0.00033821919350884855\taccuracy: 1.0\n",
            "Co conxunto validation: \n",
            "loss: 2.0263512134552\taccuracy: 0.5916666388511658\n",
            "\n",
            "Co conxunto train con 1 capas, 45 neuronas, 1e-07 valor para L2, softmax como función de activacion: \n",
            "loss: 0.045090366154909134\taccuracy: 0.9955000281333923\n",
            "Co conxunto validation: \n",
            "loss: 1.1566063165664673\taccuracy: 0.6016666889190674\n",
            "\n",
            "Co conxunto train con 1 capas, 45 neuronas, 1e-07 valor para L2, tanh como función de activacion: \n",
            "loss: 0.0005974179948680103\taccuracy: 1.0\n",
            "Co conxunto validation: \n",
            "loss: 1.8819974660873413\taccuracy: 0.5683333277702332\n",
            "\n",
            "Co conxunto train con 1 capas, 60 neuronas, 0.001 valor para L2, selu como función de activacion: \n",
            "loss: 0.047609612345695496\taccuracy: 1.0\n",
            "Co conxunto validation: \n",
            "loss: 1.48032808303833\taccuracy: 0.5883333086967468\n",
            "\n",
            "Co conxunto train con 1 capas, 60 neuronas, 0.001 valor para L2, elu como función de activacion: \n",
            "loss: 0.04150758311152458\taccuracy: 1.0\n",
            "Co conxunto validation: \n",
            "loss: 1.3112609386444092\taccuracy: 0.6183333396911621\n",
            "\n",
            "Co conxunto train con 1 capas, 60 neuronas, 0.001 valor para L2, softmax como función de activacion: \n",
            "loss: 0.0763905718922615\taccuracy: 0.9994999766349792\n",
            "Co conxunto validation: \n",
            "loss: 0.8439990282058716\taccuracy: 0.653333306312561\n",
            "\n",
            "Co conxunto train con 1 capas, 60 neuronas, 0.001 valor para L2, tanh como función de activacion: \n",
            "loss: 0.04787064716219902\taccuracy: 0.9994999766349792\n",
            "Co conxunto validation: \n",
            "loss: 1.6289528608322144\taccuracy: 0.5683333277702332\n",
            "\n",
            "Co conxunto train con 1 capas, 60 neuronas, 1e-05 valor para L2, selu como función de activacion: \n",
            "loss: 0.0034670447930693626\taccuracy: 1.0\n",
            "Co conxunto validation: \n",
            "loss: 2.1056721210479736\taccuracy: 0.5633333325386047\n",
            "\n",
            "Co conxunto train con 1 capas, 60 neuronas, 1e-05 valor para L2, elu como función de activacion: \n",
            "loss: 0.0031701282132416964\taccuracy: 1.0\n",
            "Co conxunto validation: \n",
            "loss: 1.8930758237838745\taccuracy: 0.5950000286102295\n",
            "\n",
            "Co conxunto train con 1 capas, 60 neuronas, 1e-05 valor para L2, softmax como función de activacion: \n",
            "loss: 0.042146481573581696\taccuracy: 0.9980000257492065\n",
            "Co conxunto validation: \n",
            "loss: 1.044289231300354\taccuracy: 0.621666669845581\n",
            "\n",
            "Co conxunto train con 1 capas, 60 neuronas, 1e-05 valor para L2, tanh como función de activacion: \n",
            "loss: 0.003224243875592947\taccuracy: 1.0\n",
            "Co conxunto validation: \n",
            "loss: 1.908226728439331\taccuracy: 0.5699999928474426\n",
            "\n",
            "Co conxunto train con 1 capas, 60 neuronas, 1e-07 valor para L2, selu como función de activacion: \n",
            "loss: 0.0004380888130981475\taccuracy: 1.0\n",
            "Co conxunto validation: \n",
            "loss: 2.113942861557007\taccuracy: 0.57833331823349\n",
            "\n",
            "Co conxunto train con 1 capas, 60 neuronas, 1e-07 valor para L2, elu como función de activacion: \n",
            "loss: 0.0003014488611370325\taccuracy: 1.0\n",
            "Co conxunto validation: \n",
            "loss: 2.106419563293457\taccuracy: 0.5799999833106995\n",
            "\n",
            "Co conxunto train con 1 capas, 60 neuronas, 1e-07 valor para L2, softmax como función de activacion: \n",
            "loss: 0.04728810489177704\taccuracy: 0.996999979019165\n",
            "Co conxunto validation: \n",
            "loss: 1.0892759561538696\taccuracy: 0.6183333396911621\n",
            "\n",
            "Co conxunto train con 1 capas, 60 neuronas, 1e-07 valor para L2, tanh como función de activacion: \n",
            "loss: 0.00045809458242729306\taccuracy: 1.0\n",
            "Co conxunto validation: \n",
            "loss: 1.8578765392303467\taccuracy: 0.574999988079071\n",
            "\n",
            "Co conxunto train con 1 capas, 80 neuronas, 0.001 valor para L2, selu como función de activacion: \n",
            "loss: 0.04587731510400772\taccuracy: 1.0\n",
            "Co conxunto validation: \n",
            "loss: 1.4165390729904175\taccuracy: 0.5899999737739563\n",
            "\n",
            "Co conxunto train con 1 capas, 80 neuronas, 0.001 valor para L2, elu como función de activacion: \n",
            "loss: 0.04097183048725128\taccuracy: 1.0\n",
            "Co conxunto validation: \n",
            "loss: 1.324378490447998\taccuracy: 0.6166666746139526\n",
            "\n",
            "Co conxunto train con 1 capas, 80 neuronas, 0.001 valor para L2, softmax como función de activacion: \n",
            "loss: 0.0722660943865776\taccuracy: 1.0\n",
            "Co conxunto validation: \n",
            "loss: 0.9000550508499146\taccuracy: 0.6383333206176758\n",
            "\n",
            "Co conxunto train con 1 capas, 80 neuronas, 0.001 valor para L2, tanh como función de activacion: \n",
            "loss: 0.06590554118156433\taccuracy: 1.0\n",
            "Co conxunto validation: \n",
            "loss: 1.834259271621704\taccuracy: 0.5649999976158142\n",
            "\n",
            "Co conxunto train con 1 capas, 80 neuronas, 1e-05 valor para L2, selu como función de activacion: \n",
            "loss: 0.0038771294057369232\taccuracy: 1.0\n",
            "Co conxunto validation: \n",
            "loss: 2.1002542972564697\taccuracy: 0.574999988079071\n",
            "\n",
            "Co conxunto train con 1 capas, 80 neuronas, 1e-05 valor para L2, elu como función de activacion: \n",
            "loss: 0.0034988236147910357\taccuracy: 1.0\n",
            "Co conxunto validation: \n",
            "loss: 1.9968757629394531\taccuracy: 0.5833333134651184\n",
            "\n",
            "Co conxunto train con 1 capas, 80 neuronas, 1e-05 valor para L2, softmax como función de activacion: \n",
            "loss: 0.04296408221125603\taccuracy: 0.9980000257492065\n",
            "Co conxunto validation: \n",
            "loss: 1.115634560585022\taccuracy: 0.5983333587646484\n",
            "\n",
            "Co conxunto train con 1 capas, 80 neuronas, 1e-05 valor para L2, tanh como función de activacion: \n",
            "loss: 0.003445991547778249\taccuracy: 1.0\n",
            "Co conxunto validation: \n",
            "loss: 1.8616522550582886\taccuracy: 0.5816666483879089\n",
            "\n",
            "Co conxunto train con 1 capas, 80 neuronas, 1e-07 valor para L2, selu como función de activacion: \n",
            "loss: 0.00040715423529036343\taccuracy: 1.0\n",
            "Co conxunto validation: \n",
            "loss: 2.0575501918792725\taccuracy: 0.5899999737739563\n",
            "\n",
            "Co conxunto train con 1 capas, 80 neuronas, 1e-07 valor para L2, elu como función de activacion: \n",
            "loss: 0.00028909716638736427\taccuracy: 1.0\n",
            "Co conxunto validation: \n",
            "loss: 2.0001676082611084\taccuracy: 0.5950000286102295\n",
            "\n",
            "Co conxunto train con 1 capas, 80 neuronas, 1e-07 valor para L2, softmax como función de activacion: \n",
            "loss: 0.04693056270480156\taccuracy: 0.9975000023841858\n",
            "Co conxunto validation: \n",
            "loss: 1.196494698524475\taccuracy: 0.6000000238418579\n",
            "\n",
            "Co conxunto train con 1 capas, 80 neuronas, 1e-07 valor para L2, tanh como función de activacion: \n",
            "loss: 0.0003640039940364659\taccuracy: 1.0\n",
            "Co conxunto validation: \n",
            "loss: 1.8553521633148193\taccuracy: 0.5516666769981384\n",
            "\n",
            "Co conxunto train con 2 capas, 45 neuronas, 0.001 valor para L2, selu como función de activacion: \n",
            "loss: 0.038769133388996124\taccuracy: 1.0\n",
            "Co conxunto validation: \n",
            "loss: 1.7568566799163818\taccuracy: 0.6033333539962769\n",
            "\n",
            "Co conxunto train con 2 capas, 45 neuronas, 0.001 valor para L2, elu como función de activacion: \n",
            "loss: 0.036021847277879715\taccuracy: 1.0\n",
            "Co conxunto validation: \n",
            "loss: 1.7525047063827515\taccuracy: 0.6150000095367432\n",
            "\n",
            "Co conxunto train con 2 capas, 45 neuronas, 0.001 valor para L2, softmax como función de activacion: \n",
            "loss: 0.6931508779525757\taccuracy: 0.5\n",
            "Co conxunto validation: \n",
            "loss: 0.6931507587432861\taccuracy: 0.5\n",
            "\n",
            "Co conxunto train con 2 capas, 45 neuronas, 0.001 valor para L2, tanh como función de activacion: \n",
            "loss: 0.050947003066539764\taccuracy: 1.0\n",
            "Co conxunto validation: \n",
            "loss: 2.1271800994873047\taccuracy: 0.5699999928474426\n",
            "\n",
            "Co conxunto train con 2 capas, 45 neuronas, 1e-05 valor para L2, selu como función de activacion: \n",
            "loss: 0.0024558508303016424\taccuracy: 1.0\n",
            "Co conxunto validation: \n",
            "loss: 2.5540661811828613\taccuracy: 0.5816666483879089\n",
            "\n",
            "Co conxunto train con 2 capas, 45 neuronas, 1e-05 valor para L2, elu como función de activacion: \n",
            "loss: 0.0023923851549625397\taccuracy: 1.0\n",
            "Co conxunto validation: \n",
            "loss: 2.46667218208313\taccuracy: 0.6100000143051147\n",
            "\n",
            "Co conxunto train con 2 capas, 45 neuronas, 1e-05 valor para L2, softmax como función de activacion: \n",
            "loss: 0.014528261497616768\taccuracy: 1.0\n",
            "Co conxunto validation: \n",
            "loss: 1.4066294431686401\taccuracy: 0.6183333396911621\n",
            "\n",
            "Co conxunto train con 2 capas, 45 neuronas, 1e-05 valor para L2, tanh como función de activacion: \n",
            "loss: 0.00207049329765141\taccuracy: 1.0\n",
            "Co conxunto validation: \n",
            "loss: 2.771885871887207\taccuracy: 0.57833331823349\n",
            "\n",
            "Co conxunto train con 2 capas, 45 neuronas, 1e-07 valor para L2, selu como función de activacion: \n",
            "loss: 0.00010021436173701659\taccuracy: 1.0\n",
            "Co conxunto validation: \n",
            "loss: 2.430722951889038\taccuracy: 0.6183333396911621\n",
            "\n",
            "Co conxunto train con 2 capas, 45 neuronas, 1e-07 valor para L2, elu como función de activacion: \n",
            "loss: 7.489730342058465e-05\taccuracy: 1.0\n",
            "Co conxunto validation: \n",
            "loss: 2.6669857501983643\taccuracy: 0.5899999737739563\n",
            "\n",
            "Co conxunto train con 2 capas, 45 neuronas, 1e-07 valor para L2, softmax como función de activacion: \n",
            "loss: 0.018487757071852684\taccuracy: 0.9959999918937683\n",
            "Co conxunto validation: \n",
            "loss: 1.719662070274353\taccuracy: 0.5916666388511658\n",
            "\n",
            "Co conxunto train con 2 capas, 45 neuronas, 1e-07 valor para L2, tanh como función de activacion: \n",
            "loss: 6.930375093361363e-05\taccuracy: 1.0\n",
            "Co conxunto validation: \n",
            "loss: 2.616727590560913\taccuracy: 0.5883333086967468\n",
            "\n",
            "Co conxunto train con 2 capas, 60 neuronas, 0.001 valor para L2, selu como función de activacion: \n",
            "loss: 0.03699778765439987\taccuracy: 1.0\n",
            "Co conxunto validation: \n",
            "loss: 1.8718312978744507\taccuracy: 0.5983333587646484\n",
            "\n",
            "Co conxunto train con 2 capas, 60 neuronas, 0.001 valor para L2, elu como función de activacion: \n",
            "loss: 0.035551127046346664\taccuracy: 1.0\n",
            "Co conxunto validation: \n",
            "loss: 1.7623927593231201\taccuracy: 0.6066666841506958\n",
            "\n",
            "Co conxunto train con 2 capas, 60 neuronas, 0.001 valor para L2, softmax como función de activacion: \n",
            "loss: 0.6931487917900085\taccuracy: 0.5\n",
            "Co conxunto validation: \n",
            "loss: 0.6931488513946533\taccuracy: 0.5\n",
            "\n",
            "Co conxunto train con 2 capas, 60 neuronas, 0.001 valor para L2, tanh como función de activacion: \n",
            "loss: 0.05037790164351463\taccuracy: 1.0\n",
            "Co conxunto validation: \n",
            "loss: 2.2323615550994873\taccuracy: 0.5333333611488342\n",
            "\n",
            "Co conxunto train con 2 capas, 60 neuronas, 1e-05 valor para L2, selu como función de activacion: \n",
            "loss: 0.0028850676026195288\taccuracy: 1.0\n",
            "Co conxunto validation: \n",
            "loss: 2.380117893218994\taccuracy: 0.5716666579246521\n",
            "\n",
            "Co conxunto train con 2 capas, 60 neuronas, 1e-05 valor para L2, elu como función de activacion: \n",
            "loss: 0.002647185465320945\taccuracy: 1.0\n",
            "Co conxunto validation: \n",
            "loss: 2.6927618980407715\taccuracy: 0.5716666579246521\n",
            "\n",
            "Co conxunto train con 2 capas, 60 neuronas, 1e-05 valor para L2, softmax como función de activacion: \n",
            "loss: 0.013415255583822727\taccuracy: 1.0\n",
            "Co conxunto validation: \n",
            "loss: 1.5478650331497192\taccuracy: 0.6000000238418579\n",
            "\n",
            "Co conxunto train con 2 capas, 60 neuronas, 1e-05 valor para L2, tanh como función de activacion: \n",
            "loss: 0.002431345172226429\taccuracy: 1.0\n",
            "Co conxunto validation: \n",
            "loss: 2.7666194438934326\taccuracy: 0.5416666865348816\n",
            "\n",
            "Co conxunto train con 2 capas, 60 neuronas, 1e-07 valor para L2, selu como función de activacion: \n",
            "loss: 9.793512435862795e-05\taccuracy: 1.0\n",
            "Co conxunto validation: \n",
            "loss: 2.5274388790130615\taccuracy: 0.596666693687439\n",
            "\n",
            "Co conxunto train con 2 capas, 60 neuronas, 1e-07 valor para L2, elu como función de activacion: \n",
            "loss: 7.247625762829557e-05\taccuracy: 1.0\n",
            "Co conxunto validation: \n",
            "loss: 2.5223724842071533\taccuracy: 0.6266666650772095\n",
            "\n",
            "Co conxunto train con 2 capas, 60 neuronas, 1e-07 valor para L2, softmax como función de activacion: \n",
            "loss: 0.013456792570650578\taccuracy: 0.9980000257492065\n",
            "Co conxunto validation: \n",
            "loss: 1.8551840782165527\taccuracy: 0.574999988079071\n",
            "\n",
            "Co conxunto train con 2 capas, 60 neuronas, 1e-07 valor para L2, tanh como función de activacion: \n",
            "loss: 6.773577479179949e-05\taccuracy: 1.0\n",
            "Co conxunto validation: \n",
            "loss: 2.8017096519470215\taccuracy: 0.5733333230018616\n",
            "\n",
            "Co conxunto train con 2 capas, 80 neuronas, 0.001 valor para L2, selu como función de activacion: \n",
            "loss: 0.084101103246212\taccuracy: 1.0\n",
            "Co conxunto validation: \n",
            "loss: 1.9364696741104126\taccuracy: 0.6316666603088379\n",
            "\n",
            "Co conxunto train con 2 capas, 80 neuronas, 0.001 valor para L2, elu como función de activacion: \n",
            "loss: 0.02956322208046913\taccuracy: 1.0\n",
            "Co conxunto validation: \n",
            "loss: 1.9101442098617554\taccuracy: 0.6116666793823242\n",
            "\n",
            "Co conxunto train con 2 capas, 80 neuronas, 0.001 valor para L2, softmax como función de activacion: \n",
            "loss: 0.6931474208831787\taccuracy: 0.5\n",
            "Co conxunto validation: \n",
            "loss: 0.6931476593017578\taccuracy: 0.5\n",
            "\n",
            "Co conxunto train con 2 capas, 80 neuronas, 0.001 valor para L2, tanh como función de activacion: \n",
            "loss: 0.04787568375468254\taccuracy: 1.0\n",
            "Co conxunto validation: \n",
            "loss: 2.111060857772827\taccuracy: 0.5583333373069763\n",
            "\n",
            "Co conxunto train con 2 capas, 80 neuronas, 1e-05 valor para L2, selu como función de activacion: \n",
            "loss: 0.003339361632242799\taccuracy: 1.0\n",
            "Co conxunto validation: \n",
            "loss: 2.2983903884887695\taccuracy: 0.625\n",
            "\n",
            "Co conxunto train con 2 capas, 80 neuronas, 1e-05 valor para L2, elu como función de activacion: \n",
            "loss: 0.003140744287520647\taccuracy: 1.0\n",
            "Co conxunto validation: \n",
            "loss: 2.5391499996185303\taccuracy: 0.5950000286102295\n",
            "\n",
            "Co conxunto train con 2 capas, 80 neuronas, 1e-05 valor para L2, softmax como función de activacion: \n",
            "loss: 0.017984580248594284\taccuracy: 0.9990000128746033\n",
            "Co conxunto validation: \n",
            "loss: 1.475953221321106\taccuracy: 0.6183333396911621\n",
            "\n",
            "Co conxunto train con 2 capas, 80 neuronas, 1e-05 valor para L2, tanh como función de activacion: \n",
            "loss: 0.0028088707476854324\taccuracy: 1.0\n",
            "Co conxunto validation: \n",
            "loss: 2.6967029571533203\taccuracy: 0.5716666579246521\n",
            "\n",
            "Co conxunto train con 2 capas, 80 neuronas, 1e-07 valor para L2, selu como función de activacion: \n",
            "loss: 9.970834798878059e-05\taccuracy: 1.0\n",
            "Co conxunto validation: \n",
            "loss: 2.415719985961914\taccuracy: 0.5916666388511658\n",
            "\n",
            "Co conxunto train con 2 capas, 80 neuronas, 1e-07 valor para L2, elu como función de activacion: \n",
            "loss: 7.763401663396508e-05\taccuracy: 1.0\n",
            "Co conxunto validation: \n",
            "loss: 2.528625249862671\taccuracy: 0.6116666793823242\n",
            "\n",
            "Co conxunto train con 2 capas, 80 neuronas, 1e-07 valor para L2, softmax como función de activacion: \n",
            "loss: 0.010396449826657772\taccuracy: 0.9990000128746033\n",
            "Co conxunto validation: \n",
            "loss: 1.6189645528793335\taccuracy: 0.628333330154419\n",
            "\n",
            "Co conxunto train con 2 capas, 80 neuronas, 1e-07 valor para L2, tanh como función de activacion: \n",
            "loss: 6.952603871468455e-05\taccuracy: 1.0\n",
            "Co conxunto validation: \n",
            "loss: 2.751812219619751\taccuracy: 0.5699999928474426\n",
            "\n",
            "Co conxunto train con 3 capas, 45 neuronas, 0.001 valor para L2, selu como función de activacion: \n",
            "loss: 0.052159734070301056\taccuracy: 1.0\n",
            "Co conxunto validation: \n",
            "loss: 2.1875381469726562\taccuracy: 0.5799999833106995\n",
            "\n",
            "Co conxunto train con 3 capas, 45 neuronas, 0.001 valor para L2, elu como función de activacion: \n",
            "loss: 0.04358886182308197\taccuracy: 1.0\n",
            "Co conxunto validation: \n",
            "loss: 2.2158586978912354\taccuracy: 0.6000000238418579\n",
            "\n",
            "Co conxunto train con 3 capas, 45 neuronas, 0.001 valor para L2, softmax como función de activacion: \n",
            "loss: 0.6931502819061279\taccuracy: 0.5\n",
            "Co conxunto validation: \n",
            "loss: 0.6931504011154175\taccuracy: 0.5\n",
            "\n",
            "Co conxunto train con 3 capas, 45 neuronas, 0.001 valor para L2, tanh como función de activacion: \n",
            "loss: 0.049973178654909134\taccuracy: 1.0\n",
            "Co conxunto validation: \n",
            "loss: 2.56567645072937\taccuracy: 0.5699999928474426\n",
            "\n",
            "Co conxunto train con 3 capas, 45 neuronas, 1e-05 valor para L2, selu como función de activacion: \n",
            "loss: 0.0026152869686484337\taccuracy: 1.0\n",
            "Co conxunto validation: \n",
            "loss: 2.6467363834381104\taccuracy: 0.596666693687439\n",
            "\n",
            "Co conxunto train con 3 capas, 45 neuronas, 1e-05 valor para L2, elu como función de activacion: \n",
            "loss: 0.002435113536193967\taccuracy: 1.0\n",
            "Co conxunto validation: \n",
            "loss: 3.1968190670013428\taccuracy: 0.5566666722297668\n",
            "\n",
            "Co conxunto train con 3 capas, 45 neuronas, 1e-05 valor para L2, softmax como función de activacion: \n",
            "loss: 0.6931476593017578\taccuracy: 0.5\n",
            "Co conxunto validation: \n",
            "loss: 0.6931476593017578\taccuracy: 0.5\n",
            "\n",
            "Co conxunto train con 3 capas, 45 neuronas, 1e-05 valor para L2, tanh como función de activacion: \n",
            "loss: 0.0024042068980634212\taccuracy: 1.0\n",
            "Co conxunto validation: \n",
            "loss: 3.162853479385376\taccuracy: 0.5583333373069763\n",
            "\n",
            "Co conxunto train con 3 capas, 45 neuronas, 1e-07 valor para L2, selu como función de activacion: \n",
            "loss: 5.674335625371896e-05\taccuracy: 1.0\n",
            "Co conxunto validation: \n",
            "loss: 3.3445422649383545\taccuracy: 0.5666666626930237\n",
            "\n",
            "Co conxunto train con 3 capas, 45 neuronas, 1e-07 valor para L2, elu como función de activacion: \n",
            "loss: 4.5633045374415815e-05\taccuracy: 1.0\n",
            "Co conxunto validation: \n",
            "loss: 2.967729091644287\taccuracy: 0.6016666889190674\n",
            "\n",
            "Co conxunto train con 3 capas, 45 neuronas, 1e-07 valor para L2, softmax como función de activacion: \n",
            "loss: 0.019362596794962883\taccuracy: 0.9980000257492065\n",
            "Co conxunto validation: \n",
            "loss: 1.6441162824630737\taccuracy: 0.6383333206176758\n",
            "\n",
            "Co conxunto train con 3 capas, 45 neuronas, 1e-07 valor para L2, tanh como función de activacion: \n",
            "loss: 5.0262115109944716e-05\taccuracy: 1.0\n",
            "Co conxunto validation: \n",
            "loss: 3.3600127696990967\taccuracy: 0.5600000023841858\n",
            "\n",
            "Co conxunto train con 3 capas, 60 neuronas, 0.001 valor para L2, selu como función de activacion: \n",
            "loss: 0.04131368175148964\taccuracy: 1.0\n",
            "Co conxunto validation: \n",
            "loss: 1.7340015172958374\taccuracy: 0.6100000143051147\n",
            "\n",
            "Co conxunto train con 3 capas, 60 neuronas, 0.001 valor para L2, elu como función de activacion: \n",
            "loss: 0.04565386474132538\taccuracy: 1.0\n",
            "Co conxunto validation: \n",
            "loss: 1.9881595373153687\taccuracy: 0.6033333539962769\n",
            "\n",
            "Co conxunto train con 3 capas, 60 neuronas, 0.001 valor para L2, softmax como función de activacion: \n",
            "loss: 0.6931487917900085\taccuracy: 0.5\n",
            "Co conxunto validation: \n",
            "loss: 0.6931488513946533\taccuracy: 0.5\n",
            "\n",
            "Co conxunto train con 3 capas, 60 neuronas, 0.001 valor para L2, tanh como función de activacion: \n",
            "loss: 0.03335762396454811\taccuracy: 1.0\n",
            "Co conxunto validation: \n",
            "loss: 2.177034854888916\taccuracy: 0.57833331823349\n",
            "\n",
            "Co conxunto train con 3 capas, 60 neuronas, 1e-05 valor para L2, selu como función de activacion: \n",
            "loss: 0.0031355400569736958\taccuracy: 1.0\n",
            "Co conxunto validation: \n",
            "loss: 2.6441502571105957\taccuracy: 0.5933333039283752\n",
            "\n",
            "Co conxunto train con 3 capas, 60 neuronas, 1e-05 valor para L2, elu como función de activacion: \n",
            "loss: 0.002930148970335722\taccuracy: 1.0\n",
            "Co conxunto validation: \n",
            "loss: 2.857693910598755\taccuracy: 0.5816666483879089\n",
            "\n",
            "Co conxunto train con 3 capas, 60 neuronas, 1e-05 valor para L2, softmax como función de activacion: \n",
            "loss: 0.6931476593017578\taccuracy: 0.5\n",
            "Co conxunto validation: \n",
            "loss: 0.6931475400924683\taccuracy: 0.5\n",
            "\n",
            "Co conxunto train con 3 capas, 60 neuronas, 1e-05 valor para L2, tanh como función de activacion: \n",
            "loss: 0.0028366604819893837\taccuracy: 1.0\n",
            "Co conxunto validation: \n",
            "loss: 3.1358182430267334\taccuracy: 0.5649999976158142\n",
            "\n",
            "Co conxunto train con 3 capas, 60 neuronas, 1e-07 valor para L2, selu como función de activacion: \n",
            "loss: 6.21878425590694e-05\taccuracy: 1.0\n",
            "Co conxunto validation: \n",
            "loss: 2.9113948345184326\taccuracy: 0.5866666436195374\n",
            "\n",
            "Co conxunto train con 3 capas, 60 neuronas, 1e-07 valor para L2, elu como función de activacion: \n",
            "loss: 5.108076220494695e-05\taccuracy: 1.0\n",
            "Co conxunto validation: \n",
            "loss: 3.071978807449341\taccuracy: 0.5983333587646484\n",
            "\n",
            "Co conxunto train con 3 capas, 60 neuronas, 1e-07 valor para L2, softmax como función de activacion: \n",
            "loss: 0.01129660289734602\taccuracy: 0.9994999766349792\n",
            "Co conxunto validation: \n",
            "loss: 1.893830418586731\taccuracy: 0.5899999737739563\n",
            "\n",
            "Co conxunto train con 3 capas, 60 neuronas, 1e-07 valor para L2, tanh como función de activacion: \n",
            "loss: 5.4997737606754526e-05\taccuracy: 1.0\n",
            "Co conxunto validation: \n",
            "loss: 3.370023012161255\taccuracy: 0.5716666579246521\n",
            "\n",
            "Co conxunto train con 3 capas, 80 neuronas, 0.001 valor para L2, selu como función de activacion: \n",
            "loss: 0.042418379336595535\taccuracy: 1.0\n",
            "Co conxunto validation: \n",
            "loss: 1.7568479776382446\taccuracy: 0.5883333086967468\n",
            "\n",
            "Co conxunto train con 3 capas, 80 neuronas, 0.001 valor para L2, elu como función de activacion: \n",
            "loss: 0.034293148666620255\taccuracy: 1.0\n",
            "Co conxunto validation: \n",
            "loss: 1.8035566806793213\taccuracy: 0.6433333158493042\n",
            "\n",
            "Co conxunto train con 3 capas, 80 neuronas, 0.001 valor para L2, softmax como función de activacion: \n",
            "loss: 0.693147599697113\taccuracy: 0.5\n",
            "Co conxunto validation: \n",
            "loss: 0.693147599697113\taccuracy: 0.5\n",
            "\n",
            "Co conxunto train con 3 capas, 80 neuronas, 0.001 valor para L2, tanh como función de activacion: \n",
            "loss: 0.07623739540576935\taccuracy: 0.9990000128746033\n",
            "Co conxunto validation: \n",
            "loss: 2.652787685394287\taccuracy: 0.5633333325386047\n",
            "\n",
            "Co conxunto train con 3 capas, 80 neuronas, 1e-05 valor para L2, selu como función de activacion: \n",
            "loss: 0.0037514895666390657\taccuracy: 1.0\n",
            "Co conxunto validation: \n",
            "loss: 2.6230647563934326\taccuracy: 0.6016666889190674\n",
            "\n",
            "Co conxunto train con 3 capas, 80 neuronas, 1e-05 valor para L2, elu como función de activacion: \n",
            "loss: 0.003551330417394638\taccuracy: 1.0\n",
            "Co conxunto validation: \n",
            "loss: 2.5524702072143555\taccuracy: 0.6349999904632568\n",
            "\n",
            "Co conxunto train con 3 capas, 80 neuronas, 1e-05 valor para L2, softmax como función de activacion: \n",
            "loss: 0.6931474208831787\taccuracy: 0.5\n",
            "Co conxunto validation: \n",
            "loss: 0.6931474804878235\taccuracy: 0.5\n",
            "\n",
            "Co conxunto train con 3 capas, 80 neuronas, 1e-05 valor para L2, tanh como función de activacion: \n",
            "loss: 0.003637191839516163\taccuracy: 1.0\n",
            "Co conxunto validation: \n",
            "loss: 3.3967084884643555\taccuracy: 0.5683333277702332\n",
            "\n",
            "Co conxunto train con 3 capas, 80 neuronas, 1e-07 valor para L2, selu como función de activacion: \n",
            "loss: 6.931159441592172e-05\taccuracy: 1.0\n",
            "Co conxunto validation: \n",
            "loss: 2.595592498779297\taccuracy: 0.6066666841506958\n",
            "\n",
            "Co conxunto train con 3 capas, 80 neuronas, 1e-07 valor para L2, elu como función de activacion: \n",
            "loss: 5.908472303417511e-05\taccuracy: 1.0\n",
            "Co conxunto validation: \n",
            "loss: 2.7561569213867188\taccuracy: 0.6066666841506958\n",
            "\n",
            "Co conxunto train con 3 capas, 80 neuronas, 1e-07 valor para L2, softmax como función de activacion: \n",
            "loss: 0.029609128832817078\taccuracy: 0.9955000281333923\n",
            "Co conxunto validation: \n",
            "loss: 1.6829876899719238\taccuracy: 0.6183333396911621\n",
            "\n",
            "Co conxunto train con 3 capas, 80 neuronas, 1e-07 valor para L2, tanh como función de activacion: \n",
            "loss: 6.981080514378846e-05\taccuracy: 1.0\n",
            "Co conxunto validation: \n",
            "loss: 3.643237352371216\taccuracy: 0.54666668176651\n"
          ]
        }
      ]
    },
    {
      "cell_type": "code",
      "source": [
        "# Mostramos o mellor modelo\n",
        "print('A precisión co conxunto de validación: '+ str(best))\n",
        "print('A precisión co conxunto de entrenamento: '+ str(acc_train))\n",
        "print('Número de capas ocultas: ' + str(par_capas))\n",
        "print('Número de neuronas por capa: ' + str(par_neuronas))\n",
        "print('Función de activación: ' + str(par_FActiv))\n",
        "print('Valor para o regularizador por norma L2: ' + str(par_valL2) +\"\\n\")\n",
        "model.summary()\n"
      ],
      "metadata": {
        "colab": {
          "base_uri": "https://localhost:8080/"
        },
        "id": "x2WsYpfkOhoe",
        "outputId": "efdef5eb-148c-4a4f-e85c-0f7c91ea3be1"
      },
      "execution_count": 15,
      "outputs": [
        {
          "output_type": "stream",
          "name": "stdout",
          "text": [
            "A precisión co conxunto de validación: 0.653333306312561\n",
            "A precisión co conxunto de entrenamento: 0.9994999766349792\n",
            "Número de capas ocultas: 1\n",
            "Número de neuronas por capa: 60\n",
            "Función de activación: softmax\n",
            "Valor para o regularizador por norma L2: 0.001\n",
            "\n",
            "Model: \"sequential_110\"\n",
            "_________________________________________________________________\n",
            " Layer (type)                Output Shape              Param #   \n",
            "=================================================================\n",
            " dense_328 (Dense)           (None, 80)                40080     \n",
            "                                                                 \n",
            " dense_329 (Dense)           (None, 80)                6480      \n",
            "                                                                 \n",
            " dense_330 (Dense)           (None, 80)                6480      \n",
            "                                                                 \n",
            " dense_331 (Dense)           (None, 1)                 81        \n",
            "                                                                 \n",
            "=================================================================\n",
            "Total params: 53,121\n",
            "Trainable params: 53,121\n",
            "Non-trainable params: 0\n",
            "_________________________________________________________________\n"
          ]
        }
      ]
    },
    {
      "cell_type": "markdown",
      "source": [
        "Como podemos ver no mostrado aquí arriba, a precisión do mellor modelo co conxunto de entrenamento é de , mentres que co conxunto de validación é de 65.33%.\n",
        "Vendo en xeral os resultados da precisión en todos os modelos, podemos afirmar que hai un sobreentrenamento, xa que co conxunto de entrenamento da uns resultados moi bos (moitas veces un 100% de precisión), e co conxunto de validación non da en moitos casos nin un 60%, polo que a xeralización do modelo non é boa."
      ],
      "metadata": {
        "id": "ZGZVxF9P7Kb7"
      }
    },
    {
      "cell_type": "markdown",
      "source": [
        "## Visualiza os resultados\n",
        "\n",
        "Mostramos en gráficas a seguinte información:\n",
        "\n",
        "* **Regularización** vs **Número de capas**\n",
        "* **Regularización** vs **Número de unidades por capa**\n",
        "* **Número de capas** vs **Número de unidades por capa**\n",
        "\n",
        "Para os parámetros que non aparecen nos eixos, fixamos o do mellor modelo que obtivemos arriba."
      ],
      "metadata": {
        "id": "n-KaClz7DCC-"
      }
    },
    {
      "cell_type": "code",
      "source": [
        "import matplotlib.pyplot as plt\n",
        "from matplotlib import cm\n",
        "from matplotlib.ticker import LinearLocator\n",
        "import numpy as np\n",
        "\n",
        "def combinacions(capas, neuronas, L2, activacion, t_v):\n",
        "    # Función para crear a matriz Z que lle imos pasar ao plot, que contén os datos de precisión\n",
        "    Z = np.zeros((3, 3))\n",
        "    i = 0\n",
        "    j = 0\n",
        "    for x in capas:\n",
        "      for y in neuronas:\n",
        "        for w in L2:\n",
        "          for q in activacion:\n",
        "            v = dictResult[x][y][w][q][t_v]\n",
        "            Z[i, j] = v\n",
        "            j += 1\n",
        "            if j == 3:\n",
        "              j = 0\n",
        "              i += 1\n",
        "    return Z\n",
        "\n",
        "# Creamos as matrices de datos\n",
        "NcapasVSNumNeuronas_V = combinacions(Ncapas, NumNeuronas, [par_valL2], [par_FActiv], 0)\n",
        "NcapasVSRegularizador_V = combinacions(Ncapas, [par_neuronas], valL2, [par_FActiv], 0)\n",
        "NumNeuronasVSRegularizador_V = combinacions([par_capas], NumNeuronas, valL2, [par_FActiv], 0)\n",
        "\n",
        "NcapasVSNumNeuronas_T = combinacions(Ncapas, NumNeuronas, [par_valL2], [par_FActiv], 1)\n",
        "NcapasVSRegularizador_T = combinacions(Ncapas, [par_neuronas], valL2, [par_FActiv], 1)\n",
        "NumNeuronasVSRegularizador_T = combinacions([par_capas], NumNeuronas, valL2, [par_FActiv], 1)\n",
        "\n",
        "\n",
        "def grafica(x, y, z, titulo, vista_x, vista_y):\n",
        "  # Función para crear as gráficas\n",
        "  fig, ax = plt.subplots(subplot_kw={\"projection\": \"3d\"})\n",
        "  X = x\n",
        "  Y = y\n",
        "  X, Y = np.meshgrid(x, y)\n",
        "  Z = np.transpose(z)\n",
        "  surf = ax.plot_surface(X, Y, Z, cmap=cm.coolwarm, linewidth=0, antialiased=False)\n",
        "  plt.title(titulo)\n",
        "  ax.view_init(vista_x, vista_y)\n",
        "  fig.colorbar(surf, shrink=0.5, aspect=5)\n",
        "  plt.show()\n",
        "\n"
      ],
      "metadata": {
        "id": "qv9kxda0EHbi"
      },
      "execution_count": 17,
      "outputs": []
    },
    {
      "cell_type": "code",
      "source": [
        "grafica(Ncapas, NumNeuronas, NcapasVSNumNeuronas_T, 'Número de capas VS Número de neuronas (conxunto de train)', 0, 90) ######### esto no es train?"
      ],
      "metadata": {
        "colab": {
          "base_uri": "https://localhost:8080/",
          "height": 248
        },
        "id": "eyMNuAZp3Do4",
        "outputId": "92ef40ed-e6cd-40c4-d347-d3c1b70aece9"
      },
      "execution_count": 18,
      "outputs": [
        {
          "output_type": "display_data",
          "data": {
            "text/plain": [
              "<Figure size 432x288 with 2 Axes>"
            ],
            "image/png": "[encoded data removed]"
          },
          "metadata": {
            "needs_background": "light"
          }
        }
      ]
    },
    {
      "cell_type": "code",
      "source": [
        "grafica(Ncapas, NumNeuronas, NcapasVSNumNeuronas_V, 'Número de capas VS Número de neuronas (conxunto de validation)', 0, 45)"
      ],
      "metadata": {
        "colab": {
          "base_uri": "https://localhost:8080/",
          "height": 248
        },
        "id": "Y58z1xxaEFGW",
        "outputId": "06480095-2c99-41a8-f8e1-1bdcc8e045e9"
      },
      "execution_count": 19,
      "outputs": [
        {
          "output_type": "display_data",
          "data": {
            "text/plain": [
              "<Figure size 432x288 with 2 Axes>"
            ],
            "image/png": "[encoded data removed]"
          },
          "metadata": {
            "needs_background": "light"
          }
        }
      ]
    },
    {
      "cell_type": "code",
      "source": [
        "grafica(Ncapas, valL2, NcapasVSRegularizador_T, 'Número de capas VS Valor del regularizador (conxunto de train)', 10, 90)"
      ],
      "metadata": {
        "colab": {
          "base_uri": "https://localhost:8080/",
          "height": 248
        },
        "id": "39Q-z5EjqWqj",
        "outputId": "93d73779-97c3-41b2-a15d-4102daa64850"
      },
      "execution_count": 20,
      "outputs": [
        {
          "output_type": "display_data",
          "data": {
            "text/plain": [
              "<Figure size 432x288 with 2 Axes>"
            ],
            "image/png": "[encoded data removed]"
          },
          "metadata": {
            "needs_background": "light"
          }
        }
      ]
    },
    {
      "cell_type": "code",
      "source": [
        "grafica(Ncapas, valL2, NcapasVSRegularizador_V, 'Número de capas VS Valor del regularizador (conxunto de validation)', 0, 30)"
      ],
      "metadata": {
        "colab": {
          "base_uri": "https://localhost:8080/",
          "height": 248
        },
        "id": "LO0MsJT9FacI",
        "outputId": "eec4bed8-46b7-426a-9dac-1a7583196726"
      },
      "execution_count": 21,
      "outputs": [
        {
          "output_type": "display_data",
          "data": {
            "text/plain": [
              "<Figure size 432x288 with 2 Axes>"
            ],
            "image/png": "[encoded data removed]"
          },
          "metadata": {
            "needs_background": "light"
          }
        }
      ]
    },
    {
      "cell_type": "code",
      "source": [
        "grafica(NumNeuronas, valL2, NumNeuronasVSRegularizador_T, 'Número de neuronas VS Valor del regularizador (conxunto de train)', 0, 90)"
      ],
      "metadata": {
        "colab": {
          "base_uri": "https://localhost:8080/",
          "height": 248
        },
        "id": "4kC_fJ0B88iE",
        "outputId": "e18e3e73-10fb-4369-8649-1114750aa715"
      },
      "execution_count": 22,
      "outputs": [
        {
          "output_type": "display_data",
          "data": {
            "text/plain": [
              "<Figure size 432x288 with 2 Axes>"
            ],
            "image/png": "[encoded data removed]"
          },
          "metadata": {
            "needs_background": "light"
          }
        }
      ]
    },
    {
      "cell_type": "code",
      "source": [
        "grafica(NumNeuronas, valL2, NumNeuronasVSRegularizador_V, 'Número de neuronas VS Valor del regularizador (conxunto de validación)', 0, 75)"
      ],
      "metadata": {
        "colab": {
          "base_uri": "https://localhost:8080/",
          "height": 248
        },
        "id": "Vcjz6E60D9Sp",
        "outputId": "344fa176-4ac3-4a7a-ae1e-0c11f72526b4"
      },
      "execution_count": 23,
      "outputs": [
        {
          "output_type": "display_data",
          "data": {
            "text/plain": [
              "<Figure size 432x288 with 2 Axes>"
            ],
            "image/png": "[encoded data removed]"
          },
          "metadata": {
            "needs_background": "light"
          }
        }
      ]
    },
    {
      "cell_type": "markdown",
      "source": [
        "¿Qué crees que está causando a fluctuación nos resultados obtidos?\n",
        "\n",
        "Unha das problemáticas que podemos apreciar nestas gráficas é o sobreentrenamento mencionado antes. Vemos como nas gráficas correspondentes aos conxuntos de entrenamento, o accuracy máis alto é sempre 1 (ou prácticamente 1), mentres que nas do conxunto de validación non pasa de 0.65.\n",
        "Ademáis, nas gráficas de train o valor de accuracy alcanza o valor máximo nun plano, non nun só punto, o que quere dicir que é independente dalgún dos parámetros da gráfica. Por exemplo, na primeira gráfica (Número de capas VS Número de neuronas) o valor de accuracy é 1 para todos os valores do número de neuronas cando o valor do número de capas é 1."
      ],
      "metadata": {
        "id": "P5LBAe3-9M75"
      }
    }
  ]
}