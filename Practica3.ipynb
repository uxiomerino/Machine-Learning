{
  "nbformat": 4,
  "nbformat_minor": 0,
  "metadata": {
    "colab": {
      "provenance": []
    },
    "kernelspec": {
      "name": "python3",
      "display_name": "Python 3"
    },
    "language_info": {
      "name": "python"
    },
    "gpuClass": "standard"
  },
  "cells": [
    {
      "cell_type": "markdown",
      "source": [
        "# Práctica 3 - Predicción de secuencias\n",
        "Uxío Merino Currás, Nina López Laudenbach"
      ],
      "metadata": {
        "id": "2Mfrya3eSRF3"
      }
    },
    {
      "cell_type": "markdown",
      "source": [
        "Comenzamos importando los datos y cargando las librerías necesarias:"
      ],
      "metadata": {
        "id": "vGNtTb1uSmUM"
      }
    },
    {
      "cell_type": "code",
      "execution_count": null,
      "metadata": {
        "colab": {
          "base_uri": "https://localhost:8080/"
        },
        "id": "LnygpmSmMBIq",
        "outputId": "68f54ebc-9c5c-44c2-cdea-bc7fcaa41ccd"
      },
      "outputs": [
        {
          "output_type": "stream",
          "name": "stdout",
          "text": [
            "--2022-12-17 16:53:51--  https://udcgal.sharepoint.com/:u:/s/GCEDAprendizajeAutomaticoII/EW-oyZUCNkBMvy80CvRjlnABDl5jxrGj1JyXG3C2vr2xAA?e=fcHOnp&download=1\n",
            "Resolving udcgal.sharepoint.com (udcgal.sharepoint.com)... 13.107.136.8, 13.107.138.8, 2620:1ec:8f8::8, ...\n",
            "Connecting to udcgal.sharepoint.com (udcgal.sharepoint.com)|13.107.136.8|:443... connected.\n",
            "HTTP request sent, awaiting response... 302 Found\n",
            "Location: https://udcgal.sharepoint.com/sites/GCEDAprendizajeAutomaticoII/_layouts/15/download.aspx?UniqueId=95c9a86f36024c40bf2f340af4639670 [following]\n",
            "--2022-12-17 16:53:52--  https://udcgal.sharepoint.com/sites/GCEDAprendizajeAutomaticoII/_layouts/15/download.aspx?UniqueId=95c9a86f36024c40bf2f340af4639670\n",
            "Reusing existing connection to udcgal.sharepoint.com:443.\n",
            "HTTP request sent, awaiting response... 200 OK\n",
            "Length: 9312908 (8.9M) [application/json]\n",
            "Saving to: ‘data.json’\n",
            "\n",
            "data.json           100%[===================>]   8.88M  6.33MB/s    in 1.4s    \n",
            "\n",
            "2022-12-17 16:53:54 (6.33 MB/s) - ‘data.json’ saved [9312908/9312908]\n",
            "\n"
          ]
        }
      ],
      "source": [
        "import json\n",
        "import numpy as np\n",
        "\n",
        "# Cargamos os datos utilizando a liña de código dada\n",
        "!wget \"https://udcgal.sharepoint.com/:u:/s/GCEDAprendizajeAutomaticoII/EW-oyZUCNkBMvy80CvRjlnABDl5jxrGj1JyXG3C2vr2xAA?e=fcHOnp&download=1\" -O data.json\n",
        "\n",
        "with open('/content/data.json') as file:\n",
        "    dataset = json.load(file)"
      ]
    },
    {
      "cell_type": "code",
      "source": [
        "import pandas as pd\n",
        "import datetime\n",
        "\n",
        "# Transformamos a lista nun DataFrame para continuar co seu tratamento\n",
        "df = pd.DataFrame(dataset)"
      ],
      "metadata": {
        "id": "0Gl0slmAMKnE"
      },
      "execution_count": null,
      "outputs": []
    },
    {
      "cell_type": "markdown",
      "source": [
        "## Exploración de los datos\n",
        "Echamos un vistazo a los datos (solo a los primeros):"
      ],
      "metadata": {
        "id": "2mtiywHSMRcx"
      }
    },
    {
      "cell_type": "code",
      "source": [
        "df.head()"
      ],
      "metadata": {
        "colab": {
          "base_uri": "https://localhost:8080/"
        },
        "id": "7lAgSIx6MVM9",
        "outputId": "9d0d7794-ef1a-4ee9-940c-92f1b151aa2e"
      },
      "execution_count": null,
      "outputs": [
        {
          "output_type": "execute_result",
          "data": {
            "text/plain": [
              "   timestamp inicial precio inicio precio mas alto precio mas bajo  \\\n",
              "0      1578038400000    1.11540000      1.12000000      1.11540000   \n",
              "1      1578042000000    1.11820000      1.11820000      1.11510000   \n",
              "2      1578045600000    1.11510000      1.11720000      1.11510000   \n",
              "3      1578049200000    1.11360000      1.11510000      1.11360000   \n",
              "4      1578052800000    1.11260000      1.11330000      1.11260000   \n",
              "\n",
              "   precio fin         volumen  timestamp final volumen en cuotas  \\\n",
              "0  1.11820000  37309.48000000    1578041999999    41775.46427500   \n",
              "1  1.11510000   2132.61000000    1578045599999     2384.43129200   \n",
              "2  1.11510000   1950.83000000    1578049199999     2175.39153300   \n",
              "3  1.11410000    310.53000000    1578052799999      346.10743800   \n",
              "4  1.11330000    394.52000000    1578056399999      439.13042800   \n",
              "\n",
              "   numero de compras volumen de dolares volumen de euros  \n",
              "0                 31     20419.46000000   22858.82235600  \n",
              "1                  5      2036.69000000    2277.40107500  \n",
              "2                  4        10.00000000      11.17200000  \n",
              "3                  4       232.00000000     258.65643000  \n",
              "4                  3         0.00000000       0.00000000  "
            ],
            "text/html": [
              "\n",
              "  <div id=\"df-09806b6d-dab9-4228-bbf1-6ffa85bbbc77\">\n",
              "    <div class=\"colab-df-container\">\n",
              "      <div>\n",
              "<style scoped>\n",
              "    .dataframe tbody tr th:only-of-type {\n",
              "        vertical-align: middle;\n",
              "    }\n",
              "\n",
              "    .dataframe tbody tr th {\n",
              "        vertical-align: top;\n",
              "    }\n",
              "\n",
              "    .dataframe thead th {\n",
              "        text-align: right;\n",
              "    }\n",
              "</style>\n",
              "<table border=\"1\" class=\"dataframe\">\n",
              "  <thead>\n",
              "    <tr style=\"text-align: right;\">\n",
              "      <th></th>\n",
              "      <th>timestamp inicial</th>\n",
              "      <th>precio inicio</th>\n",
              "      <th>precio mas alto</th>\n",
              "      <th>precio mas bajo</th>\n",
              "      <th>precio fin</th>\n",
              "      <th>volumen</th>\n",
              "      <th>timestamp final</th>\n",
              "      <th>volumen en cuotas</th>\n",
              "      <th>numero de compras</th>\n",
              "      <th>volumen de dolares</th>\n",
              "      <th>volumen de euros</th>\n",
              "    </tr>\n",
              "  </thead>\n",
              "  <tbody>\n",
              "    <tr>\n",
              "      <th>0</th>\n",
              "      <td>1578038400000</td>\n",
              "      <td>1.11540000</td>\n",
              "      <td>1.12000000</td>\n",
              "      <td>1.11540000</td>\n",
              "      <td>1.11820000</td>\n",
              "      <td>37309.48000000</td>\n",
              "      <td>1578041999999</td>\n",
              "      <td>41775.46427500</td>\n",
              "      <td>31</td>\n",
              "      <td>20419.46000000</td>\n",
              "      <td>22858.82235600</td>\n",
              "    </tr>\n",
              "    <tr>\n",
              "      <th>1</th>\n",
              "      <td>1578042000000</td>\n",
              "      <td>1.11820000</td>\n",
              "      <td>1.11820000</td>\n",
              "      <td>1.11510000</td>\n",
              "      <td>1.11510000</td>\n",
              "      <td>2132.61000000</td>\n",
              "      <td>1578045599999</td>\n",
              "      <td>2384.43129200</td>\n",
              "      <td>5</td>\n",
              "      <td>2036.69000000</td>\n",
              "      <td>2277.40107500</td>\n",
              "    </tr>\n",
              "    <tr>\n",
              "      <th>2</th>\n",
              "      <td>1578045600000</td>\n",
              "      <td>1.11510000</td>\n",
              "      <td>1.11720000</td>\n",
              "      <td>1.11510000</td>\n",
              "      <td>1.11510000</td>\n",
              "      <td>1950.83000000</td>\n",
              "      <td>1578049199999</td>\n",
              "      <td>2175.39153300</td>\n",
              "      <td>4</td>\n",
              "      <td>10.00000000</td>\n",
              "      <td>11.17200000</td>\n",
              "    </tr>\n",
              "    <tr>\n",
              "      <th>3</th>\n",
              "      <td>1578049200000</td>\n",
              "      <td>1.11360000</td>\n",
              "      <td>1.11510000</td>\n",
              "      <td>1.11360000</td>\n",
              "      <td>1.11410000</td>\n",
              "      <td>310.53000000</td>\n",
              "      <td>1578052799999</td>\n",
              "      <td>346.10743800</td>\n",
              "      <td>4</td>\n",
              "      <td>232.00000000</td>\n",
              "      <td>258.65643000</td>\n",
              "    </tr>\n",
              "    <tr>\n",
              "      <th>4</th>\n",
              "      <td>1578052800000</td>\n",
              "      <td>1.11260000</td>\n",
              "      <td>1.11330000</td>\n",
              "      <td>1.11260000</td>\n",
              "      <td>1.11330000</td>\n",
              "      <td>394.52000000</td>\n",
              "      <td>1578056399999</td>\n",
              "      <td>439.13042800</td>\n",
              "      <td>3</td>\n",
              "      <td>0.00000000</td>\n",
              "      <td>0.00000000</td>\n",
              "    </tr>\n",
              "  </tbody>\n",
              "</table>\n",
              "</div>\n",
              "      <button class=\"colab-df-convert\" onclick=\"convertToInteractive('df-09806b6d-dab9-4228-bbf1-6ffa85bbbc77')\"\n",
              "              title=\"Convert this dataframe to an interactive table.\"\n",
              "              style=\"display:none;\">\n",
              "        \n",
              "  <svg xmlns=\"http://www.w3.org/2000/svg\" height=\"24px\"viewBox=\"0 0 24 24\"\n",
              "       width=\"24px\">\n",
              "    <path d=\"M0 0h24v24H0V0z\" fill=\"none\"/>\n",
              "    <path d=\"M18.56 5.44l.94 2.06.94-2.06 2.06-.94-2.06-.94-.94-2.06-.94 2.06-2.06.94zm-11 1L8.5 8.5l.94-2.06 2.06-.94-2.06-.94L8.5 2.5l-.94 2.06-2.06.94zm10 10l.94 2.06.94-2.06 2.06-.94-2.06-.94-.94-2.06-.94 2.06-2.06.94z\"/><path d=\"M17.41 7.96l-1.37-1.37c-.4-.4-.92-.59-1.43-.59-.52 0-1.04.2-1.43.59L10.3 9.45l-7.72 7.72c-.78.78-.78 2.05 0 2.83L4 21.41c.39.39.9.59 1.41.59.51 0 1.02-.2 1.41-.59l7.78-7.78 2.81-2.81c.8-.78.8-2.07 0-2.86zM5.41 20L4 18.59l7.72-7.72 1.47 1.35L5.41 20z\"/>\n",
              "  </svg>\n",
              "      </button>\n",
              "      \n",
              "  <style>\n",
              "    .colab-df-container {\n",
              "      display:flex;\n",
              "      flex-wrap:wrap;\n",
              "      gap: 12px;\n",
              "    }\n",
              "\n",
              "    .colab-df-convert {\n",
              "      background-color: #E8F0FE;\n",
              "      border: none;\n",
              "      border-radius: 50%;\n",
              "      cursor: pointer;\n",
              "      display: none;\n",
              "      fill: #1967D2;\n",
              "      height: 32px;\n",
              "      padding: 0 0 0 0;\n",
              "      width: 32px;\n",
              "    }\n",
              "\n",
              "    .colab-df-convert:hover {\n",
              "      background-color: #E2EBFA;\n",
              "      box-shadow: 0px 1px 2px rgba(60, 64, 67, 0.3), 0px 1px 3px 1px rgba(60, 64, 67, 0.15);\n",
              "      fill: #174EA6;\n",
              "    }\n",
              "\n",
              "    [theme=dark] .colab-df-convert {\n",
              "      background-color: #3B4455;\n",
              "      fill: #D2E3FC;\n",
              "    }\n",
              "\n",
              "    [theme=dark] .colab-df-convert:hover {\n",
              "      background-color: #434B5C;\n",
              "      box-shadow: 0px 1px 3px 1px rgba(0, 0, 0, 0.15);\n",
              "      filter: drop-shadow(0px 1px 2px rgba(0, 0, 0, 0.3));\n",
              "      fill: #FFFFFF;\n",
              "    }\n",
              "  </style>\n",
              "\n",
              "      <script>\n",
              "        const buttonEl =\n",
              "          document.querySelector('#df-09806b6d-dab9-4228-bbf1-6ffa85bbbc77 button.colab-df-convert');\n",
              "        buttonEl.style.display =\n",
              "          google.colab.kernel.accessAllowed ? 'block' : 'none';\n",
              "\n",
              "        async function convertToInteractive(key) {\n",
              "          const element = document.querySelector('#df-09806b6d-dab9-4228-bbf1-6ffa85bbbc77');\n",
              "          const dataTable =\n",
              "            await google.colab.kernel.invokeFunction('convertToInteractive',\n",
              "                                                     [key], {});\n",
              "          if (!dataTable) return;\n",
              "\n",
              "          const docLinkHtml = 'Like what you see? Visit the ' +\n",
              "            '<a target=\"_blank\" href=https://colab.research.google.com/notebooks/data_table.ipynb>data table notebook</a>'\n",
              "            + ' to learn more about interactive tables.';\n",
              "          element.innerHTML = '';\n",
              "          dataTable['output_type'] = 'display_data';\n",
              "          await google.colab.output.renderOutput(dataTable, element);\n",
              "          const docLink = document.createElement('div');\n",
              "          docLink.innerHTML = docLinkHtml;\n",
              "          element.appendChild(docLink);\n",
              "        }\n",
              "      </script>\n",
              "    </div>\n",
              "  </div>\n",
              "  "
            ]
          },
          "metadata": {},
          "execution_count": 102
        }
      ]
    },
    {
      "cell_type": "markdown",
      "source": [
        "Para cada fila se guardan 11 variables relacionadas con el precio del dolar en euros: Podemos ver variables relacionadas con la fecha de modificación (para cada hora hay una fila), así como con el precio que tiene el dólar en euros (al principio, al final, el más alto y el más bajo), además podemos ver la cantidad de cambios (compras) que se hicieron y el volumen de los intercambios"
      ],
      "metadata": {
        "id": "AtBF34YfWqD6"
      }
    },
    {
      "cell_type": "markdown",
      "source": [
        "Vamos a comprobar también que no hay ningún nulo en ninguna de las columnas con la función df.info(). Como podemos ver, esta indica que hay 24970 no nulos en cada columna que es igual al número de datos, por lo que no tenemos nulos"
      ],
      "metadata": {
        "id": "eVIQwFSxUpsK"
      }
    },
    {
      "cell_type": "code",
      "source": [
        "df.info()"
      ],
      "metadata": {
        "colab": {
          "base_uri": "https://localhost:8080/"
        },
        "id": "vmX2rezlUfy5",
        "outputId": "777fa0b7-7f76-42bb-8790-89fb5702cebf"
      },
      "execution_count": null,
      "outputs": [
        {
          "output_type": "stream",
          "name": "stdout",
          "text": [
            "<class 'pandas.core.frame.DataFrame'>\n",
            "RangeIndex: 24970 entries, 0 to 24969\n",
            "Data columns (total 11 columns):\n",
            " #   Column              Non-Null Count  Dtype \n",
            "---  ------              --------------  ----- \n",
            " 0   timestamp inicial   24970 non-null  int64 \n",
            " 1   precio inicio       24970 non-null  object\n",
            " 2   precio mas alto     24970 non-null  object\n",
            " 3   precio mas bajo     24970 non-null  object\n",
            " 4   precio fin          24970 non-null  object\n",
            " 5   volumen             24970 non-null  object\n",
            " 6   timestamp final     24970 non-null  int64 \n",
            " 7   volumen en cuotas   24970 non-null  object\n",
            " 8   numero de compras   24970 non-null  int64 \n",
            " 9   volumen de dolares  24970 non-null  object\n",
            " 10  volumen de euros    24970 non-null  object\n",
            "dtypes: int64(3), object(8)\n",
            "memory usage: 2.1+ MB\n"
          ]
        }
      ]
    },
    {
      "cell_type": "markdown",
      "source": [
        "Le echamos un vistazo a las estadísticas de los datos:"
      ],
      "metadata": {
        "id": "ylbO8iX-PwyN"
      }
    },
    {
      "cell_type": "code",
      "source": [
        "df.describe().transpose()"
      ],
      "metadata": {
        "colab": {
          "base_uri": "https://localhost:8080/"
        },
        "id": "GQTdoJ9GPLU5",
        "outputId": "b2c3905d-1e6b-41d8-c99b-685bd60c3f5e"
      },
      "execution_count": null,
      "outputs": [
        {
          "output_type": "execute_result",
          "data": {
            "text/plain": [
              "                     count          mean           std           min  \\\n",
              "timestamp inicial  24970.0  1.623060e+12  2.598402e+10  1.578038e+12   \n",
              "timestamp final    24970.0  1.623063e+12  2.598402e+10  1.578042e+12   \n",
              "numero de compras  24970.0  3.249636e+03  4.291602e+03  0.000000e+00   \n",
              "\n",
              "                            25%           50%           75%           max  \n",
              "timestamp inicial  1.600554e+12  1.623073e+12  1.645566e+12  1.668038e+12  \n",
              "timestamp final    1.600557e+12  1.623076e+12  1.645570e+12  1.668042e+12  \n",
              "numero de compras  2.980000e+02  2.046000e+03  4.215000e+03  5.391700e+04  "
            ],
            "text/html": [
              "\n",
              "  <div id=\"df-c6a7b28f-4c4b-4e35-b960-af9d9b45b4ea\">\n",
              "    <div class=\"colab-df-container\">\n",
              "      <div>\n",
              "<style scoped>\n",
              "    .dataframe tbody tr th:only-of-type {\n",
              "        vertical-align: middle;\n",
              "    }\n",
              "\n",
              "    .dataframe tbody tr th {\n",
              "        vertical-align: top;\n",
              "    }\n",
              "\n",
              "    .dataframe thead th {\n",
              "        text-align: right;\n",
              "    }\n",
              "</style>\n",
              "<table border=\"1\" class=\"dataframe\">\n",
              "  <thead>\n",
              "    <tr style=\"text-align: right;\">\n",
              "      <th></th>\n",
              "      <th>count</th>\n",
              "      <th>mean</th>\n",
              "      <th>std</th>\n",
              "      <th>min</th>\n",
              "      <th>25%</th>\n",
              "      <th>50%</th>\n",
              "      <th>75%</th>\n",
              "      <th>max</th>\n",
              "    </tr>\n",
              "  </thead>\n",
              "  <tbody>\n",
              "    <tr>\n",
              "      <th>timestamp inicial</th>\n",
              "      <td>24970.0</td>\n",
              "      <td>1.623060e+12</td>\n",
              "      <td>2.598402e+10</td>\n",
              "      <td>1.578038e+12</td>\n",
              "      <td>1.600554e+12</td>\n",
              "      <td>1.623073e+12</td>\n",
              "      <td>1.645566e+12</td>\n",
              "      <td>1.668038e+12</td>\n",
              "    </tr>\n",
              "    <tr>\n",
              "      <th>timestamp final</th>\n",
              "      <td>24970.0</td>\n",
              "      <td>1.623063e+12</td>\n",
              "      <td>2.598402e+10</td>\n",
              "      <td>1.578042e+12</td>\n",
              "      <td>1.600557e+12</td>\n",
              "      <td>1.623076e+12</td>\n",
              "      <td>1.645570e+12</td>\n",
              "      <td>1.668042e+12</td>\n",
              "    </tr>\n",
              "    <tr>\n",
              "      <th>numero de compras</th>\n",
              "      <td>24970.0</td>\n",
              "      <td>3.249636e+03</td>\n",
              "      <td>4.291602e+03</td>\n",
              "      <td>0.000000e+00</td>\n",
              "      <td>2.980000e+02</td>\n",
              "      <td>2.046000e+03</td>\n",
              "      <td>4.215000e+03</td>\n",
              "      <td>5.391700e+04</td>\n",
              "    </tr>\n",
              "  </tbody>\n",
              "</table>\n",
              "</div>\n",
              "      <button class=\"colab-df-convert\" onclick=\"convertToInteractive('df-c6a7b28f-4c4b-4e35-b960-af9d9b45b4ea')\"\n",
              "              title=\"Convert this dataframe to an interactive table.\"\n",
              "              style=\"display:none;\">\n",
              "        \n",
              "  <svg xmlns=\"http://www.w3.org/2000/svg\" height=\"24px\"viewBox=\"0 0 24 24\"\n",
              "       width=\"24px\">\n",
              "    <path d=\"M0 0h24v24H0V0z\" fill=\"none\"/>\n",
              "    <path d=\"M18.56 5.44l.94 2.06.94-2.06 2.06-.94-2.06-.94-.94-2.06-.94 2.06-2.06.94zm-11 1L8.5 8.5l.94-2.06 2.06-.94-2.06-.94L8.5 2.5l-.94 2.06-2.06.94zm10 10l.94 2.06.94-2.06 2.06-.94-2.06-.94-.94-2.06-.94 2.06-2.06.94z\"/><path d=\"M17.41 7.96l-1.37-1.37c-.4-.4-.92-.59-1.43-.59-.52 0-1.04.2-1.43.59L10.3 9.45l-7.72 7.72c-.78.78-.78 2.05 0 2.83L4 21.41c.39.39.9.59 1.41.59.51 0 1.02-.2 1.41-.59l7.78-7.78 2.81-2.81c.8-.78.8-2.07 0-2.86zM5.41 20L4 18.59l7.72-7.72 1.47 1.35L5.41 20z\"/>\n",
              "  </svg>\n",
              "      </button>\n",
              "      \n",
              "  <style>\n",
              "    .colab-df-container {\n",
              "      display:flex;\n",
              "      flex-wrap:wrap;\n",
              "      gap: 12px;\n",
              "    }\n",
              "\n",
              "    .colab-df-convert {\n",
              "      background-color: #E8F0FE;\n",
              "      border: none;\n",
              "      border-radius: 50%;\n",
              "      cursor: pointer;\n",
              "      display: none;\n",
              "      fill: #1967D2;\n",
              "      height: 32px;\n",
              "      padding: 0 0 0 0;\n",
              "      width: 32px;\n",
              "    }\n",
              "\n",
              "    .colab-df-convert:hover {\n",
              "      background-color: #E2EBFA;\n",
              "      box-shadow: 0px 1px 2px rgba(60, 64, 67, 0.3), 0px 1px 3px 1px rgba(60, 64, 67, 0.15);\n",
              "      fill: #174EA6;\n",
              "    }\n",
              "\n",
              "    [theme=dark] .colab-df-convert {\n",
              "      background-color: #3B4455;\n",
              "      fill: #D2E3FC;\n",
              "    }\n",
              "\n",
              "    [theme=dark] .colab-df-convert:hover {\n",
              "      background-color: #434B5C;\n",
              "      box-shadow: 0px 1px 3px 1px rgba(0, 0, 0, 0.15);\n",
              "      filter: drop-shadow(0px 1px 2px rgba(0, 0, 0, 0.3));\n",
              "      fill: #FFFFFF;\n",
              "    }\n",
              "  </style>\n",
              "\n",
              "      <script>\n",
              "        const buttonEl =\n",
              "          document.querySelector('#df-c6a7b28f-4c4b-4e35-b960-af9d9b45b4ea button.colab-df-convert');\n",
              "        buttonEl.style.display =\n",
              "          google.colab.kernel.accessAllowed ? 'block' : 'none';\n",
              "\n",
              "        async function convertToInteractive(key) {\n",
              "          const element = document.querySelector('#df-c6a7b28f-4c4b-4e35-b960-af9d9b45b4ea');\n",
              "          const dataTable =\n",
              "            await google.colab.kernel.invokeFunction('convertToInteractive',\n",
              "                                                     [key], {});\n",
              "          if (!dataTable) return;\n",
              "\n",
              "          const docLinkHtml = 'Like what you see? Visit the ' +\n",
              "            '<a target=\"_blank\" href=https://colab.research.google.com/notebooks/data_table.ipynb>data table notebook</a>'\n",
              "            + ' to learn more about interactive tables.';\n",
              "          element.innerHTML = '';\n",
              "          dataTable['output_type'] = 'display_data';\n",
              "          await google.colab.output.renderOutput(dataTable, element);\n",
              "          const docLink = document.createElement('div');\n",
              "          docLink.innerHTML = docLinkHtml;\n",
              "          element.appendChild(docLink);\n",
              "        }\n",
              "      </script>\n",
              "    </div>\n",
              "  </div>\n",
              "  "
            ]
          },
          "metadata": {},
          "execution_count": 104
        }
      ]
    },
    {
      "cell_type": "markdown",
      "source": [
        "Como vemos, muchos datos no aparecen en las estadísticas. Esto es porque no son de tipo numérico, sino que son una cadena de texto (en Pandas esto es 'object'). Esto podemos verlo también en la salida de la función df.info()\n",
        "\n",
        "Para poder trabajar con estos datos, a continuación vamos a pasarlos todos a tipo numérico. Para esto usamos la siguiente función que va a cambiar todos los tipos de datos, pero no importa mientras todos sean numéricos "
      ],
      "metadata": {
        "id": "27jlwPf9P5ap"
      }
    },
    {
      "cell_type": "code",
      "source": [
        "# Cambiamos el tipo de dato\n",
        "df = df.astype('float64') "
      ],
      "metadata": {
        "id": "QsLc7xY5SFoF"
      },
      "execution_count": null,
      "outputs": []
    },
    {
      "cell_type": "markdown",
      "source": [
        "## Modificación de la fecha\n",
        "Como vemos, los timestamps están indicados con ms, por lo que para saber a qué fecha se corresponden tendremos que transformarlos a otro tipo de dato. \n",
        "\n",
        "Necesitamos esto para poder dividir el conjunto total en entrenamiento y test según las fechas indicadas en el enunciado de la práctica.\n",
        "\n",
        "Como el timestamp inicial y el final son prácticamente iguales (varían por un segundo) consideramos que a la hora de entrenar, aportan la misma información a la red para ayudar a predecir, por lo que nos quedamos solamente con el timestamp inicial"
      ],
      "metadata": {
        "id": "v1ycRwdFY00A"
      }
    },
    {
      "cell_type": "code",
      "source": [
        "# Eliminamos la columna correspondiente al timestamp final\n",
        "df = df.drop(['timestamp final'], axis=1)\n",
        "\n",
        "# Guardamos el timestamp en formato datetime\n",
        "df['timestamp inicial'] = pd.to_datetime(df['timestamp inicial'], unit = 'ms')\n",
        "\n",
        "df.head()"
      ],
      "metadata": {
        "colab": {
          "base_uri": "https://localhost:8080/",
          "height": 206
        },
        "id": "ZPa-DCtOZc-d",
        "outputId": "e7d8931c-f0a6-42b2-a209-620d5785f8aa"
      },
      "execution_count": null,
      "outputs": [
        {
          "output_type": "execute_result",
          "data": {
            "text/plain": [
              "    timestamp inicial  precio inicio  precio mas alto  precio mas bajo  \\\n",
              "0 2020-01-03 08:00:00         1.1154           1.1200           1.1154   \n",
              "1 2020-01-03 09:00:00         1.1182           1.1182           1.1151   \n",
              "2 2020-01-03 10:00:00         1.1151           1.1172           1.1151   \n",
              "3 2020-01-03 11:00:00         1.1136           1.1151           1.1136   \n",
              "4 2020-01-03 12:00:00         1.1126           1.1133           1.1126   \n",
              "\n",
              "   precio fin   volumen  volumen en cuotas  numero de compras  \\\n",
              "0      1.1182  37309.48       41775.464275               31.0   \n",
              "1      1.1151   2132.61        2384.431292                5.0   \n",
              "2      1.1151   1950.83        2175.391533                4.0   \n",
              "3      1.1141    310.53         346.107438                4.0   \n",
              "4      1.1133    394.52         439.130428                3.0   \n",
              "\n",
              "   volumen de dolares  volumen de euros  \n",
              "0            20419.46      22858.822356  \n",
              "1             2036.69       2277.401075  \n",
              "2               10.00         11.172000  \n",
              "3              232.00        258.656430  \n",
              "4                0.00          0.000000  "
            ],
            "text/html": [
              "\n",
              "  <div id=\"df-39f02a23-699a-43a2-89f5-0830d789fd70\">\n",
              "    <div class=\"colab-df-container\">\n",
              "      <div>\n",
              "<style scoped>\n",
              "    .dataframe tbody tr th:only-of-type {\n",
              "        vertical-align: middle;\n",
              "    }\n",
              "\n",
              "    .dataframe tbody tr th {\n",
              "        vertical-align: top;\n",
              "    }\n",
              "\n",
              "    .dataframe thead th {\n",
              "        text-align: right;\n",
              "    }\n",
              "</style>\n",
              "<table border=\"1\" class=\"dataframe\">\n",
              "  <thead>\n",
              "    <tr style=\"text-align: right;\">\n",
              "      <th></th>\n",
              "      <th>timestamp inicial</th>\n",
              "      <th>precio inicio</th>\n",
              "      <th>precio mas alto</th>\n",
              "      <th>precio mas bajo</th>\n",
              "      <th>precio fin</th>\n",
              "      <th>volumen</th>\n",
              "      <th>volumen en cuotas</th>\n",
              "      <th>numero de compras</th>\n",
              "      <th>volumen de dolares</th>\n",
              "      <th>volumen de euros</th>\n",
              "    </tr>\n",
              "  </thead>\n",
              "  <tbody>\n",
              "    <tr>\n",
              "      <th>0</th>\n",
              "      <td>2020-01-03 08:00:00</td>\n",
              "      <td>1.1154</td>\n",
              "      <td>1.1200</td>\n",
              "      <td>1.1154</td>\n",
              "      <td>1.1182</td>\n",
              "      <td>37309.48</td>\n",
              "      <td>41775.464275</td>\n",
              "      <td>31.0</td>\n",
              "      <td>20419.46</td>\n",
              "      <td>22858.822356</td>\n",
              "    </tr>\n",
              "    <tr>\n",
              "      <th>1</th>\n",
              "      <td>2020-01-03 09:00:00</td>\n",
              "      <td>1.1182</td>\n",
              "      <td>1.1182</td>\n",
              "      <td>1.1151</td>\n",
              "      <td>1.1151</td>\n",
              "      <td>2132.61</td>\n",
              "      <td>2384.431292</td>\n",
              "      <td>5.0</td>\n",
              "      <td>2036.69</td>\n",
              "      <td>2277.401075</td>\n",
              "    </tr>\n",
              "    <tr>\n",
              "      <th>2</th>\n",
              "      <td>2020-01-03 10:00:00</td>\n",
              "      <td>1.1151</td>\n",
              "      <td>1.1172</td>\n",
              "      <td>1.1151</td>\n",
              "      <td>1.1151</td>\n",
              "      <td>1950.83</td>\n",
              "      <td>2175.391533</td>\n",
              "      <td>4.0</td>\n",
              "      <td>10.00</td>\n",
              "      <td>11.172000</td>\n",
              "    </tr>\n",
              "    <tr>\n",
              "      <th>3</th>\n",
              "      <td>2020-01-03 11:00:00</td>\n",
              "      <td>1.1136</td>\n",
              "      <td>1.1151</td>\n",
              "      <td>1.1136</td>\n",
              "      <td>1.1141</td>\n",
              "      <td>310.53</td>\n",
              "      <td>346.107438</td>\n",
              "      <td>4.0</td>\n",
              "      <td>232.00</td>\n",
              "      <td>258.656430</td>\n",
              "    </tr>\n",
              "    <tr>\n",
              "      <th>4</th>\n",
              "      <td>2020-01-03 12:00:00</td>\n",
              "      <td>1.1126</td>\n",
              "      <td>1.1133</td>\n",
              "      <td>1.1126</td>\n",
              "      <td>1.1133</td>\n",
              "      <td>394.52</td>\n",
              "      <td>439.130428</td>\n",
              "      <td>3.0</td>\n",
              "      <td>0.00</td>\n",
              "      <td>0.000000</td>\n",
              "    </tr>\n",
              "  </tbody>\n",
              "</table>\n",
              "</div>\n",
              "      <button class=\"colab-df-convert\" onclick=\"convertToInteractive('df-39f02a23-699a-43a2-89f5-0830d789fd70')\"\n",
              "              title=\"Convert this dataframe to an interactive table.\"\n",
              "              style=\"display:none;\">\n",
              "        \n",
              "  <svg xmlns=\"http://www.w3.org/2000/svg\" height=\"24px\"viewBox=\"0 0 24 24\"\n",
              "       width=\"24px\">\n",
              "    <path d=\"M0 0h24v24H0V0z\" fill=\"none\"/>\n",
              "    <path d=\"M18.56 5.44l.94 2.06.94-2.06 2.06-.94-2.06-.94-.94-2.06-.94 2.06-2.06.94zm-11 1L8.5 8.5l.94-2.06 2.06-.94-2.06-.94L8.5 2.5l-.94 2.06-2.06.94zm10 10l.94 2.06.94-2.06 2.06-.94-2.06-.94-.94-2.06-.94 2.06-2.06.94z\"/><path d=\"M17.41 7.96l-1.37-1.37c-.4-.4-.92-.59-1.43-.59-.52 0-1.04.2-1.43.59L10.3 9.45l-7.72 7.72c-.78.78-.78 2.05 0 2.83L4 21.41c.39.39.9.59 1.41.59.51 0 1.02-.2 1.41-.59l7.78-7.78 2.81-2.81c.8-.78.8-2.07 0-2.86zM5.41 20L4 18.59l7.72-7.72 1.47 1.35L5.41 20z\"/>\n",
              "  </svg>\n",
              "      </button>\n",
              "      \n",
              "  <style>\n",
              "    .colab-df-container {\n",
              "      display:flex;\n",
              "      flex-wrap:wrap;\n",
              "      gap: 12px;\n",
              "    }\n",
              "\n",
              "    .colab-df-convert {\n",
              "      background-color: #E8F0FE;\n",
              "      border: none;\n",
              "      border-radius: 50%;\n",
              "      cursor: pointer;\n",
              "      display: none;\n",
              "      fill: #1967D2;\n",
              "      height: 32px;\n",
              "      padding: 0 0 0 0;\n",
              "      width: 32px;\n",
              "    }\n",
              "\n",
              "    .colab-df-convert:hover {\n",
              "      background-color: #E2EBFA;\n",
              "      box-shadow: 0px 1px 2px rgba(60, 64, 67, 0.3), 0px 1px 3px 1px rgba(60, 64, 67, 0.15);\n",
              "      fill: #174EA6;\n",
              "    }\n",
              "\n",
              "    [theme=dark] .colab-df-convert {\n",
              "      background-color: #3B4455;\n",
              "      fill: #D2E3FC;\n",
              "    }\n",
              "\n",
              "    [theme=dark] .colab-df-convert:hover {\n",
              "      background-color: #434B5C;\n",
              "      box-shadow: 0px 1px 3px 1px rgba(0, 0, 0, 0.15);\n",
              "      filter: drop-shadow(0px 1px 2px rgba(0, 0, 0, 0.3));\n",
              "      fill: #FFFFFF;\n",
              "    }\n",
              "  </style>\n",
              "\n",
              "      <script>\n",
              "        const buttonEl =\n",
              "          document.querySelector('#df-39f02a23-699a-43a2-89f5-0830d789fd70 button.colab-df-convert');\n",
              "        buttonEl.style.display =\n",
              "          google.colab.kernel.accessAllowed ? 'block' : 'none';\n",
              "\n",
              "        async function convertToInteractive(key) {\n",
              "          const element = document.querySelector('#df-39f02a23-699a-43a2-89f5-0830d789fd70');\n",
              "          const dataTable =\n",
              "            await google.colab.kernel.invokeFunction('convertToInteractive',\n",
              "                                                     [key], {});\n",
              "          if (!dataTable) return;\n",
              "\n",
              "          const docLinkHtml = 'Like what you see? Visit the ' +\n",
              "            '<a target=\"_blank\" href=https://colab.research.google.com/notebooks/data_table.ipynb>data table notebook</a>'\n",
              "            + ' to learn more about interactive tables.';\n",
              "          element.innerHTML = '';\n",
              "          dataTable['output_type'] = 'display_data';\n",
              "          await google.colab.output.renderOutput(dataTable, element);\n",
              "          const docLink = document.createElement('div');\n",
              "          docLink.innerHTML = docLinkHtml;\n",
              "          element.appendChild(docLink);\n",
              "        }\n",
              "      </script>\n",
              "    </div>\n",
              "  </div>\n",
              "  "
            ]
          },
          "metadata": {},
          "execution_count": 106
        }
      ]
    },
    {
      "cell_type": "markdown",
      "source": [
        "A continuación, en vez de guardar el timestamp en s para entrenar, los transformamos para tener en cuenta la periodicidad de los datos, tanto por horas como por días.\n",
        "Para esto se hace uso del seno y del coseno al igual que en el laboratorio 9."
      ],
      "metadata": {
        "id": "PbSodilpeYDA"
      }
    },
    {
      "cell_type": "code",
      "source": [
        "# Los volvemos a obtener pero en s en vez de ms para facilitarnos los cálculos y los guardamos en una variable\n",
        "timestamp_inicial_s = df['timestamp inicial'].map(pd.Timestamp.timestamp)\n",
        "\n",
        "# Obtenemos el número de s por día y por año\n",
        "day = 24*60*60\n",
        "year = day * 365\n",
        "\n",
        "# Realizamos la conversión\n",
        "# Para ello primero los pasamos a radianes\n",
        "Day_inicial_rad = (timestamp_inicial_s/day)*2*np.pi\n",
        "Ano_inicial_rad = (timestamp_inicial_s/year)*2*np.pi\n",
        "\n",
        "# Obtenemos las medidas deseadas\n",
        "df['Dia incial sin'] = np.sin(Day_inicial_rad)\n",
        "df['Dia inicial cos'] = np.cos(Day_inicial_rad)\n",
        "df['Año inicial sin'] = np.sin(Ano_inicial_rad)\n",
        "df['Año inicial cos'] = np.cos(Ano_inicial_rad)\n",
        "\n",
        "df.head()"
      ],
      "metadata": {
        "colab": {
          "base_uri": "https://localhost:8080/",
          "height": 206
        },
        "id": "ETxnzYgLeQJS",
        "outputId": "dcef072e-a7e0-4951-f622-15c537a67a96"
      },
      "execution_count": null,
      "outputs": [
        {
          "output_type": "execute_result",
          "data": {
            "text/plain": [
              "    timestamp inicial  precio inicio  precio mas alto  precio mas bajo  \\\n",
              "0 2020-01-03 08:00:00         1.1154           1.1200           1.1154   \n",
              "1 2020-01-03 09:00:00         1.1182           1.1182           1.1151   \n",
              "2 2020-01-03 10:00:00         1.1151           1.1172           1.1151   \n",
              "3 2020-01-03 11:00:00         1.1136           1.1151           1.1136   \n",
              "4 2020-01-03 12:00:00         1.1126           1.1133           1.1126   \n",
              "\n",
              "   precio fin   volumen  volumen en cuotas  numero de compras  \\\n",
              "0      1.1182  37309.48       41775.464275               31.0   \n",
              "1      1.1151   2132.61        2384.431292                5.0   \n",
              "2      1.1151   1950.83        2175.391533                4.0   \n",
              "3      1.1141    310.53         346.107438                4.0   \n",
              "4      1.1133    394.52         439.130428                3.0   \n",
              "\n",
              "   volumen de dolares  volumen de euros  Dia incial sin  Dia inicial cos  \\\n",
              "0            20419.46      22858.822356    8.660254e-01        -0.500000   \n",
              "1             2036.69       2277.401075    7.071068e-01        -0.707107   \n",
              "2               10.00         11.172000    5.000000e-01        -0.866025   \n",
              "3              232.00        258.656430    2.588190e-01        -0.965926   \n",
              "4                0.00          0.000000    4.199953e-12        -1.000000   \n",
              "\n",
              "   Año inicial sin  Año inicial cos  \n",
              "0         0.244241         0.969715  \n",
              "1         0.244937         0.969539  \n",
              "2         0.245632         0.969363  \n",
              "3         0.246327         0.969187  \n",
              "4         0.247022         0.969010  "
            ],
            "text/html": [
              "\n",
              "  <div id=\"df-48bf826b-0926-421d-99f4-8e44c901d3be\">\n",
              "    <div class=\"colab-df-container\">\n",
              "      <div>\n",
              "<style scoped>\n",
              "    .dataframe tbody tr th:only-of-type {\n",
              "        vertical-align: middle;\n",
              "    }\n",
              "\n",
              "    .dataframe tbody tr th {\n",
              "        vertical-align: top;\n",
              "    }\n",
              "\n",
              "    .dataframe thead th {\n",
              "        text-align: right;\n",
              "    }\n",
              "</style>\n",
              "<table border=\"1\" class=\"dataframe\">\n",
              "  <thead>\n",
              "    <tr style=\"text-align: right;\">\n",
              "      <th></th>\n",
              "      <th>timestamp inicial</th>\n",
              "      <th>precio inicio</th>\n",
              "      <th>precio mas alto</th>\n",
              "      <th>precio mas bajo</th>\n",
              "      <th>precio fin</th>\n",
              "      <th>volumen</th>\n",
              "      <th>volumen en cuotas</th>\n",
              "      <th>numero de compras</th>\n",
              "      <th>volumen de dolares</th>\n",
              "      <th>volumen de euros</th>\n",
              "      <th>Dia incial sin</th>\n",
              "      <th>Dia inicial cos</th>\n",
              "      <th>Año inicial sin</th>\n",
              "      <th>Año inicial cos</th>\n",
              "    </tr>\n",
              "  </thead>\n",
              "  <tbody>\n",
              "    <tr>\n",
              "      <th>0</th>\n",
              "      <td>2020-01-03 08:00:00</td>\n",
              "      <td>1.1154</td>\n",
              "      <td>1.1200</td>\n",
              "      <td>1.1154</td>\n",
              "      <td>1.1182</td>\n",
              "      <td>37309.48</td>\n",
              "      <td>41775.464275</td>\n",
              "      <td>31.0</td>\n",
              "      <td>20419.46</td>\n",
              "      <td>22858.822356</td>\n",
              "      <td>8.660254e-01</td>\n",
              "      <td>-0.500000</td>\n",
              "      <td>0.244241</td>\n",
              "      <td>0.969715</td>\n",
              "    </tr>\n",
              "    <tr>\n",
              "      <th>1</th>\n",
              "      <td>2020-01-03 09:00:00</td>\n",
              "      <td>1.1182</td>\n",
              "      <td>1.1182</td>\n",
              "      <td>1.1151</td>\n",
              "      <td>1.1151</td>\n",
              "      <td>2132.61</td>\n",
              "      <td>2384.431292</td>\n",
              "      <td>5.0</td>\n",
              "      <td>2036.69</td>\n",
              "      <td>2277.401075</td>\n",
              "      <td>7.071068e-01</td>\n",
              "      <td>-0.707107</td>\n",
              "      <td>0.244937</td>\n",
              "      <td>0.969539</td>\n",
              "    </tr>\n",
              "    <tr>\n",
              "      <th>2</th>\n",
              "      <td>2020-01-03 10:00:00</td>\n",
              "      <td>1.1151</td>\n",
              "      <td>1.1172</td>\n",
              "      <td>1.1151</td>\n",
              "      <td>1.1151</td>\n",
              "      <td>1950.83</td>\n",
              "      <td>2175.391533</td>\n",
              "      <td>4.0</td>\n",
              "      <td>10.00</td>\n",
              "      <td>11.172000</td>\n",
              "      <td>5.000000e-01</td>\n",
              "      <td>-0.866025</td>\n",
              "      <td>0.245632</td>\n",
              "      <td>0.969363</td>\n",
              "    </tr>\n",
              "    <tr>\n",
              "      <th>3</th>\n",
              "      <td>2020-01-03 11:00:00</td>\n",
              "      <td>1.1136</td>\n",
              "      <td>1.1151</td>\n",
              "      <td>1.1136</td>\n",
              "      <td>1.1141</td>\n",
              "      <td>310.53</td>\n",
              "      <td>346.107438</td>\n",
              "      <td>4.0</td>\n",
              "      <td>232.00</td>\n",
              "      <td>258.656430</td>\n",
              "      <td>2.588190e-01</td>\n",
              "      <td>-0.965926</td>\n",
              "      <td>0.246327</td>\n",
              "      <td>0.969187</td>\n",
              "    </tr>\n",
              "    <tr>\n",
              "      <th>4</th>\n",
              "      <td>2020-01-03 12:00:00</td>\n",
              "      <td>1.1126</td>\n",
              "      <td>1.1133</td>\n",
              "      <td>1.1126</td>\n",
              "      <td>1.1133</td>\n",
              "      <td>394.52</td>\n",
              "      <td>439.130428</td>\n",
              "      <td>3.0</td>\n",
              "      <td>0.00</td>\n",
              "      <td>0.000000</td>\n",
              "      <td>4.199953e-12</td>\n",
              "      <td>-1.000000</td>\n",
              "      <td>0.247022</td>\n",
              "      <td>0.969010</td>\n",
              "    </tr>\n",
              "  </tbody>\n",
              "</table>\n",
              "</div>\n",
              "      <button class=\"colab-df-convert\" onclick=\"convertToInteractive('df-48bf826b-0926-421d-99f4-8e44c901d3be')\"\n",
              "              title=\"Convert this dataframe to an interactive table.\"\n",
              "              style=\"display:none;\">\n",
              "        \n",
              "  <svg xmlns=\"http://www.w3.org/2000/svg\" height=\"24px\"viewBox=\"0 0 24 24\"\n",
              "       width=\"24px\">\n",
              "    <path d=\"M0 0h24v24H0V0z\" fill=\"none\"/>\n",
              "    <path d=\"M18.56 5.44l.94 2.06.94-2.06 2.06-.94-2.06-.94-.94-2.06-.94 2.06-2.06.94zm-11 1L8.5 8.5l.94-2.06 2.06-.94-2.06-.94L8.5 2.5l-.94 2.06-2.06.94zm10 10l.94 2.06.94-2.06 2.06-.94-2.06-.94-.94-2.06-.94 2.06-2.06.94z\"/><path d=\"M17.41 7.96l-1.37-1.37c-.4-.4-.92-.59-1.43-.59-.52 0-1.04.2-1.43.59L10.3 9.45l-7.72 7.72c-.78.78-.78 2.05 0 2.83L4 21.41c.39.39.9.59 1.41.59.51 0 1.02-.2 1.41-.59l7.78-7.78 2.81-2.81c.8-.78.8-2.07 0-2.86zM5.41 20L4 18.59l7.72-7.72 1.47 1.35L5.41 20z\"/>\n",
              "  </svg>\n",
              "      </button>\n",
              "      \n",
              "  <style>\n",
              "    .colab-df-container {\n",
              "      display:flex;\n",
              "      flex-wrap:wrap;\n",
              "      gap: 12px;\n",
              "    }\n",
              "\n",
              "    .colab-df-convert {\n",
              "      background-color: #E8F0FE;\n",
              "      border: none;\n",
              "      border-radius: 50%;\n",
              "      cursor: pointer;\n",
              "      display: none;\n",
              "      fill: #1967D2;\n",
              "      height: 32px;\n",
              "      padding: 0 0 0 0;\n",
              "      width: 32px;\n",
              "    }\n",
              "\n",
              "    .colab-df-convert:hover {\n",
              "      background-color: #E2EBFA;\n",
              "      box-shadow: 0px 1px 2px rgba(60, 64, 67, 0.3), 0px 1px 3px 1px rgba(60, 64, 67, 0.15);\n",
              "      fill: #174EA6;\n",
              "    }\n",
              "\n",
              "    [theme=dark] .colab-df-convert {\n",
              "      background-color: #3B4455;\n",
              "      fill: #D2E3FC;\n",
              "    }\n",
              "\n",
              "    [theme=dark] .colab-df-convert:hover {\n",
              "      background-color: #434B5C;\n",
              "      box-shadow: 0px 1px 3px 1px rgba(0, 0, 0, 0.15);\n",
              "      filter: drop-shadow(0px 1px 2px rgba(0, 0, 0, 0.3));\n",
              "      fill: #FFFFFF;\n",
              "    }\n",
              "  </style>\n",
              "\n",
              "      <script>\n",
              "        const buttonEl =\n",
              "          document.querySelector('#df-48bf826b-0926-421d-99f4-8e44c901d3be button.colab-df-convert');\n",
              "        buttonEl.style.display =\n",
              "          google.colab.kernel.accessAllowed ? 'block' : 'none';\n",
              "\n",
              "        async function convertToInteractive(key) {\n",
              "          const element = document.querySelector('#df-48bf826b-0926-421d-99f4-8e44c901d3be');\n",
              "          const dataTable =\n",
              "            await google.colab.kernel.invokeFunction('convertToInteractive',\n",
              "                                                     [key], {});\n",
              "          if (!dataTable) return;\n",
              "\n",
              "          const docLinkHtml = 'Like what you see? Visit the ' +\n",
              "            '<a target=\"_blank\" href=https://colab.research.google.com/notebooks/data_table.ipynb>data table notebook</a>'\n",
              "            + ' to learn more about interactive tables.';\n",
              "          element.innerHTML = '';\n",
              "          dataTable['output_type'] = 'display_data';\n",
              "          await google.colab.output.renderOutput(dataTable, element);\n",
              "          const docLink = document.createElement('div');\n",
              "          docLink.innerHTML = docLinkHtml;\n",
              "          element.appendChild(docLink);\n",
              "        }\n",
              "      </script>\n",
              "    </div>\n",
              "  </div>\n",
              "  "
            ]
          },
          "metadata": {},
          "execution_count": 107
        }
      ]
    },
    {
      "cell_type": "markdown",
      "source": [
        "Ahora que ya tenemos todas las variables de tipo numérico y estamos teniendo en cuenta la periodicidad de días y horas, vamos a ver las estadísticas para cada una:"
      ],
      "metadata": {
        "id": "e6aYohH5hgTS"
      }
    },
    {
      "cell_type": "code",
      "source": [
        "df.describe().transpose()"
      ],
      "metadata": {
        "colab": {
          "base_uri": "https://localhost:8080/",
          "height": 457
        },
        "id": "aT54BB77hqJ-",
        "outputId": "59cb5ae2-9d33-40e4-c8f4-1fd6899707fe"
      },
      "execution_count": null,
      "outputs": [
        {
          "output_type": "execute_result",
          "data": {
            "text/plain": [
              "                      count          mean           std     min           25%  \\\n",
              "precio inicio       24970.0  1.126497e+00  6.694923e-02  0.9536      1.080000   \n",
              "precio mas alto     24970.0  1.127797e+00  7.127395e-02  0.9554      1.082000   \n",
              "precio mas bajo     24970.0  1.125329e+00  6.692488e-02  0.9535      1.078000   \n",
              "precio fin          24970.0  1.126459e+00  6.693515e-02  0.9536      1.080000   \n",
              "volumen             24970.0  1.588138e+06  2.435379e+06  0.0000  74407.332500   \n",
              "volumen en cuotas   24970.0  1.831407e+06  2.898230e+06  0.0000  85584.652700   \n",
              "numero de compras   24970.0  3.249636e+03  4.291602e+03  0.0000    298.000000   \n",
              "volumen de dolares  24970.0  7.412968e+05  1.189478e+06  0.0000  31896.420000   \n",
              "volumen de euros    24970.0  8.552054e+05  1.413589e+06  0.0000  36384.047100   \n",
              "Dia incial sin      24970.0 -6.427323e-04  7.070593e-01 -1.0000     -0.707107   \n",
              "Dia inicial cos     24970.0 -2.279787e-04  7.071822e-01 -1.0000     -0.707107   \n",
              "Año inicial sin     24970.0  1.009861e-02  7.211650e-01 -1.0000     -0.733835   \n",
              "Año inicial cos     24970.0 -4.838411e-02  6.910267e-01 -1.0000     -0.733957   \n",
              "\n",
              "                             50%           75%           max  \n",
              "precio inicio       1.133000e+00  1.178800e+00  1.309800e+00  \n",
              "precio mas alto     1.134000e+00  1.179900e+00  4.950000e+00  \n",
              "precio mas bajo     1.132000e+00  1.177700e+00  1.269500e+00  \n",
              "precio fin          1.133000e+00  1.178700e+00  1.309800e+00  \n",
              "volumen             7.911794e+05  2.069755e+06  4.694843e+07  \n",
              "volumen en cuotas   8.722955e+05  2.302447e+06  5.784383e+07  \n",
              "numero de compras   2.046000e+03  4.215000e+03  5.391700e+04  \n",
              "volumen de dolares  3.359175e+05  9.509889e+05  2.354437e+07  \n",
              "volumen de euros    3.709915e+05  1.063618e+06  2.905002e+07  \n",
              "Dia incial sin     -9.541610e-14  7.071068e-01  1.000000e+00  \n",
              "Dia inicial cos    -1.751680e-14  7.071068e-01  1.000000e+00  \n",
              "Año inicial sin     4.158900e-02  7.329822e-01  1.000000e+00  \n",
              "Año inicial cos    -7.667135e-02  6.214850e-01  1.000000e+00  "
            ],
            "text/html": [
              "\n",
              "  <div id=\"df-861aacf7-a5d2-43b4-8c85-356f752b4093\">\n",
              "    <div class=\"colab-df-container\">\n",
              "      <div>\n",
              "<style scoped>\n",
              "    .dataframe tbody tr th:only-of-type {\n",
              "        vertical-align: middle;\n",
              "    }\n",
              "\n",
              "    .dataframe tbody tr th {\n",
              "        vertical-align: top;\n",
              "    }\n",
              "\n",
              "    .dataframe thead th {\n",
              "        text-align: right;\n",
              "    }\n",
              "</style>\n",
              "<table border=\"1\" class=\"dataframe\">\n",
              "  <thead>\n",
              "    <tr style=\"text-align: right;\">\n",
              "      <th></th>\n",
              "      <th>count</th>\n",
              "      <th>mean</th>\n",
              "      <th>std</th>\n",
              "      <th>min</th>\n",
              "      <th>25%</th>\n",
              "      <th>50%</th>\n",
              "      <th>75%</th>\n",
              "      <th>max</th>\n",
              "    </tr>\n",
              "  </thead>\n",
              "  <tbody>\n",
              "    <tr>\n",
              "      <th>precio inicio</th>\n",
              "      <td>24970.0</td>\n",
              "      <td>1.126497e+00</td>\n",
              "      <td>6.694923e-02</td>\n",
              "      <td>0.9536</td>\n",
              "      <td>1.080000</td>\n",
              "      <td>1.133000e+00</td>\n",
              "      <td>1.178800e+00</td>\n",
              "      <td>1.309800e+00</td>\n",
              "    </tr>\n",
              "    <tr>\n",
              "      <th>precio mas alto</th>\n",
              "      <td>24970.0</td>\n",
              "      <td>1.127797e+00</td>\n",
              "      <td>7.127395e-02</td>\n",
              "      <td>0.9554</td>\n",
              "      <td>1.082000</td>\n",
              "      <td>1.134000e+00</td>\n",
              "      <td>1.179900e+00</td>\n",
              "      <td>4.950000e+00</td>\n",
              "    </tr>\n",
              "    <tr>\n",
              "      <th>precio mas bajo</th>\n",
              "      <td>24970.0</td>\n",
              "      <td>1.125329e+00</td>\n",
              "      <td>6.692488e-02</td>\n",
              "      <td>0.9535</td>\n",
              "      <td>1.078000</td>\n",
              "      <td>1.132000e+00</td>\n",
              "      <td>1.177700e+00</td>\n",
              "      <td>1.269500e+00</td>\n",
              "    </tr>\n",
              "    <tr>\n",
              "      <th>precio fin</th>\n",
              "      <td>24970.0</td>\n",
              "      <td>1.126459e+00</td>\n",
              "      <td>6.693515e-02</td>\n",
              "      <td>0.9536</td>\n",
              "      <td>1.080000</td>\n",
              "      <td>1.133000e+00</td>\n",
              "      <td>1.178700e+00</td>\n",
              "      <td>1.309800e+00</td>\n",
              "    </tr>\n",
              "    <tr>\n",
              "      <th>volumen</th>\n",
              "      <td>24970.0</td>\n",
              "      <td>1.588138e+06</td>\n",
              "      <td>2.435379e+06</td>\n",
              "      <td>0.0000</td>\n",
              "      <td>74407.332500</td>\n",
              "      <td>7.911794e+05</td>\n",
              "      <td>2.069755e+06</td>\n",
              "      <td>4.694843e+07</td>\n",
              "    </tr>\n",
              "    <tr>\n",
              "      <th>volumen en cuotas</th>\n",
              "      <td>24970.0</td>\n",
              "      <td>1.831407e+06</td>\n",
              "      <td>2.898230e+06</td>\n",
              "      <td>0.0000</td>\n",
              "      <td>85584.652700</td>\n",
              "      <td>8.722955e+05</td>\n",
              "      <td>2.302447e+06</td>\n",
              "      <td>5.784383e+07</td>\n",
              "    </tr>\n",
              "    <tr>\n",
              "      <th>numero de compras</th>\n",
              "      <td>24970.0</td>\n",
              "      <td>3.249636e+03</td>\n",
              "      <td>4.291602e+03</td>\n",
              "      <td>0.0000</td>\n",
              "      <td>298.000000</td>\n",
              "      <td>2.046000e+03</td>\n",
              "      <td>4.215000e+03</td>\n",
              "      <td>5.391700e+04</td>\n",
              "    </tr>\n",
              "    <tr>\n",
              "      <th>volumen de dolares</th>\n",
              "      <td>24970.0</td>\n",
              "      <td>7.412968e+05</td>\n",
              "      <td>1.189478e+06</td>\n",
              "      <td>0.0000</td>\n",
              "      <td>31896.420000</td>\n",
              "      <td>3.359175e+05</td>\n",
              "      <td>9.509889e+05</td>\n",
              "      <td>2.354437e+07</td>\n",
              "    </tr>\n",
              "    <tr>\n",
              "      <th>volumen de euros</th>\n",
              "      <td>24970.0</td>\n",
              "      <td>8.552054e+05</td>\n",
              "      <td>1.413589e+06</td>\n",
              "      <td>0.0000</td>\n",
              "      <td>36384.047100</td>\n",
              "      <td>3.709915e+05</td>\n",
              "      <td>1.063618e+06</td>\n",
              "      <td>2.905002e+07</td>\n",
              "    </tr>\n",
              "    <tr>\n",
              "      <th>Dia incial sin</th>\n",
              "      <td>24970.0</td>\n",
              "      <td>-6.427323e-04</td>\n",
              "      <td>7.070593e-01</td>\n",
              "      <td>-1.0000</td>\n",
              "      <td>-0.707107</td>\n",
              "      <td>-9.541610e-14</td>\n",
              "      <td>7.071068e-01</td>\n",
              "      <td>1.000000e+00</td>\n",
              "    </tr>\n",
              "    <tr>\n",
              "      <th>Dia inicial cos</th>\n",
              "      <td>24970.0</td>\n",
              "      <td>-2.279787e-04</td>\n",
              "      <td>7.071822e-01</td>\n",
              "      <td>-1.0000</td>\n",
              "      <td>-0.707107</td>\n",
              "      <td>-1.751680e-14</td>\n",
              "      <td>7.071068e-01</td>\n",
              "      <td>1.000000e+00</td>\n",
              "    </tr>\n",
              "    <tr>\n",
              "      <th>Año inicial sin</th>\n",
              "      <td>24970.0</td>\n",
              "      <td>1.009861e-02</td>\n",
              "      <td>7.211650e-01</td>\n",
              "      <td>-1.0000</td>\n",
              "      <td>-0.733835</td>\n",
              "      <td>4.158900e-02</td>\n",
              "      <td>7.329822e-01</td>\n",
              "      <td>1.000000e+00</td>\n",
              "    </tr>\n",
              "    <tr>\n",
              "      <th>Año inicial cos</th>\n",
              "      <td>24970.0</td>\n",
              "      <td>-4.838411e-02</td>\n",
              "      <td>6.910267e-01</td>\n",
              "      <td>-1.0000</td>\n",
              "      <td>-0.733957</td>\n",
              "      <td>-7.667135e-02</td>\n",
              "      <td>6.214850e-01</td>\n",
              "      <td>1.000000e+00</td>\n",
              "    </tr>\n",
              "  </tbody>\n",
              "</table>\n",
              "</div>\n",
              "      <button class=\"colab-df-convert\" onclick=\"convertToInteractive('df-861aacf7-a5d2-43b4-8c85-356f752b4093')\"\n",
              "              title=\"Convert this dataframe to an interactive table.\"\n",
              "              style=\"display:none;\">\n",
              "        \n",
              "  <svg xmlns=\"http://www.w3.org/2000/svg\" height=\"24px\"viewBox=\"0 0 24 24\"\n",
              "       width=\"24px\">\n",
              "    <path d=\"M0 0h24v24H0V0z\" fill=\"none\"/>\n",
              "    <path d=\"M18.56 5.44l.94 2.06.94-2.06 2.06-.94-2.06-.94-.94-2.06-.94 2.06-2.06.94zm-11 1L8.5 8.5l.94-2.06 2.06-.94-2.06-.94L8.5 2.5l-.94 2.06-2.06.94zm10 10l.94 2.06.94-2.06 2.06-.94-2.06-.94-.94-2.06-.94 2.06-2.06.94z\"/><path d=\"M17.41 7.96l-1.37-1.37c-.4-.4-.92-.59-1.43-.59-.52 0-1.04.2-1.43.59L10.3 9.45l-7.72 7.72c-.78.78-.78 2.05 0 2.83L4 21.41c.39.39.9.59 1.41.59.51 0 1.02-.2 1.41-.59l7.78-7.78 2.81-2.81c.8-.78.8-2.07 0-2.86zM5.41 20L4 18.59l7.72-7.72 1.47 1.35L5.41 20z\"/>\n",
              "  </svg>\n",
              "      </button>\n",
              "      \n",
              "  <style>\n",
              "    .colab-df-container {\n",
              "      display:flex;\n",
              "      flex-wrap:wrap;\n",
              "      gap: 12px;\n",
              "    }\n",
              "\n",
              "    .colab-df-convert {\n",
              "      background-color: #E8F0FE;\n",
              "      border: none;\n",
              "      border-radius: 50%;\n",
              "      cursor: pointer;\n",
              "      display: none;\n",
              "      fill: #1967D2;\n",
              "      height: 32px;\n",
              "      padding: 0 0 0 0;\n",
              "      width: 32px;\n",
              "    }\n",
              "\n",
              "    .colab-df-convert:hover {\n",
              "      background-color: #E2EBFA;\n",
              "      box-shadow: 0px 1px 2px rgba(60, 64, 67, 0.3), 0px 1px 3px 1px rgba(60, 64, 67, 0.15);\n",
              "      fill: #174EA6;\n",
              "    }\n",
              "\n",
              "    [theme=dark] .colab-df-convert {\n",
              "      background-color: #3B4455;\n",
              "      fill: #D2E3FC;\n",
              "    }\n",
              "\n",
              "    [theme=dark] .colab-df-convert:hover {\n",
              "      background-color: #434B5C;\n",
              "      box-shadow: 0px 1px 3px 1px rgba(0, 0, 0, 0.15);\n",
              "      filter: drop-shadow(0px 1px 2px rgba(0, 0, 0, 0.3));\n",
              "      fill: #FFFFFF;\n",
              "    }\n",
              "  </style>\n",
              "\n",
              "      <script>\n",
              "        const buttonEl =\n",
              "          document.querySelector('#df-861aacf7-a5d2-43b4-8c85-356f752b4093 button.colab-df-convert');\n",
              "        buttonEl.style.display =\n",
              "          google.colab.kernel.accessAllowed ? 'block' : 'none';\n",
              "\n",
              "        async function convertToInteractive(key) {\n",
              "          const element = document.querySelector('#df-861aacf7-a5d2-43b4-8c85-356f752b4093');\n",
              "          const dataTable =\n",
              "            await google.colab.kernel.invokeFunction('convertToInteractive',\n",
              "                                                     [key], {});\n",
              "          if (!dataTable) return;\n",
              "\n",
              "          const docLinkHtml = 'Like what you see? Visit the ' +\n",
              "            '<a target=\"_blank\" href=https://colab.research.google.com/notebooks/data_table.ipynb>data table notebook</a>'\n",
              "            + ' to learn more about interactive tables.';\n",
              "          element.innerHTML = '';\n",
              "          dataTable['output_type'] = 'display_data';\n",
              "          await google.colab.output.renderOutput(dataTable, element);\n",
              "          const docLink = document.createElement('div');\n",
              "          docLink.innerHTML = docLinkHtml;\n",
              "          element.appendChild(docLink);\n",
              "        }\n",
              "      </script>\n",
              "    </div>\n",
              "  </div>\n",
              "  "
            ]
          },
          "metadata": {},
          "execution_count": 108
        }
      ]
    },
    {
      "cell_type": "markdown",
      "source": [
        "Vemos que no hay ninguno negativo que debería ser positivo. Aunque si se puede ver un dato que no parece normal: el máximo de la variable precio más alto, que no tiene coherencia con los valores que se ven en los cuantiles"
      ],
      "metadata": {
        "id": "PD97spXSGaUj"
      }
    },
    {
      "cell_type": "markdown",
      "source": [
        "A continuación vamos a obtener el índice en el que se encuentra el último dato perteneciente al 2020 que utilizaremos más adelante cuando probemos a eliminar este año"
      ],
      "metadata": {
        "id": "Lh3wKRzJhfGx"
      }
    },
    {
      "cell_type": "code",
      "source": [
        "covid = datetime.datetime(2020, 12, 31, 23, 59)\n",
        "n_covid = 0\n",
        "for r in df['timestamp inicial']:\n",
        "  if r < covid:\n",
        "    n_covid += 1\n",
        "print(n_covid)"
      ],
      "metadata": {
        "colab": {
          "base_uri": "https://localhost:8080/"
        },
        "id": "zoA71fiYgQ_X",
        "outputId": "1d383fa4-1141-4e41-9fb6-ce0dd2f28632"
      },
      "execution_count": null,
      "outputs": [
        {
          "output_type": "stream",
          "name": "stdout",
          "text": [
            "8710\n"
          ]
        }
      ]
    },
    {
      "cell_type": "markdown",
      "source": [
        "## Separación del conjunto de datos\n",
        "Ahora separamos el conjunto total en tres: entrenamiento, validación y test\n",
        "\n",
        "Para quedarnos con estos conjuntos usamos como separación la fecha indicada en el enunciado de la práctica: de 01/09/2022 00:00:00 en adelante se consideran datos para el conjunto de test, mientras que todos los anteriores son de entrenamiento (70%) y validación (30%)."
      ],
      "metadata": {
        "id": "fYB0OJXufXUd"
      }
    },
    {
      "cell_type": "code",
      "source": [
        "# Indicamos la fecha de separación\n",
        "separacion = datetime.datetime(2022, 8, 31, 23, 59)\n",
        "\n",
        "# Indicamos la variable por la que queremos guiar la separación y realizamos esta\n",
        "data = df['timestamp inicial']\n",
        "df_adestramento = df.loc[data < separacion]\n",
        "df_test = df.loc[data > separacion]\n",
        "\n",
        "# Dentro de los datos del entrenamiento separamos en train y validation\n",
        "n = len(df_adestramento)\n",
        "df_train = df_adestramento[:round(n * 0.7)]\n",
        "df_val = df_adestramento[round(n * 0.7):]\n",
        "\n",
        "# Comporbamos que a suma de ambas particións é igual ao tamaño\n",
        "assert len(df_test) + len(df_train) + len(df_val) == len(df)"
      ],
      "metadata": {
        "id": "3jFV2snifoml"
      },
      "execution_count": null,
      "outputs": []
    },
    {
      "cell_type": "markdown",
      "source": [
        "De esta manera, los porcentajes sobre el total de los diferetes conjuntos son:"
      ],
      "metadata": {
        "id": "9xt44J2WeNex"
      }
    },
    {
      "cell_type": "code",
      "source": [
        "print('A porcentaxe do conxunto de train sobre o DF total é: ', 100 * len(df_train) / len(df), '%', '\\n'\n",
        "  'A porcentaxe do conxunto de validación sobre o DF total é: ', 100 * len(df_val) / len(df), '%','\\n'\n",
        "  'A porcentaxe do conxunto de test sobre o DF total é: ', 100 * len(df_test) / len(df), '%')"
      ],
      "metadata": {
        "colab": {
          "base_uri": "https://localhost:8080/"
        },
        "id": "sp4eco4UeR_z",
        "outputId": "fdce10ca-e85a-4af0-b811-38f88854fe95"
      },
      "execution_count": null,
      "outputs": [
        {
          "output_type": "stream",
          "name": "stdout",
          "text": [
            "A porcentaxe do conxunto de train sobre o DF total é:  65.2863436123348 % \n",
            "A porcentaxe do conxunto de validación sobre o DF total é:  27.981577893472167 % \n",
            "A porcentaxe do conxunto de test sobre o DF total é:  6.732078494193032 %\n"
          ]
        }
      ]
    },
    {
      "cell_type": "markdown",
      "source": [
        "Para que en el entrenamiento no tenga en cuenta la fecha, sino la periodicidad con horas y días (contemplada al calcular los senos y cosenos), eliminamos la columna de timestamp en formato datetime de ambos conjuntos"
      ],
      "metadata": {
        "id": "L-ggQQRYgXOx"
      }
    },
    {
      "cell_type": "code",
      "source": [
        "df_train = df_train.drop(['timestamp inicial'], axis=1)\n",
        "df_val = df_val.drop(['timestamp inicial'], axis=1)\n",
        "df_test = df_test.drop(['timestamp inicial'], axis=1)\n",
        "\n",
        "# Mostramos un ejemplo para enseñar que se han eliminado\n",
        "df_train.head(10)"
      ],
      "metadata": {
        "colab": {
          "base_uri": "https://localhost:8080/",
          "height": 363
        },
        "id": "xda-X8Vy-a4N",
        "outputId": "cdcd405b-c66c-4315-e0fd-8357ce72ab81"
      },
      "execution_count": null,
      "outputs": [
        {
          "output_type": "execute_result",
          "data": {
            "text/plain": [
              "   precio inicio  precio mas alto  precio mas bajo  precio fin   volumen  \\\n",
              "0         1.1154           1.1200           1.1154      1.1182  37309.48   \n",
              "1         1.1182           1.1182           1.1151      1.1151   2132.61   \n",
              "2         1.1151           1.1172           1.1151      1.1151   1950.83   \n",
              "3         1.1136           1.1151           1.1136      1.1141    310.53   \n",
              "4         1.1126           1.1133           1.1126      1.1133    394.52   \n",
              "5         1.1141           1.1174           1.1141      1.1171   2093.90   \n",
              "6         1.1135           1.1135           1.1135      1.1135    200.34   \n",
              "7         1.1186           1.1187           1.1155      1.1181    445.36   \n",
              "8         1.1153           1.1191           1.1142      1.1163    718.84   \n",
              "9         1.1190           1.1195           1.1162      1.1194   1888.24   \n",
              "\n",
              "   volumen en cuotas  numero de compras  volumen de dolares  volumen de euros  \\\n",
              "0       41775.464275               31.0            20419.46      22858.822356   \n",
              "1        2384.431292                5.0             2036.69       2277.401075   \n",
              "2        2175.391533                4.0               10.00         11.172000   \n",
              "3         346.107438                4.0              232.00        258.656430   \n",
              "4         439.130428                3.0                0.00          0.000000   \n",
              "5        2335.519448               17.0             1634.99       1824.009728   \n",
              "6         223.078590                1.0                0.00          0.000000   \n",
              "7         497.658656                6.0              284.11        317.780285   \n",
              "8         802.820127               32.0              264.10        295.504234   \n",
              "9        2113.661187                9.0             1824.94       2043.005727   \n",
              "\n",
              "   Dia incial sin  Dia inicial cos  Año inicial sin  Año inicial cos  \n",
              "0    8.660254e-01        -0.500000         0.244241         0.969715  \n",
              "1    7.071068e-01        -0.707107         0.244937         0.969539  \n",
              "2    5.000000e-01        -0.866025         0.245632         0.969363  \n",
              "3    2.588190e-01        -0.965926         0.246327         0.969187  \n",
              "4    4.199953e-12        -1.000000         0.247022         0.969010  \n",
              "5   -2.588190e-01        -0.965926         0.247717         0.968832  \n",
              "6   -5.000000e-01        -0.866025         0.248412         0.968654  \n",
              "7   -7.071068e-01        -0.707107         0.249107         0.968476  \n",
              "8   -8.660254e-01        -0.500000         0.249801         0.968297  \n",
              "9   -9.659258e-01        -0.258819         0.250496         0.968118  "
            ],
            "text/html": [
              "\n",
              "  <div id=\"df-2668c955-da9c-483a-8b96-124b0acc320e\">\n",
              "    <div class=\"colab-df-container\">\n",
              "      <div>\n",
              "<style scoped>\n",
              "    .dataframe tbody tr th:only-of-type {\n",
              "        vertical-align: middle;\n",
              "    }\n",
              "\n",
              "    .dataframe tbody tr th {\n",
              "        vertical-align: top;\n",
              "    }\n",
              "\n",
              "    .dataframe thead th {\n",
              "        text-align: right;\n",
              "    }\n",
              "</style>\n",
              "<table border=\"1\" class=\"dataframe\">\n",
              "  <thead>\n",
              "    <tr style=\"text-align: right;\">\n",
              "      <th></th>\n",
              "      <th>precio inicio</th>\n",
              "      <th>precio mas alto</th>\n",
              "      <th>precio mas bajo</th>\n",
              "      <th>precio fin</th>\n",
              "      <th>volumen</th>\n",
              "      <th>volumen en cuotas</th>\n",
              "      <th>numero de compras</th>\n",
              "      <th>volumen de dolares</th>\n",
              "      <th>volumen de euros</th>\n",
              "      <th>Dia incial sin</th>\n",
              "      <th>Dia inicial cos</th>\n",
              "      <th>Año inicial sin</th>\n",
              "      <th>Año inicial cos</th>\n",
              "    </tr>\n",
              "  </thead>\n",
              "  <tbody>\n",
              "    <tr>\n",
              "      <th>0</th>\n",
              "      <td>1.1154</td>\n",
              "      <td>1.1200</td>\n",
              "      <td>1.1154</td>\n",
              "      <td>1.1182</td>\n",
              "      <td>37309.48</td>\n",
              "      <td>41775.464275</td>\n",
              "      <td>31.0</td>\n",
              "      <td>20419.46</td>\n",
              "      <td>22858.822356</td>\n",
              "      <td>8.660254e-01</td>\n",
              "      <td>-0.500000</td>\n",
              "      <td>0.244241</td>\n",
              "      <td>0.969715</td>\n",
              "    </tr>\n",
              "    <tr>\n",
              "      <th>1</th>\n",
              "      <td>1.1182</td>\n",
              "      <td>1.1182</td>\n",
              "      <td>1.1151</td>\n",
              "      <td>1.1151</td>\n",
              "      <td>2132.61</td>\n",
              "      <td>2384.431292</td>\n",
              "      <td>5.0</td>\n",
              "      <td>2036.69</td>\n",
              "      <td>2277.401075</td>\n",
              "      <td>7.071068e-01</td>\n",
              "      <td>-0.707107</td>\n",
              "      <td>0.244937</td>\n",
              "      <td>0.969539</td>\n",
              "    </tr>\n",
              "    <tr>\n",
              "      <th>2</th>\n",
              "      <td>1.1151</td>\n",
              "      <td>1.1172</td>\n",
              "      <td>1.1151</td>\n",
              "      <td>1.1151</td>\n",
              "      <td>1950.83</td>\n",
              "      <td>2175.391533</td>\n",
              "      <td>4.0</td>\n",
              "      <td>10.00</td>\n",
              "      <td>11.172000</td>\n",
              "      <td>5.000000e-01</td>\n",
              "      <td>-0.866025</td>\n",
              "      <td>0.245632</td>\n",
              "      <td>0.969363</td>\n",
              "    </tr>\n",
              "    <tr>\n",
              "      <th>3</th>\n",
              "      <td>1.1136</td>\n",
              "      <td>1.1151</td>\n",
              "      <td>1.1136</td>\n",
              "      <td>1.1141</td>\n",
              "      <td>310.53</td>\n",
              "      <td>346.107438</td>\n",
              "      <td>4.0</td>\n",
              "      <td>232.00</td>\n",
              "      <td>258.656430</td>\n",
              "      <td>2.588190e-01</td>\n",
              "      <td>-0.965926</td>\n",
              "      <td>0.246327</td>\n",
              "      <td>0.969187</td>\n",
              "    </tr>\n",
              "    <tr>\n",
              "      <th>4</th>\n",
              "      <td>1.1126</td>\n",
              "      <td>1.1133</td>\n",
              "      <td>1.1126</td>\n",
              "      <td>1.1133</td>\n",
              "      <td>394.52</td>\n",
              "      <td>439.130428</td>\n",
              "      <td>3.0</td>\n",
              "      <td>0.00</td>\n",
              "      <td>0.000000</td>\n",
              "      <td>4.199953e-12</td>\n",
              "      <td>-1.000000</td>\n",
              "      <td>0.247022</td>\n",
              "      <td>0.969010</td>\n",
              "    </tr>\n",
              "    <tr>\n",
              "      <th>5</th>\n",
              "      <td>1.1141</td>\n",
              "      <td>1.1174</td>\n",
              "      <td>1.1141</td>\n",
              "      <td>1.1171</td>\n",
              "      <td>2093.90</td>\n",
              "      <td>2335.519448</td>\n",
              "      <td>17.0</td>\n",
              "      <td>1634.99</td>\n",
              "      <td>1824.009728</td>\n",
              "      <td>-2.588190e-01</td>\n",
              "      <td>-0.965926</td>\n",
              "      <td>0.247717</td>\n",
              "      <td>0.968832</td>\n",
              "    </tr>\n",
              "    <tr>\n",
              "      <th>6</th>\n",
              "      <td>1.1135</td>\n",
              "      <td>1.1135</td>\n",
              "      <td>1.1135</td>\n",
              "      <td>1.1135</td>\n",
              "      <td>200.34</td>\n",
              "      <td>223.078590</td>\n",
              "      <td>1.0</td>\n",
              "      <td>0.00</td>\n",
              "      <td>0.000000</td>\n",
              "      <td>-5.000000e-01</td>\n",
              "      <td>-0.866025</td>\n",
              "      <td>0.248412</td>\n",
              "      <td>0.968654</td>\n",
              "    </tr>\n",
              "    <tr>\n",
              "      <th>7</th>\n",
              "      <td>1.1186</td>\n",
              "      <td>1.1187</td>\n",
              "      <td>1.1155</td>\n",
              "      <td>1.1181</td>\n",
              "      <td>445.36</td>\n",
              "      <td>497.658656</td>\n",
              "      <td>6.0</td>\n",
              "      <td>284.11</td>\n",
              "      <td>317.780285</td>\n",
              "      <td>-7.071068e-01</td>\n",
              "      <td>-0.707107</td>\n",
              "      <td>0.249107</td>\n",
              "      <td>0.968476</td>\n",
              "    </tr>\n",
              "    <tr>\n",
              "      <th>8</th>\n",
              "      <td>1.1153</td>\n",
              "      <td>1.1191</td>\n",
              "      <td>1.1142</td>\n",
              "      <td>1.1163</td>\n",
              "      <td>718.84</td>\n",
              "      <td>802.820127</td>\n",
              "      <td>32.0</td>\n",
              "      <td>264.10</td>\n",
              "      <td>295.504234</td>\n",
              "      <td>-8.660254e-01</td>\n",
              "      <td>-0.500000</td>\n",
              "      <td>0.249801</td>\n",
              "      <td>0.968297</td>\n",
              "    </tr>\n",
              "    <tr>\n",
              "      <th>9</th>\n",
              "      <td>1.1190</td>\n",
              "      <td>1.1195</td>\n",
              "      <td>1.1162</td>\n",
              "      <td>1.1194</td>\n",
              "      <td>1888.24</td>\n",
              "      <td>2113.661187</td>\n",
              "      <td>9.0</td>\n",
              "      <td>1824.94</td>\n",
              "      <td>2043.005727</td>\n",
              "      <td>-9.659258e-01</td>\n",
              "      <td>-0.258819</td>\n",
              "      <td>0.250496</td>\n",
              "      <td>0.968118</td>\n",
              "    </tr>\n",
              "  </tbody>\n",
              "</table>\n",
              "</div>\n",
              "      <button class=\"colab-df-convert\" onclick=\"convertToInteractive('df-2668c955-da9c-483a-8b96-124b0acc320e')\"\n",
              "              title=\"Convert this dataframe to an interactive table.\"\n",
              "              style=\"display:none;\">\n",
              "        \n",
              "  <svg xmlns=\"http://www.w3.org/2000/svg\" height=\"24px\"viewBox=\"0 0 24 24\"\n",
              "       width=\"24px\">\n",
              "    <path d=\"M0 0h24v24H0V0z\" fill=\"none\"/>\n",
              "    <path d=\"M18.56 5.44l.94 2.06.94-2.06 2.06-.94-2.06-.94-.94-2.06-.94 2.06-2.06.94zm-11 1L8.5 8.5l.94-2.06 2.06-.94-2.06-.94L8.5 2.5l-.94 2.06-2.06.94zm10 10l.94 2.06.94-2.06 2.06-.94-2.06-.94-.94-2.06-.94 2.06-2.06.94z\"/><path d=\"M17.41 7.96l-1.37-1.37c-.4-.4-.92-.59-1.43-.59-.52 0-1.04.2-1.43.59L10.3 9.45l-7.72 7.72c-.78.78-.78 2.05 0 2.83L4 21.41c.39.39.9.59 1.41.59.51 0 1.02-.2 1.41-.59l7.78-7.78 2.81-2.81c.8-.78.8-2.07 0-2.86zM5.41 20L4 18.59l7.72-7.72 1.47 1.35L5.41 20z\"/>\n",
              "  </svg>\n",
              "      </button>\n",
              "      \n",
              "  <style>\n",
              "    .colab-df-container {\n",
              "      display:flex;\n",
              "      flex-wrap:wrap;\n",
              "      gap: 12px;\n",
              "    }\n",
              "\n",
              "    .colab-df-convert {\n",
              "      background-color: #E8F0FE;\n",
              "      border: none;\n",
              "      border-radius: 50%;\n",
              "      cursor: pointer;\n",
              "      display: none;\n",
              "      fill: #1967D2;\n",
              "      height: 32px;\n",
              "      padding: 0 0 0 0;\n",
              "      width: 32px;\n",
              "    }\n",
              "\n",
              "    .colab-df-convert:hover {\n",
              "      background-color: #E2EBFA;\n",
              "      box-shadow: 0px 1px 2px rgba(60, 64, 67, 0.3), 0px 1px 3px 1px rgba(60, 64, 67, 0.15);\n",
              "      fill: #174EA6;\n",
              "    }\n",
              "\n",
              "    [theme=dark] .colab-df-convert {\n",
              "      background-color: #3B4455;\n",
              "      fill: #D2E3FC;\n",
              "    }\n",
              "\n",
              "    [theme=dark] .colab-df-convert:hover {\n",
              "      background-color: #434B5C;\n",
              "      box-shadow: 0px 1px 3px 1px rgba(0, 0, 0, 0.15);\n",
              "      filter: drop-shadow(0px 1px 2px rgba(0, 0, 0, 0.3));\n",
              "      fill: #FFFFFF;\n",
              "    }\n",
              "  </style>\n",
              "\n",
              "      <script>\n",
              "        const buttonEl =\n",
              "          document.querySelector('#df-2668c955-da9c-483a-8b96-124b0acc320e button.colab-df-convert');\n",
              "        buttonEl.style.display =\n",
              "          google.colab.kernel.accessAllowed ? 'block' : 'none';\n",
              "\n",
              "        async function convertToInteractive(key) {\n",
              "          const element = document.querySelector('#df-2668c955-da9c-483a-8b96-124b0acc320e');\n",
              "          const dataTable =\n",
              "            await google.colab.kernel.invokeFunction('convertToInteractive',\n",
              "                                                     [key], {});\n",
              "          if (!dataTable) return;\n",
              "\n",
              "          const docLinkHtml = 'Like what you see? Visit the ' +\n",
              "            '<a target=\"_blank\" href=https://colab.research.google.com/notebooks/data_table.ipynb>data table notebook</a>'\n",
              "            + ' to learn more about interactive tables.';\n",
              "          element.innerHTML = '';\n",
              "          dataTable['output_type'] = 'display_data';\n",
              "          await google.colab.output.renderOutput(dataTable, element);\n",
              "          const docLink = document.createElement('div');\n",
              "          docLink.innerHTML = docLinkHtml;\n",
              "          element.appendChild(docLink);\n",
              "        }\n",
              "      </script>\n",
              "    </div>\n",
              "  </div>\n",
              "  "
            ]
          },
          "metadata": {},
          "execution_count": 42
        }
      ]
    },
    {
      "cell_type": "markdown",
      "source": [
        "## Predicción sin modificar el dataset\n",
        "Vamos a probar a obtener la predicción de las seis horas con el dataframe sin modificar para luego al ir eliminando o modificando datos que consideremos erróneos o no relevantes ver si mejora porque influyen negativamente o si realmente no importan.\n",
        "\n",
        "Lo haremos en principio con una red básica, pensando solamente en la comparación entre dataframe modificados en mayor o menor medida.\n",
        "\n",
        "Cuando obtengamos un dataframe que nos parezca que lo hará mejor, pasaremos a realizar diferentes pruebas para intentar encontrar una red que lo haga mejor que el resto"
      ],
      "metadata": {
        "id": "9bgB0rWgCfaf"
      }
    },
    {
      "cell_type": "markdown",
      "source": [
        "## Normalización de los datos\n",
        "Ahora normalizamos los datos para que estén todos a la misma escala. Importante que hay que usar la media y desviación típica del conjunto de entrenamiento (hay que pensar que es el único conjunto que conoceríamos a priori).\n",
        "Para normalizar empleamos la siguiente fórmula:\n",
        "\n",
        "$$ \\tilde{x} = \\dfrac{x - mean(x)}{std(x)} $$"
      ],
      "metadata": {
        "id": "WF7TJD2VjNKd"
      }
    },
    {
      "cell_type": "code",
      "source": [
        "# Obtenemos la media y desviación típica\n",
        "train_mean = df_train.mean()\n",
        "train_std = df_train.std()\n",
        "\n",
        "# Normalizamos ambos conjuntos\n",
        "df_train = (df_train - train_mean) / train_std\n",
        "df_val = (df_val - train_mean) / train_std\n",
        "df_test = (df_test - train_mean) / train_std"
      ],
      "metadata": {
        "id": "fBgF_MMvjYhO"
      },
      "execution_count": null,
      "outputs": []
    },
    {
      "cell_type": "code",
      "source": [
        "import matplotlib.pyplot as plt\n",
        "import seaborn as sns\n",
        "df_std = df_train.melt(var_name='Column', value_name='Normalized')\n",
        "plt.figure(figsize=(12, 6))\n",
        "ax = sns.violinplot(x='Column', y='Normalized', data=df_std)\n",
        "_ = ax.set_xticklabels(df.keys(), rotation=90)"
      ],
      "metadata": {
        "colab": {
          "base_uri": "https://localhost:8080/",
          "height": 478
        },
        "id": "WnvMnmulfLwM",
        "outputId": "8731ca17-c40a-42a9-c244-262d9e144abe"
      },
      "execution_count": null,
      "outputs": [
        {
          "output_type": "display_data",
          "data": {
            "text/plain": [
              "<Figure size 864x432 with 1 Axes>"
            ],
            "image/png": "[encoded data removed]"
          },
          "metadata": {
            "needs_background": "light"
          }
        }
      ]
    },
    {
      "cell_type": "markdown",
      "source": [
        "Pensamos que en precio inicio, el pico viene por un dato que es incorrectamente mucho más alto que el resto (cosa que luego comprobamos)"
      ],
      "metadata": {
        "id": "UPtR9WLasWlQ"
      }
    },
    {
      "cell_type": "markdown",
      "source": [
        "## Ventana de datos\n",
        "Cogemos la función del laboratorio 9 empleada para escoger la ventana de datos que se va a emplear, en la que especificamos el número de datos de diferentes tiempos que vamos a meter en el modelo, el número de datos de diferentes tiempo que queremos obtener en la salida y el tiempo a pasar entre la salida y el último dato de la entrada"
      ],
      "metadata": {
        "id": "vSuQqZToiCX5"
      }
    },
    {
      "cell_type": "code",
      "source": [
        "def sliding_window(data, labels, input_width, label_width=1, offset=1):\n",
        "    x = []\n",
        "    y = []\n",
        "\n",
        "    for i in range(len(data)-input_width - offset - label_width):\n",
        "        _x = data[i:i+input_width]\n",
        "        _y = labels[i+input_width + offset : i + input_width + offset +label_width ]\n",
        "        x.append(_x)\n",
        "        y.append(_y)\n",
        "\n",
        "    x, y = np.array(x),np.array(y)\n",
        "\n",
        "    if len(x.shape) == 2:\n",
        "        x = x[:,:,np.newaxis]\n",
        "\n",
        "    if len(y.shape) == 2:\n",
        "        y = y[:,:,np.newaxis]\n",
        "\n",
        "    return x, y"
      ],
      "metadata": {
        "id": "hWWamWBbiJpe"
      },
      "execution_count": null,
      "outputs": []
    },
    {
      "cell_type": "markdown",
      "source": [
        "Separamos los conjuntos de datos"
      ],
      "metadata": {
        "id": "9sp4s9hSoOUi"
      }
    },
    {
      "cell_type": "code",
      "source": [
        "input_width = 70\n",
        "label_width = 1\n",
        "offset = 5\n",
        "target_labels = 'precio fin'\n",
        "\n",
        "# Llamamos a la función para dividir los conjuntos del dataset\n",
        "x_train, y_train = sliding_window(df_train,df_train[target_labels], input_width, label_width=label_width, offset=offset)\n",
        "x_val, y_val = sliding_window(df_val, df_val[target_labels], input_width, label_width=label_width, offset=offset)\n",
        "x_test, y_test = sliding_window(df_test, df_test[target_labels], input_width, label_width=label_width, offset=offset)"
      ],
      "metadata": {
        "id": "g4EeP91ZiYJH"
      },
      "execution_count": null,
      "outputs": []
    },
    {
      "cell_type": "markdown",
      "source": [
        "## Selección del modelo\n",
        "Creamos un modelo que nos permita predecir el precio final del dolar en euros pasadas 6h desde el último dato que le pasamos.\n",
        "\n",
        "El argumento return_sequences tiene que estar activado en todas las capas excepto en la última para poder concatenar las capas recurrentes. Lo hacemos de esta manera porque así solo devuelve el resultado del paso del tiempo final, y usa los anteriores como 'calentamiento' del estado interno de la red, y como a nosotros solo nos interesa el dato de cuando pasan 6h y no los intermedios, empleamos esta arquitectura"
      ],
      "metadata": {
        "id": "8nOp4RRqoRlz"
      }
    },
    {
      "cell_type": "code",
      "source": [
        "import tensorflow as tf\n",
        "lstm_model = tf.keras.models.Sequential([\n",
        "    tf.keras.layers.LSTM(units=70, return_sequences=True), \n",
        "    tf.keras.layers.LSTM(units=70, return_sequences=False), \n",
        "    tf.keras.layers.Dense(units=1), \n",
        "])"
      ],
      "metadata": {
        "id": "kdhUq0Dnod4I"
      },
      "execution_count": null,
      "outputs": []
    },
    {
      "cell_type": "markdown",
      "source": [
        "Usamos la función para entrena que implementa el \"early stopping\" del laboratorio 9"
      ],
      "metadata": {
        "id": "sRBpDwh0qPmA"
      }
    },
    {
      "cell_type": "code",
      "source": [
        "#Poñemos unha semente para obter resultados estables\n",
        "import random\n",
        "import tensorflow as tf\n",
        "import os\n",
        "seed=1234\n",
        "os.environ['PYTHONHASHSEED']=str(seed)\n",
        "tf.random.set_seed(seed)\n",
        "np.random.seed(seed)\n",
        "random.seed(seed)\n",
        "\n",
        "\n",
        "MAX_EPOCHS = 20\n",
        "batch_size = 32\n",
        "\n",
        "def entrenar_modelo(model, train_data, train_label, val_data, val_label, epochs, batch_size, patience=5, verbose = 0):\n",
        "    early_stopping = tf.keras.callbacks.EarlyStopping(monitor='val_loss',\n",
        "                                                      patience=patience,\n",
        "                                                      mode='min')\n",
        "\n",
        "    model.compile(loss=tf.losses.MeanSquaredError(),\n",
        "                  optimizer=tf.optimizers.Adam(),\n",
        "                  metrics=[tf.metrics.MeanAbsoluteError()])\n",
        "\n",
        "    history = model.fit(train_data, train_label, epochs=epochs,\n",
        "                        batch_size=batch_size,\n",
        "                        validation_data=(val_data, val_label),\n",
        "                        callbacks=[early_stopping], verbose=verbose)\n",
        "    return history"
      ],
      "metadata": {
        "id": "_J91RcWAqLEL"
      },
      "execution_count": null,
      "outputs": []
    },
    {
      "cell_type": "code",
      "source": [
        "history = entrenar_modelo(lstm_model, x_train, y_train, x_val, y_val, MAX_EPOCHS, batch_size)"
      ],
      "metadata": {
        "id": "4VWlzUaBshn4"
      },
      "execution_count": null,
      "outputs": []
    },
    {
      "cell_type": "code",
      "source": [
        "def plot_prediction(feed_data, expected_result, model_result, target_label, input_width, offset=1, index=0):\n",
        "\n",
        "    f_data_x = np.arange(feed_data.shape[1])\n",
        "    e_data_x = np.arange(expected_result.shape[1]) + offset + input_width\n",
        "    plt.plot(f_data_x, feed_data[index])\n",
        "    plt.plot(e_data_x, expected_result[index], '*r')\n",
        "    plt.plot(e_data_x, model_result[index], '^g')\n",
        "    plt.legend(['inputs', 'labels', 'predictions'])\n",
        "    plt.title(target_label)"
      ],
      "metadata": {
        "id": "k8aMk-XFsV0N"
      },
      "execution_count": null,
      "outputs": []
    },
    {
      "cell_type": "code",
      "source": [
        "# Predecimos el resultado del test con el modelo\n",
        "model_result = lstm_model.predict(x_test)\n",
        "\n",
        "target_index = df_test.columns.get_loc(target_labels)\n",
        "\n",
        "# Llama a la función plot_prediction con los parámetros correctos\n",
        "plot_prediction(x_test[:, :, target_index], y_test, model_result, target_labels, input_width, label_width + offset, index=0)"
      ],
      "metadata": {
        "colab": {
          "base_uri": "https://localhost:8080/",
          "height": 298
        },
        "id": "njaq-lEVsojq",
        "outputId": "621bcafa-fdcf-43f6-e85f-895743d07858"
      },
      "execution_count": null,
      "outputs": [
        {
          "output_type": "stream",
          "name": "stdout",
          "text": [
            "51/51 [==============================] - 1s 4ms/step\n"
          ]
        },
        {
          "output_type": "display_data",
          "data": {
            "text/plain": [
              "<Figure size 432x288 with 1 Axes>"
            ],
            "image/png": "[encoded data removed]"
          },
          "metadata": {
            "needs_background": "light"
          }
        }
      ]
    },
    {
      "cell_type": "markdown",
      "source": [
        "A continuación, para que lo obtenido se muestre en la escala que es en la realidad, se deshace la normalización, utilizando de nuevo la media y la desviación típica del conjunto de train que oobtuvimos antes.\n",
        "\n",
        "Como solo estamos prediciendo el precio final, tenemos que indicar que del vector de medias y de la desviación típica, solamente queremos el datos que se corresponde a la variable de precio final"
      ],
      "metadata": {
        "id": "FCQx4ejtTcq4"
      }
    },
    {
      "cell_type": "code",
      "source": [
        "model_result2 = (model_result*train_std[3]) + train_mean[3]\n",
        "x_test2 = (x_test*train_std[3]) + train_mean[3]\n",
        "y_test2 = (y_test*train_std[3]) + train_mean[3]\n",
        "\n",
        "# Volvemos a representar la gráfica de resultados\n",
        "plot_prediction(x_test2[:, :, target_index], y_test2, model_result2, target_labels, input_width, label_width + offset, index=0)"
      ],
      "metadata": {
        "colab": {
          "base_uri": "https://localhost:8080/",
          "height": 281
        },
        "id": "uO3mR2W-TogF",
        "outputId": "8a9089c8-9e22-4d66-d3bb-96cd773a60fb"
      },
      "execution_count": null,
      "outputs": [
        {
          "output_type": "display_data",
          "data": {
            "text/plain": [
              "<Figure size 432x288 with 1 Axes>"
            ],
            "image/png": "[encoded data removed]"
          },
          "metadata": {
            "needs_background": "light"
          }
        }
      ]
    },
    {
      "cell_type": "markdown",
      "source": [
        "Obtenemos el MAE de este modelo:"
      ],
      "metadata": {
        "id": "CYCzs1j4UYa2"
      }
    },
    {
      "cell_type": "code",
      "source": [
        "mae1 = lstm_model.evaluate(x_test2, y_test2, verbose=0)[1]\n",
        "print(mae1)"
      ],
      "metadata": {
        "colab": {
          "base_uri": "https://localhost:8080/"
        },
        "id": "zti9pVHtUaq5",
        "outputId": "03ee1804-dbbf-43dd-e3cf-79be28d14148"
      },
      "execution_count": null,
      "outputs": [
        {
          "output_type": "stream",
          "name": "stdout",
          "text": [
            "0.03067135252058506\n"
          ]
        }
      ]
    },
    {
      "cell_type": "markdown",
      "source": [
        "Desnormalizamos los tres conjuntos para seguir trabajando con ellos:"
      ],
      "metadata": {
        "id": "2pRBMIf9QO8S"
      }
    },
    {
      "cell_type": "code",
      "source": [
        "df_train = df_train * train_std + train_mean\n",
        "df_val = df_val * train_std + train_mean\n",
        "df_test = df_test * train_std + train_mean"
      ],
      "metadata": {
        "id": "KSmX8pigQUO6"
      },
      "execution_count": null,
      "outputs": []
    },
    {
      "cell_type": "markdown",
      "source": [
        "## Presencia de datos atípicos\n",
        "Ahora que ya tenemos todo como tipo numérico y además tenemos en cuenta la periodicidad de los datos, veremos si se presentan datos atípicos/anómalos. Como nos interesa que los conjuntos de validación y de test sean lo más parecidos a la realidad vamos a comprobar todo esto tan solo en el conjunto de train. El único cambio que les aplicaremos será la normalización con la nueva media y desviación típica del conjunto de train utilizado de cada vez."
      ],
      "metadata": {
        "id": "fL0vUHNirKSb"
      }
    },
    {
      "cell_type": "markdown",
      "source": [
        "## Comparación de precios\n",
        "Vamos a añadir una variable que guarde la diferencia entre los precios finales entre una hora y la anterior, y lo mismo para los precios finales. Además, crearemos otra que guarde la diferencia entre el precio final de una hora y el inicial de la siguiente.\n",
        "\n",
        "De estas variables, nos interesa saber el máximo y el mínimo, ya que si el módulo de estos en algún momento es demasiado grande, significa que hubo un salto de precio demasiado grande, lo cuál es un dato erróneo, y tendríamos que sustituirlo por la media, para que no influyese a la hora de entrenar\n",
        "\n"
      ],
      "metadata": {
        "id": "oMk71afVAhNP"
      }
    },
    {
      "cell_type": "code",
      "source": [
        "df_train['dif precio ini'] = None\n",
        "for i in range(1,len(df_train)):\n",
        "  df_train['dif precio ini'][i] = df_train['precio inicio'][i] - df_train['precio inicio'][i-1]\n",
        "\n",
        "df_train['dif precio fin'] = None\n",
        "for i in range(1,len(df_train)):\n",
        "  df_train['dif precio fin'][i] = df_train['precio fin'][i] - df_train['precio fin'][i-1]\n",
        "\n",
        "df_train['dif precio ini-fin'] = None\n",
        "for i in range(1,len(df_train)):\n",
        "  df_train['dif precio ini-fin'][i] = df_train['precio inicio'][i] - df_train['precio fin'][i-1]"
      ],
      "metadata": {
        "colab": {
          "base_uri": "https://localhost:8080/"
        },
        "id": "QTb0D1LPBDJ2",
        "outputId": "5fd95a40-b0bf-42f7-f555-f7ce8ea2d3de"
      },
      "execution_count": null,
      "outputs": [
        {
          "output_type": "stream",
          "name": "stderr",
          "text": [
            "<ipython-input-61-e5c278d6d812>:3: SettingWithCopyWarning: \n",
            "A value is trying to be set on a copy of a slice from a DataFrame\n",
            "\n",
            "See the caveats in the documentation: https://pandas.pydata.org/pandas-docs/stable/user_guide/indexing.html#returning-a-view-versus-a-copy\n",
            "  df_train['dif precio ini'][i] = df_train['precio inicio'][i] - df_train['precio inicio'][i-1]\n",
            "<ipython-input-61-e5c278d6d812>:7: SettingWithCopyWarning: \n",
            "A value is trying to be set on a copy of a slice from a DataFrame\n",
            "\n",
            "See the caveats in the documentation: https://pandas.pydata.org/pandas-docs/stable/user_guide/indexing.html#returning-a-view-versus-a-copy\n",
            "  df_train['dif precio fin'][i] = df_train['precio fin'][i] - df_train['precio fin'][i-1]\n",
            "<ipython-input-61-e5c278d6d812>:11: SettingWithCopyWarning: \n",
            "A value is trying to be set on a copy of a slice from a DataFrame\n",
            "\n",
            "See the caveats in the documentation: https://pandas.pydata.org/pandas-docs/stable/user_guide/indexing.html#returning-a-view-versus-a-copy\n",
            "  df_train['dif precio ini-fin'][i] = df_train['precio inicio'][i] - df_train['precio fin'][i-1]\n"
          ]
        }
      ]
    },
    {
      "cell_type": "code",
      "source": [
        "print('En la variable de precio final en train la mayor diferencia es de:', max(max(df_train['dif precio fin'][1:]), abs(min(df_train['dif precio fin'][1:]))))\n",
        "print('En la variable de precio inicial en train la mayor diferencia es de:', max(max(df_train['dif precio ini'][1:]), abs(min(df_train['dif precio ini'][1:]))))\n",
        "print('Entre las variables de precio inicial y precio final en train la mayor diferencia es de:', max(max(df_train['dif precio ini-fin'][1:]), abs(min(df_train['dif precio ini-fin'][1:]))))"
      ],
      "metadata": {
        "colab": {
          "base_uri": "https://localhost:8080/"
        },
        "id": "8o2nzp-ADss-",
        "outputId": "9957c304-d117-436f-d0cd-3d4eaeae2bfe"
      },
      "execution_count": null,
      "outputs": [
        {
          "output_type": "stream",
          "name": "stdout",
          "text": [
            "En la variable de precio final en train la mayor diferencia es de: 0.07620000000000005\n",
            "En la variable de precio inicial en train la mayor diferencia es de: 0.07610000000000006\n",
            "Entre las variables de precio inicial y precio final en train la mayor diferencia es de: 0.006600000000000161\n"
          ]
        }
      ]
    },
    {
      "cell_type": "markdown",
      "source": [
        "Como vemos, en ningún caso hace saltos de precio demasiado altos, por lo que no tenemos ningún dato erróneo que eliminar y por tanto la predicción queda igual. \n",
        "\n",
        "Como estas variables las añadimos únicamente para comprobación y no nos interesan para entrenar, las eliminamos"
      ],
      "metadata": {
        "id": "jlzF8tGGFu-r"
      }
    },
    {
      "cell_type": "code",
      "source": [
        "df_train = df_train.drop(['dif precio fin', 'dif precio ini', 'dif precio ini-fin'], axis=1)"
      ],
      "metadata": {
        "id": "OViLKtkn_Sh5"
      },
      "execution_count": null,
      "outputs": []
    },
    {
      "cell_type": "markdown",
      "source": [
        "## Datos anómalos\n",
        "A continuación, representaremos el diagrama de cajas de todas las variables (sin normalizar) para ver en cuáles se presentan datos poco comunes (no erróneos)\n"
      ],
      "metadata": {
        "id": "ZglVqAOsHUhA"
      }
    },
    {
      "cell_type": "code",
      "source": [
        "df_train.head()"
      ],
      "metadata": {
        "colab": {
          "base_uri": "https://localhost:8080/",
          "height": 206
        },
        "id": "v1lyuE3vyl3C",
        "outputId": "6dbe7914-2632-489b-8b4a-018e04d0704c"
      },
      "execution_count": null,
      "outputs": [
        {
          "output_type": "execute_result",
          "data": {
            "text/plain": [
              "   precio inicio  precio mas alto  precio mas bajo  precio fin   volumen  \\\n",
              "0      -0.994575        -0.774086        -0.957218   -0.931217 -0.586343   \n",
              "1      -0.931997        -0.807701        -0.963873   -1.000518 -0.598833   \n",
              "2      -1.001280        -0.826376        -0.963873   -1.000518 -0.598898   \n",
              "3      -1.034804        -0.865592        -0.997145   -1.022873 -0.599480   \n",
              "4      -1.057153        -0.899207        -1.019327   -1.040757 -0.599450   \n",
              "\n",
              "   volumen en cuotas  numero de compras  volumen de dolares  volumen de euros  \\\n",
              "0          -0.582969          -0.675476           -0.568781         -0.565517   \n",
              "1          -0.594596          -0.680553           -0.582297         -0.578090   \n",
              "2          -0.594657          -0.680748           -0.583787         -0.579475   \n",
              "3          -0.595197          -0.680748           -0.583624         -0.579323   \n",
              "4          -0.595170          -0.680944           -0.583795         -0.579481   \n",
              "\n",
              "   Dia incial sin  Dia inicial cos  Año inicial sin  Año inicial cos  \n",
              "0        1.226047        -0.706242         0.318876         1.523885  \n",
              "1        1.001296        -0.999109         0.319831         1.523627  \n",
              "2        0.708393        -1.223833         0.320787         1.523369  \n",
              "3        0.367302        -1.365101         0.321742         1.523111  \n",
              "4        0.001265        -1.413285         0.322696         1.522851  "
            ],
            "text/html": [
              "\n",
              "  <div id=\"df-d86a7e08-4c5b-4490-89ae-895aa4fa9903\">\n",
              "    <div class=\"colab-df-container\">\n",
              "      <div>\n",
              "<style scoped>\n",
              "    .dataframe tbody tr th:only-of-type {\n",
              "        vertical-align: middle;\n",
              "    }\n",
              "\n",
              "    .dataframe tbody tr th {\n",
              "        vertical-align: top;\n",
              "    }\n",
              "\n",
              "    .dataframe thead th {\n",
              "        text-align: right;\n",
              "    }\n",
              "</style>\n",
              "<table border=\"1\" class=\"dataframe\">\n",
              "  <thead>\n",
              "    <tr style=\"text-align: right;\">\n",
              "      <th></th>\n",
              "      <th>precio inicio</th>\n",
              "      <th>precio mas alto</th>\n",
              "      <th>precio mas bajo</th>\n",
              "      <th>precio fin</th>\n",
              "      <th>volumen</th>\n",
              "      <th>volumen en cuotas</th>\n",
              "      <th>numero de compras</th>\n",
              "      <th>volumen de dolares</th>\n",
              "      <th>volumen de euros</th>\n",
              "      <th>Dia incial sin</th>\n",
              "      <th>Dia inicial cos</th>\n",
              "      <th>Año inicial sin</th>\n",
              "      <th>Año inicial cos</th>\n",
              "    </tr>\n",
              "  </thead>\n",
              "  <tbody>\n",
              "    <tr>\n",
              "      <th>0</th>\n",
              "      <td>-0.994575</td>\n",
              "      <td>-0.774086</td>\n",
              "      <td>-0.957218</td>\n",
              "      <td>-0.931217</td>\n",
              "      <td>-0.586343</td>\n",
              "      <td>-0.582969</td>\n",
              "      <td>-0.675476</td>\n",
              "      <td>-0.568781</td>\n",
              "      <td>-0.565517</td>\n",
              "      <td>1.226047</td>\n",
              "      <td>-0.706242</td>\n",
              "      <td>0.318876</td>\n",
              "      <td>1.523885</td>\n",
              "    </tr>\n",
              "    <tr>\n",
              "      <th>1</th>\n",
              "      <td>-0.931997</td>\n",
              "      <td>-0.807701</td>\n",
              "      <td>-0.963873</td>\n",
              "      <td>-1.000518</td>\n",
              "      <td>-0.598833</td>\n",
              "      <td>-0.594596</td>\n",
              "      <td>-0.680553</td>\n",
              "      <td>-0.582297</td>\n",
              "      <td>-0.578090</td>\n",
              "      <td>1.001296</td>\n",
              "      <td>-0.999109</td>\n",
              "      <td>0.319831</td>\n",
              "      <td>1.523627</td>\n",
              "    </tr>\n",
              "    <tr>\n",
              "      <th>2</th>\n",
              "      <td>-1.001280</td>\n",
              "      <td>-0.826376</td>\n",
              "      <td>-0.963873</td>\n",
              "      <td>-1.000518</td>\n",
              "      <td>-0.598898</td>\n",
              "      <td>-0.594657</td>\n",
              "      <td>-0.680748</td>\n",
              "      <td>-0.583787</td>\n",
              "      <td>-0.579475</td>\n",
              "      <td>0.708393</td>\n",
              "      <td>-1.223833</td>\n",
              "      <td>0.320787</td>\n",
              "      <td>1.523369</td>\n",
              "    </tr>\n",
              "    <tr>\n",
              "      <th>3</th>\n",
              "      <td>-1.034804</td>\n",
              "      <td>-0.865592</td>\n",
              "      <td>-0.997145</td>\n",
              "      <td>-1.022873</td>\n",
              "      <td>-0.599480</td>\n",
              "      <td>-0.595197</td>\n",
              "      <td>-0.680748</td>\n",
              "      <td>-0.583624</td>\n",
              "      <td>-0.579323</td>\n",
              "      <td>0.367302</td>\n",
              "      <td>-1.365101</td>\n",
              "      <td>0.321742</td>\n",
              "      <td>1.523111</td>\n",
              "    </tr>\n",
              "    <tr>\n",
              "      <th>4</th>\n",
              "      <td>-1.057153</td>\n",
              "      <td>-0.899207</td>\n",
              "      <td>-1.019327</td>\n",
              "      <td>-1.040757</td>\n",
              "      <td>-0.599450</td>\n",
              "      <td>-0.595170</td>\n",
              "      <td>-0.680944</td>\n",
              "      <td>-0.583795</td>\n",
              "      <td>-0.579481</td>\n",
              "      <td>0.001265</td>\n",
              "      <td>-1.413285</td>\n",
              "      <td>0.322696</td>\n",
              "      <td>1.522851</td>\n",
              "    </tr>\n",
              "  </tbody>\n",
              "</table>\n",
              "</div>\n",
              "      <button class=\"colab-df-convert\" onclick=\"convertToInteractive('df-d86a7e08-4c5b-4490-89ae-895aa4fa9903')\"\n",
              "              title=\"Convert this dataframe to an interactive table.\"\n",
              "              style=\"display:none;\">\n",
              "        \n",
              "  <svg xmlns=\"http://www.w3.org/2000/svg\" height=\"24px\"viewBox=\"0 0 24 24\"\n",
              "       width=\"24px\">\n",
              "    <path d=\"M0 0h24v24H0V0z\" fill=\"none\"/>\n",
              "    <path d=\"M18.56 5.44l.94 2.06.94-2.06 2.06-.94-2.06-.94-.94-2.06-.94 2.06-2.06.94zm-11 1L8.5 8.5l.94-2.06 2.06-.94-2.06-.94L8.5 2.5l-.94 2.06-2.06.94zm10 10l.94 2.06.94-2.06 2.06-.94-2.06-.94-.94-2.06-.94 2.06-2.06.94z\"/><path d=\"M17.41 7.96l-1.37-1.37c-.4-.4-.92-.59-1.43-.59-.52 0-1.04.2-1.43.59L10.3 9.45l-7.72 7.72c-.78.78-.78 2.05 0 2.83L4 21.41c.39.39.9.59 1.41.59.51 0 1.02-.2 1.41-.59l7.78-7.78 2.81-2.81c.8-.78.8-2.07 0-2.86zM5.41 20L4 18.59l7.72-7.72 1.47 1.35L5.41 20z\"/>\n",
              "  </svg>\n",
              "      </button>\n",
              "      \n",
              "  <style>\n",
              "    .colab-df-container {\n",
              "      display:flex;\n",
              "      flex-wrap:wrap;\n",
              "      gap: 12px;\n",
              "    }\n",
              "\n",
              "    .colab-df-convert {\n",
              "      background-color: #E8F0FE;\n",
              "      border: none;\n",
              "      border-radius: 50%;\n",
              "      cursor: pointer;\n",
              "      display: none;\n",
              "      fill: #1967D2;\n",
              "      height: 32px;\n",
              "      padding: 0 0 0 0;\n",
              "      width: 32px;\n",
              "    }\n",
              "\n",
              "    .colab-df-convert:hover {\n",
              "      background-color: #E2EBFA;\n",
              "      box-shadow: 0px 1px 2px rgba(60, 64, 67, 0.3), 0px 1px 3px 1px rgba(60, 64, 67, 0.15);\n",
              "      fill: #174EA6;\n",
              "    }\n",
              "\n",
              "    [theme=dark] .colab-df-convert {\n",
              "      background-color: #3B4455;\n",
              "      fill: #D2E3FC;\n",
              "    }\n",
              "\n",
              "    [theme=dark] .colab-df-convert:hover {\n",
              "      background-color: #434B5C;\n",
              "      box-shadow: 0px 1px 3px 1px rgba(0, 0, 0, 0.15);\n",
              "      filter: drop-shadow(0px 1px 2px rgba(0, 0, 0, 0.3));\n",
              "      fill: #FFFFFF;\n",
              "    }\n",
              "  </style>\n",
              "\n",
              "      <script>\n",
              "        const buttonEl =\n",
              "          document.querySelector('#df-d86a7e08-4c5b-4490-89ae-895aa4fa9903 button.colab-df-convert');\n",
              "        buttonEl.style.display =\n",
              "          google.colab.kernel.accessAllowed ? 'block' : 'none';\n",
              "\n",
              "        async function convertToInteractive(key) {\n",
              "          const element = document.querySelector('#df-d86a7e08-4c5b-4490-89ae-895aa4fa9903');\n",
              "          const dataTable =\n",
              "            await google.colab.kernel.invokeFunction('convertToInteractive',\n",
              "                                                     [key], {});\n",
              "          if (!dataTable) return;\n",
              "\n",
              "          const docLinkHtml = 'Like what you see? Visit the ' +\n",
              "            '<a target=\"_blank\" href=https://colab.research.google.com/notebooks/data_table.ipynb>data table notebook</a>'\n",
              "            + ' to learn more about interactive tables.';\n",
              "          element.innerHTML = '';\n",
              "          dataTable['output_type'] = 'display_data';\n",
              "          await google.colab.output.renderOutput(dataTable, element);\n",
              "          const docLink = document.createElement('div');\n",
              "          docLink.innerHTML = docLinkHtml;\n",
              "          element.appendChild(docLink);\n",
              "        }\n",
              "      </script>\n",
              "    </div>\n",
              "  </div>\n",
              "  "
            ]
          },
          "metadata": {},
          "execution_count": 55
        }
      ]
    },
    {
      "cell_type": "code",
      "source": [
        "boxplot = df_train.plot.box(figsize = (25,4))"
      ],
      "metadata": {
        "colab": {
          "base_uri": "https://localhost:8080/",
          "height": 265
        },
        "id": "OR8W8GyLpS2t",
        "outputId": "8efed083-e44d-443e-f924-4047824e9f6c"
      },
      "execution_count": null,
      "outputs": [
        {
          "output_type": "display_data",
          "data": {
            "text/plain": [
              "<Figure size 1800x288 with 1 Axes>"
            ],
            "image/png": "[encoded data removed]"
          },
          "metadata": {
            "needs_background": "light"
          }
        }
      ]
    },
    {
      "cell_type": "markdown",
      "source": [
        "Como vemos, hay presencia de muchos datos atípicos solo en algunas variables: en volumen, en volumen en cuotas, en volumen de euros y volumen de dólares. También hay alguno en número de compras y en precio más alto.\n",
        "\n",
        "Los datos atípicos que se representan en las variables de las diferencias de los precios no los tenemos en cuenta\n",
        "\n",
        "Representamos ahora cada una de estas por separado para que se vean mejor y para ver si los datos atípicos que aparecen arriba son realmente datos probablemente erróneos o que van a influír negativamente, o si simplemente son datos fuera de lo normal pero que podrían ocurrir"
      ],
      "metadata": {
        "id": "Oe_G9Kib4n-W"
      }
    },
    {
      "cell_type": "code",
      "source": [
        "df_train['precio mas alto'].plot(figsize = (15,4))"
      ],
      "metadata": {
        "colab": {
          "base_uri": "https://localhost:8080/",
          "height": 284
        },
        "id": "Un1kN6G-EBlM",
        "outputId": "e34eaa02-0dd2-4c6d-ea1a-5a14e191caa0"
      },
      "execution_count": null,
      "outputs": [
        {
          "output_type": "execute_result",
          "data": {
            "text/plain": [
              "<matplotlib.axes._subplots.AxesSubplot at 0x7f1382bb5250>"
            ]
          },
          "metadata": {},
          "execution_count": 52
        },
        {
          "output_type": "display_data",
          "data": {
            "text/plain": [
              "<Figure size 1080x288 with 1 Axes>"
            ],
            "image/png": "[encoded data removed]"
          },
          "metadata": {
            "needs_background": "light"
          }
        }
      ]
    },
    {
      "cell_type": "markdown",
      "source": [
        "Aquí podemos observar como por el principio, hay un dato claramente erróneo ya que es muchas unidades mayor al resto de los datos. Lo vamos a sustituir por la media de esta variable (precio más alto)"
      ],
      "metadata": {
        "id": "BHeKm4KXWU5x"
      }
    },
    {
      "cell_type": "code",
      "source": [
        "# Obtenemos el índice del dato erróneo y lo sustituímos por la media\n",
        "indice = df_train['precio mas alto'].idxmax()\n",
        "media = df_train['precio mas alto'].mean()\n",
        "df_train['precio mas alto'][indice] = media"
      ],
      "metadata": {
        "id": "2ITwzLoaHhWF"
      },
      "execution_count": null,
      "outputs": []
    },
    {
      "cell_type": "code",
      "source": [
        "df_train['precio mas alto'].plot(figsize = (15,4))"
      ],
      "metadata": {
        "colab": {
          "base_uri": "https://localhost:8080/",
          "height": 284
        },
        "id": "l0KyCVNnQhKj",
        "outputId": "e95aed49-3794-499d-cb3f-39d36a876f33"
      },
      "execution_count": null,
      "outputs": [
        {
          "output_type": "execute_result",
          "data": {
            "text/plain": [
              "<matplotlib.axes._subplots.AxesSubplot at 0x7f1382b6b100>"
            ]
          },
          "metadata": {},
          "execution_count": 54
        },
        {
          "output_type": "display_data",
          "data": {
            "text/plain": [
              "<Figure size 1080x288 with 1 Axes>"
            ],
            "image/png": "[encoded data removed]"
          },
          "metadata": {
            "needs_background": "light"
          }
        }
      ]
    },
    {
      "cell_type": "markdown",
      "source": [
        "Ahora vemos como el dato está eliminado y el resto de datos que más despuntan se pueden deber a datos anómalos pero no erróneos, por lo que de momento no los eliminamos"
      ],
      "metadata": {
        "id": "nfKZsB6wQjxf"
      }
    },
    {
      "cell_type": "code",
      "source": [
        "df_train['volumen'].plot(figsize = (15,4))"
      ],
      "metadata": {
        "colab": {
          "base_uri": "https://localhost:8080/",
          "height": 293
        },
        "id": "3SAh9MfvHj_n",
        "outputId": "ce6c035f-7df3-4dc3-b17e-7b412cce2a02"
      },
      "execution_count": null,
      "outputs": [
        {
          "output_type": "execute_result",
          "data": {
            "text/plain": [
              "<matplotlib.axes._subplots.AxesSubplot at 0x7f98acf51730>"
            ]
          },
          "metadata": {},
          "execution_count": 29
        },
        {
          "output_type": "display_data",
          "data": {
            "text/plain": [
              "<Figure size 1080x288 with 1 Axes>"
            ],
            "image/png": "[encoded data removed]"
          },
          "metadata": {
            "needs_background": "light"
          }
        }
      ]
    },
    {
      "cell_type": "markdown",
      "source": [
        "Al no entender el significado de esta variable (volumen), no sabemos explicar exactamente la gráfica obtenida.\n",
        "\n",
        "Sin embargo, creemos que los datos que más despuntan no se deben a que sean datos erróneos, sino simplemente a datos anómalos pero que pueden ser realistas"
      ],
      "metadata": {
        "id": "2zNv8Qy3Id1U"
      }
    },
    {
      "cell_type": "code",
      "source": [
        "df_train['volumen en cuotas'].plot(figsize = (15,4))"
      ],
      "metadata": {
        "colab": {
          "base_uri": "https://localhost:8080/",
          "height": 293
        },
        "id": "5PwiEe2YJPJh",
        "outputId": "50fec205-4873-4e35-8799-f092506475a0"
      },
      "execution_count": null,
      "outputs": [
        {
          "output_type": "execute_result",
          "data": {
            "text/plain": [
              "<matplotlib.axes._subplots.AxesSubplot at 0x7f98acf2d4f0>"
            ]
          },
          "metadata": {},
          "execution_count": 30
        },
        {
          "output_type": "display_data",
          "data": {
            "text/plain": [
              "<Figure size 1080x288 with 1 Axes>"
            ],
            "image/png": "[encoded data removed]"
          },
          "metadata": {
            "needs_background": "light"
          }
        }
      ]
    },
    {
      "cell_type": "markdown",
      "source": [
        "Para esta variable (volumen en cuotas), sacamos las mismas conclusiones que para la anterior"
      ],
      "metadata": {
        "id": "SH7Rqr9LJStG"
      }
    },
    {
      "cell_type": "code",
      "source": [
        "df_train['numero de compras'].plot(figsize = (15,4))"
      ],
      "metadata": {
        "colab": {
          "base_uri": "https://localhost:8080/",
          "height": 282
        },
        "id": "XnreJPaMJWfK",
        "outputId": "4677799d-a7e6-4f87-ee0a-6e8dab44eba5"
      },
      "execution_count": null,
      "outputs": [
        {
          "output_type": "execute_result",
          "data": {
            "text/plain": [
              "<matplotlib.axes._subplots.AxesSubplot at 0x7f98acf24dc0>"
            ]
          },
          "metadata": {},
          "execution_count": 31
        },
        {
          "output_type": "display_data",
          "data": {
            "text/plain": [
              "<Figure size 1080x288 with 1 Axes>"
            ],
            "image/png": "[encoded data removed]"
          },
          "metadata": {
            "needs_background": "light"
          }
        }
      ]
    },
    {
      "cell_type": "code",
      "source": [
        "df_train['volumen de euros'].plot(figsize = (15,4))"
      ],
      "metadata": {
        "colab": {
          "base_uri": "https://localhost:8080/",
          "height": 293
        },
        "id": "Dvv_jtU0O7T6",
        "outputId": "1e8d4796-a876-4f9c-a417-efd3b7655ed3"
      },
      "execution_count": null,
      "outputs": [
        {
          "output_type": "execute_result",
          "data": {
            "text/plain": [
              "<matplotlib.axes._subplots.AxesSubplot at 0x7f98ad0ed0a0>"
            ]
          },
          "metadata": {},
          "execution_count": 32
        },
        {
          "output_type": "display_data",
          "data": {
            "text/plain": [
              "<Figure size 1080x288 with 1 Axes>"
            ],
            "image/png": "[encoded data removed]"
          },
          "metadata": {
            "needs_background": "light"
          }
        }
      ]
    },
    {
      "cell_type": "code",
      "source": [
        "df_train['volumen de dolares'].plot(figsize = (15,4))"
      ],
      "metadata": {
        "colab": {
          "base_uri": "https://localhost:8080/",
          "height": 293
        },
        "id": "DrJRQs3oPJi9",
        "outputId": "39b292a8-f712-44e3-b088-486aafdbdfbe"
      },
      "execution_count": null,
      "outputs": [
        {
          "output_type": "execute_result",
          "data": {
            "text/plain": [
              "<matplotlib.axes._subplots.AxesSubplot at 0x7f98acf06280>"
            ]
          },
          "metadata": {},
          "execution_count": 33
        },
        {
          "output_type": "display_data",
          "data": {
            "text/plain": [
              "<Figure size 1080x288 with 1 Axes>"
            ],
            "image/png": "[encoded data removed]"
          },
          "metadata": {
            "needs_background": "light"
          }
        }
      ]
    },
    {
      "cell_type": "markdown",
      "source": [
        "De nuevo, en estas últimas 3 gráficas, consideramos que los datos que más despuntan son solamente datos anómalos pero no erróneos, por lo que de momento no contemplamos eliminarlos"
      ],
      "metadata": {
        "id": "xdLAS26OO8td"
      }
    },
    {
      "cell_type": "markdown",
      "source": [
        "En general en muchas gráficas vemos como el primer tercio de los datos son muy bajos, como si en general hubiera habido pocos cambios en relación con el dólar y el euro. Esto creemos que es así debido a que los primeros años son los correspondientes a la pandemia del Covid. Esto lo trataremos más adelante."
      ],
      "metadata": {
        "id": "alCVeDCZKfs1"
      }
    },
    {
      "cell_type": "markdown",
      "source": [
        "Ahora tras haber modificado el dataset y quitado un dato que parece que afectaba mucho, vamos a volver a ver la gráfica de los datos normalizados para comprobar si el pico en dicha variable se debía a este dato"
      ],
      "metadata": {
        "id": "ASTJj27SLh7U"
      }
    },
    {
      "cell_type": "markdown",
      "source": [
        "Primeiro, normalizamos con la media del nuevo DataFrame, sin el dato anómalo"
      ],
      "metadata": {
        "id": "k-FXcCtS1Zzx"
      }
    },
    {
      "cell_type": "code",
      "source": [
        "# Obtenemos las medidas\n",
        "train_mean = df_train.mean()\n",
        "train_std = df_train.std()"
      ],
      "metadata": {
        "id": "PYF4ysKvejmo"
      },
      "execution_count": null,
      "outputs": []
    },
    {
      "cell_type": "code",
      "source": [
        "# Volvemos a normalizar\n",
        "train_anomalo = (df_train - train_mean) / train_std\n",
        "val_anomalo = (df_val - train_mean ) / train_std\n",
        "test_anomalo = (df_test - train_mean) / train_std"
      ],
      "metadata": {
        "id": "7mISY6QDe2jQ"
      },
      "execution_count": null,
      "outputs": []
    },
    {
      "cell_type": "code",
      "source": [
        "# Representamos\n",
        "df_std = train_anomalo.melt(var_name='Column', value_name='Normalized')\n",
        "plt.figure(figsize=(12, 6))\n",
        "ax = sns.violinplot(x='Column', y='Normalized', data=df_std)\n",
        "_ = ax.set_xticklabels(df.keys(), rotation=90)"
      ],
      "metadata": {
        "colab": {
          "base_uri": "https://localhost:8080/",
          "height": 478
        },
        "id": "BQYYMDXLLu5y",
        "outputId": "e184be58-2530-45b0-e1e3-13b0b560b989"
      },
      "execution_count": null,
      "outputs": [
        {
          "output_type": "display_data",
          "data": {
            "text/plain": [
              "<Figure size 864x432 with 1 Axes>"
            ],
            "image/png": "[encoded data removed]"
          },
          "metadata": {
            "needs_background": "light"
          }
        }
      ]
    },
    {
      "cell_type": "markdown",
      "source": [
        "Comprobamos que efectivamente los picos se deben a los datos anómalos del dataframe, por lo que los que quedan deben de ser también los que muestra el boxplot"
      ],
      "metadata": {
        "id": "8n7DOqMnMecw"
      }
    },
    {
      "cell_type": "markdown",
      "source": [
        "Vamos a entrenar ahora con el dataset modificado, y representamos directamente con la normalización deshecha"
      ],
      "metadata": {
        "id": "uINmLKL7MnPn"
      }
    },
    {
      "cell_type": "code",
      "source": [
        "# Tenemos que volver a crear los parámetros x_train e y_train con el nuevo df_train:\n",
        "x_train_anomalo, y_train_anomalo = sliding_window(train_anomalo,train_anomalo[target_labels], input_width, label_width=label_width, offset=offset)\n",
        "x_val_anomalo, y_val_anomalo = sliding_window(val_anomalo,val_anomalo[target_labels], input_width, label_width=label_width, offset=offset)\n",
        "x_test_anomalo, y_test_anomalo = sliding_window(test_anomalo, test_anomalo[target_labels], input_width, label_width=label_width, offset=offset)\n",
        "\n",
        "\n",
        "history = entrenar_modelo(lstm_model, x_train_anomalo, y_train_anomalo, x_val_anomalo, y_val_anomalo, MAX_EPOCHS, batch_size)"
      ],
      "metadata": {
        "id": "cKGPVm7yMsaq"
      },
      "execution_count": null,
      "outputs": []
    },
    {
      "cell_type": "code",
      "source": [
        "# Predecimos el resultado del test con el modelo\n",
        "model_result_anomalo = lstm_model.predict(x_test_anomalo)\n",
        "target_index_anomalo = test_anomalo.columns.get_loc(target_labels)\n",
        "\n",
        "# Deshacemos la normalización\n",
        "model_result2_anomalo = (model_result_anomalo*train_std[3]) + train_mean[3]\n",
        "x_test2_anomalo = (x_test_anomalo*train_std[3]) + train_mean[3]\n",
        "y_test2_anomalo = (y_test_anomalo*train_std[3]) + train_mean[3]\n",
        "\n",
        "# Volvemos a representar la gráfica de resultados\n",
        "plot_prediction(x_test2_anomalo[:, :, target_index_anomalo], y_test2_anomalo, model_result2_anomalo, target_labels, input_width, label_width + offset, index=0)"
      ],
      "metadata": {
        "colab": {
          "base_uri": "https://localhost:8080/",
          "height": 298
        },
        "id": "SFvniy2lM8q3",
        "outputId": "1543b297-b410-421c-954a-8a43e566d416"
      },
      "execution_count": null,
      "outputs": [
        {
          "output_type": "stream",
          "name": "stdout",
          "text": [
            "51/51 [==============================] - 1s 15ms/step\n"
          ]
        },
        {
          "output_type": "display_data",
          "data": {
            "text/plain": [
              "<Figure size 432x288 with 1 Axes>"
            ],
            "image/png": "[encoded data removed]"
          },
          "metadata": {
            "needs_background": "light"
          }
        }
      ]
    },
    {
      "cell_type": "code",
      "source": [
        "mae2 = lstm_model.evaluate(x_test2_anomalo, y_test2_anomalo, verbose=0)[1]\n",
        "print(mae2)"
      ],
      "metadata": {
        "colab": {
          "base_uri": "https://localhost:8080/"
        },
        "id": "7y5fgy5AVXgx",
        "outputId": "f1620a45-7aa9-4506-addd-a9a7f0d0c422"
      },
      "execution_count": null,
      "outputs": [
        {
          "output_type": "stream",
          "name": "stdout",
          "text": [
            "0.0042886557057499886\n"
          ]
        }
      ]
    },
    {
      "cell_type": "markdown",
      "source": [
        "El error de la predicción mejora significativamente, por lo que vamos a trabajar con este nuevo dataframe sin el dato eliminado\n",
        "\n"
      ],
      "metadata": {
        "id": "pSAa2zvJkEBk"
      }
    },
    {
      "cell_type": "code",
      "source": [
        "df_train = train_anomalo.copy()\n",
        "df_val = val_anomalo.copy()\n",
        "df_test = test_anomalo.copy()\n",
        "# Atención se copian nomalizados"
      ],
      "metadata": {
        "id": "E6on5StcTDqy"
      },
      "execution_count": null,
      "outputs": []
    },
    {
      "cell_type": "markdown",
      "source": [
        "## Coherencia entre compras y volumen\n",
        "Ahora vamos a comprobar si hay coherencia entre las columnas de 'numero de compras' y las de 'volumen de dolares' y 'volumen de euros', es decir, si no hay compras no puede haber de volumen de ninguna de las monedas, y viceversa.\n",
        "\n",
        "Esto lo consideramos así porque tomamos como compras la cantidad de transacciones entre dólares y euros que hubo y volumen de dólares o euros es la cantidad de esa moneda que se movió teniendo en cuenta el precio del momento. Para saber que no es euros que se pasaron a dólares y dólares que se pasaron a euros sino cantidad total representada en ambas monedas, podemos ver algunos ejemplos de filas donde los valores siempre son similares.\n"
      ],
      "metadata": {
        "id": "5EsVK_AXfJ5G"
      }
    },
    {
      "cell_type": "code",
      "source": [
        "# Deshacemos la normalización\n",
        "df_train = df_train * train_std + train_mean\n",
        "df_val = df_val * train_std + train_mean\n",
        "df_test = df_test * train_std + train_mean\n",
        "\n",
        "df_train.head(10)"
      ],
      "metadata": {
        "colab": {
          "base_uri": "https://localhost:8080/",
          "height": 363
        },
        "id": "YAtuQcWej4vS",
        "outputId": "9a9c8691-4d1a-46a0-8013-9fd56377aeb5"
      },
      "execution_count": null,
      "outputs": [
        {
          "output_type": "execute_result",
          "data": {
            "text/plain": [
              "   precio inicio  precio mas alto  precio mas bajo  precio fin       volumen  \\\n",
              "0       1.209809         1.221425         1.208837    1.209876  1.050764e+11   \n",
              "1       1.209935         1.221329         1.208824    1.209737  6.007759e+09   \n",
              "2       1.209796         1.221275         1.208824    1.209737  5.495812e+09   \n",
              "3       1.209729         1.221163         1.208756    1.209692  8.762344e+08   \n",
              "4       1.209684         1.221067         1.208711    1.209657  1.112776e+09   \n",
              "5       1.209751         1.221286         1.208779    1.209827  5.898740e+09   \n",
              "6       1.209724         1.221077         1.208752    1.209666  5.659063e+08   \n",
              "7       1.209953         1.221356         1.208842    1.209871  1.255956e+09   \n",
              "8       1.209805         1.221377         1.208783    1.209791  2.026158e+09   \n",
              "9       1.209971         1.221399         1.208873    1.209929  5.319540e+09   \n",
              "\n",
              "   volumen en cuotas  numero de compras  volumen de dolares  volumen de euros  \\\n",
              "0       1.415400e+11      162230.290518        2.777314e+10      3.742062e+10   \n",
              "1       8.080626e+09       29093.171466        2.770880e+09      3.729032e+09   \n",
              "2       7.372385e+09       23972.513040        1.439493e+07      1.923706e+07   \n",
              "3       1.174651e+09       23972.513040        3.163354e+08      4.243666e+08   \n",
              "4       1.489819e+09       18851.854615        7.940144e+05      9.486054e+05   \n",
              "5       7.914909e+09       90541.072567        2.224531e+09      2.986835e+09   \n",
              "6       7.578217e+08        8610.537765        7.940144e+05      9.486054e+05   \n",
              "7       1.688117e+09       34213.829891        3.872098e+08      5.211518e+08   \n",
              "8       2.722024e+09      167350.948944        3.599943e+08      4.846861e+08   \n",
              "9       7.163239e+09       49575.805166        2.482880e+09      3.345329e+09   \n",
              "\n",
              "   Dia incial sin  Dia inicial cos  Año inicial sin  Año inicial cos  \n",
              "0        0.611459        -0.354152         0.189909         0.591769  \n",
              "1        0.499090        -0.500612         0.190415         0.591650  \n",
              "2        0.352648        -0.612994         0.190921         0.591530  \n",
              "3        0.182113        -0.683641         0.191427         0.591409  \n",
              "4       -0.000895        -0.707737         0.191933         0.591289  \n",
              "5       -0.183902        -0.683641         0.192439         0.591168  \n",
              "6       -0.354437        -0.612994         0.192945         0.591046  \n",
              "7       -0.500879        -0.500612         0.193451         0.590925  \n",
              "8       -0.613248        -0.354152         0.193956         0.590803  \n",
              "9       -0.683887        -0.183596         0.194462         0.590680  "
            ],
            "text/html": [
              "\n",
              "  <div id=\"df-1c4b8e73-ce2c-49e9-a3df-54a757a7fe7a\">\n",
              "    <div class=\"colab-df-container\">\n",
              "      <div>\n",
              "<style scoped>\n",
              "    .dataframe tbody tr th:only-of-type {\n",
              "        vertical-align: middle;\n",
              "    }\n",
              "\n",
              "    .dataframe tbody tr th {\n",
              "        vertical-align: top;\n",
              "    }\n",
              "\n",
              "    .dataframe thead th {\n",
              "        text-align: right;\n",
              "    }\n",
              "</style>\n",
              "<table border=\"1\" class=\"dataframe\">\n",
              "  <thead>\n",
              "    <tr style=\"text-align: right;\">\n",
              "      <th></th>\n",
              "      <th>precio inicio</th>\n",
              "      <th>precio mas alto</th>\n",
              "      <th>precio mas bajo</th>\n",
              "      <th>precio fin</th>\n",
              "      <th>volumen</th>\n",
              "      <th>volumen en cuotas</th>\n",
              "      <th>numero de compras</th>\n",
              "      <th>volumen de dolares</th>\n",
              "      <th>volumen de euros</th>\n",
              "      <th>Dia incial sin</th>\n",
              "      <th>Dia inicial cos</th>\n",
              "      <th>Año inicial sin</th>\n",
              "      <th>Año inicial cos</th>\n",
              "    </tr>\n",
              "  </thead>\n",
              "  <tbody>\n",
              "    <tr>\n",
              "      <th>0</th>\n",
              "      <td>1.209809</td>\n",
              "      <td>1.221425</td>\n",
              "      <td>1.208837</td>\n",
              "      <td>1.209876</td>\n",
              "      <td>1.050764e+11</td>\n",
              "      <td>1.415400e+11</td>\n",
              "      <td>162230.290518</td>\n",
              "      <td>2.777314e+10</td>\n",
              "      <td>3.742062e+10</td>\n",
              "      <td>0.611459</td>\n",
              "      <td>-0.354152</td>\n",
              "      <td>0.189909</td>\n",
              "      <td>0.591769</td>\n",
              "    </tr>\n",
              "    <tr>\n",
              "      <th>1</th>\n",
              "      <td>1.209935</td>\n",
              "      <td>1.221329</td>\n",
              "      <td>1.208824</td>\n",
              "      <td>1.209737</td>\n",
              "      <td>6.007759e+09</td>\n",
              "      <td>8.080626e+09</td>\n",
              "      <td>29093.171466</td>\n",
              "      <td>2.770880e+09</td>\n",
              "      <td>3.729032e+09</td>\n",
              "      <td>0.499090</td>\n",
              "      <td>-0.500612</td>\n",
              "      <td>0.190415</td>\n",
              "      <td>0.591650</td>\n",
              "    </tr>\n",
              "    <tr>\n",
              "      <th>2</th>\n",
              "      <td>1.209796</td>\n",
              "      <td>1.221275</td>\n",
              "      <td>1.208824</td>\n",
              "      <td>1.209737</td>\n",
              "      <td>5.495812e+09</td>\n",
              "      <td>7.372385e+09</td>\n",
              "      <td>23972.513040</td>\n",
              "      <td>1.439493e+07</td>\n",
              "      <td>1.923706e+07</td>\n",
              "      <td>0.352648</td>\n",
              "      <td>-0.612994</td>\n",
              "      <td>0.190921</td>\n",
              "      <td>0.591530</td>\n",
              "    </tr>\n",
              "    <tr>\n",
              "      <th>3</th>\n",
              "      <td>1.209729</td>\n",
              "      <td>1.221163</td>\n",
              "      <td>1.208756</td>\n",
              "      <td>1.209692</td>\n",
              "      <td>8.762344e+08</td>\n",
              "      <td>1.174651e+09</td>\n",
              "      <td>23972.513040</td>\n",
              "      <td>3.163354e+08</td>\n",
              "      <td>4.243666e+08</td>\n",
              "      <td>0.182113</td>\n",
              "      <td>-0.683641</td>\n",
              "      <td>0.191427</td>\n",
              "      <td>0.591409</td>\n",
              "    </tr>\n",
              "    <tr>\n",
              "      <th>4</th>\n",
              "      <td>1.209684</td>\n",
              "      <td>1.221067</td>\n",
              "      <td>1.208711</td>\n",
              "      <td>1.209657</td>\n",
              "      <td>1.112776e+09</td>\n",
              "      <td>1.489819e+09</td>\n",
              "      <td>18851.854615</td>\n",
              "      <td>7.940144e+05</td>\n",
              "      <td>9.486054e+05</td>\n",
              "      <td>-0.000895</td>\n",
              "      <td>-0.707737</td>\n",
              "      <td>0.191933</td>\n",
              "      <td>0.591289</td>\n",
              "    </tr>\n",
              "    <tr>\n",
              "      <th>5</th>\n",
              "      <td>1.209751</td>\n",
              "      <td>1.221286</td>\n",
              "      <td>1.208779</td>\n",
              "      <td>1.209827</td>\n",
              "      <td>5.898740e+09</td>\n",
              "      <td>7.914909e+09</td>\n",
              "      <td>90541.072567</td>\n",
              "      <td>2.224531e+09</td>\n",
              "      <td>2.986835e+09</td>\n",
              "      <td>-0.183902</td>\n",
              "      <td>-0.683641</td>\n",
              "      <td>0.192439</td>\n",
              "      <td>0.591168</td>\n",
              "    </tr>\n",
              "    <tr>\n",
              "      <th>6</th>\n",
              "      <td>1.209724</td>\n",
              "      <td>1.221077</td>\n",
              "      <td>1.208752</td>\n",
              "      <td>1.209666</td>\n",
              "      <td>5.659063e+08</td>\n",
              "      <td>7.578217e+08</td>\n",
              "      <td>8610.537765</td>\n",
              "      <td>7.940144e+05</td>\n",
              "      <td>9.486054e+05</td>\n",
              "      <td>-0.354437</td>\n",
              "      <td>-0.612994</td>\n",
              "      <td>0.192945</td>\n",
              "      <td>0.591046</td>\n",
              "    </tr>\n",
              "    <tr>\n",
              "      <th>7</th>\n",
              "      <td>1.209953</td>\n",
              "      <td>1.221356</td>\n",
              "      <td>1.208842</td>\n",
              "      <td>1.209871</td>\n",
              "      <td>1.255956e+09</td>\n",
              "      <td>1.688117e+09</td>\n",
              "      <td>34213.829891</td>\n",
              "      <td>3.872098e+08</td>\n",
              "      <td>5.211518e+08</td>\n",
              "      <td>-0.500879</td>\n",
              "      <td>-0.500612</td>\n",
              "      <td>0.193451</td>\n",
              "      <td>0.590925</td>\n",
              "    </tr>\n",
              "    <tr>\n",
              "      <th>8</th>\n",
              "      <td>1.209805</td>\n",
              "      <td>1.221377</td>\n",
              "      <td>1.208783</td>\n",
              "      <td>1.209791</td>\n",
              "      <td>2.026158e+09</td>\n",
              "      <td>2.722024e+09</td>\n",
              "      <td>167350.948944</td>\n",
              "      <td>3.599943e+08</td>\n",
              "      <td>4.846861e+08</td>\n",
              "      <td>-0.613248</td>\n",
              "      <td>-0.354152</td>\n",
              "      <td>0.193956</td>\n",
              "      <td>0.590803</td>\n",
              "    </tr>\n",
              "    <tr>\n",
              "      <th>9</th>\n",
              "      <td>1.209971</td>\n",
              "      <td>1.221399</td>\n",
              "      <td>1.208873</td>\n",
              "      <td>1.209929</td>\n",
              "      <td>5.319540e+09</td>\n",
              "      <td>7.163239e+09</td>\n",
              "      <td>49575.805166</td>\n",
              "      <td>2.482880e+09</td>\n",
              "      <td>3.345329e+09</td>\n",
              "      <td>-0.683887</td>\n",
              "      <td>-0.183596</td>\n",
              "      <td>0.194462</td>\n",
              "      <td>0.590680</td>\n",
              "    </tr>\n",
              "  </tbody>\n",
              "</table>\n",
              "</div>\n",
              "      <button class=\"colab-df-convert\" onclick=\"convertToInteractive('df-1c4b8e73-ce2c-49e9-a3df-54a757a7fe7a')\"\n",
              "              title=\"Convert this dataframe to an interactive table.\"\n",
              "              style=\"display:none;\">\n",
              "        \n",
              "  <svg xmlns=\"http://www.w3.org/2000/svg\" height=\"24px\"viewBox=\"0 0 24 24\"\n",
              "       width=\"24px\">\n",
              "    <path d=\"M0 0h24v24H0V0z\" fill=\"none\"/>\n",
              "    <path d=\"M18.56 5.44l.94 2.06.94-2.06 2.06-.94-2.06-.94-.94-2.06-.94 2.06-2.06.94zm-11 1L8.5 8.5l.94-2.06 2.06-.94-2.06-.94L8.5 2.5l-.94 2.06-2.06.94zm10 10l.94 2.06.94-2.06 2.06-.94-2.06-.94-.94-2.06-.94 2.06-2.06.94z\"/><path d=\"M17.41 7.96l-1.37-1.37c-.4-.4-.92-.59-1.43-.59-.52 0-1.04.2-1.43.59L10.3 9.45l-7.72 7.72c-.78.78-.78 2.05 0 2.83L4 21.41c.39.39.9.59 1.41.59.51 0 1.02-.2 1.41-.59l7.78-7.78 2.81-2.81c.8-.78.8-2.07 0-2.86zM5.41 20L4 18.59l7.72-7.72 1.47 1.35L5.41 20z\"/>\n",
              "  </svg>\n",
              "      </button>\n",
              "      \n",
              "  <style>\n",
              "    .colab-df-container {\n",
              "      display:flex;\n",
              "      flex-wrap:wrap;\n",
              "      gap: 12px;\n",
              "    }\n",
              "\n",
              "    .colab-df-convert {\n",
              "      background-color: #E8F0FE;\n",
              "      border: none;\n",
              "      border-radius: 50%;\n",
              "      cursor: pointer;\n",
              "      display: none;\n",
              "      fill: #1967D2;\n",
              "      height: 32px;\n",
              "      padding: 0 0 0 0;\n",
              "      width: 32px;\n",
              "    }\n",
              "\n",
              "    .colab-df-convert:hover {\n",
              "      background-color: #E2EBFA;\n",
              "      box-shadow: 0px 1px 2px rgba(60, 64, 67, 0.3), 0px 1px 3px 1px rgba(60, 64, 67, 0.15);\n",
              "      fill: #174EA6;\n",
              "    }\n",
              "\n",
              "    [theme=dark] .colab-df-convert {\n",
              "      background-color: #3B4455;\n",
              "      fill: #D2E3FC;\n",
              "    }\n",
              "\n",
              "    [theme=dark] .colab-df-convert:hover {\n",
              "      background-color: #434B5C;\n",
              "      box-shadow: 0px 1px 3px 1px rgba(0, 0, 0, 0.15);\n",
              "      filter: drop-shadow(0px 1px 2px rgba(0, 0, 0, 0.3));\n",
              "      fill: #FFFFFF;\n",
              "    }\n",
              "  </style>\n",
              "\n",
              "      <script>\n",
              "        const buttonEl =\n",
              "          document.querySelector('#df-1c4b8e73-ce2c-49e9-a3df-54a757a7fe7a button.colab-df-convert');\n",
              "        buttonEl.style.display =\n",
              "          google.colab.kernel.accessAllowed ? 'block' : 'none';\n",
              "\n",
              "        async function convertToInteractive(key) {\n",
              "          const element = document.querySelector('#df-1c4b8e73-ce2c-49e9-a3df-54a757a7fe7a');\n",
              "          const dataTable =\n",
              "            await google.colab.kernel.invokeFunction('convertToInteractive',\n",
              "                                                     [key], {});\n",
              "          if (!dataTable) return;\n",
              "\n",
              "          const docLinkHtml = 'Like what you see? Visit the ' +\n",
              "            '<a target=\"_blank\" href=https://colab.research.google.com/notebooks/data_table.ipynb>data table notebook</a>'\n",
              "            + ' to learn more about interactive tables.';\n",
              "          element.innerHTML = '';\n",
              "          dataTable['output_type'] = 'display_data';\n",
              "          await google.colab.output.renderOutput(dataTable, element);\n",
              "          const docLink = document.createElement('div');\n",
              "          docLink.innerHTML = docLinkHtml;\n",
              "          element.appendChild(docLink);\n",
              "        }\n",
              "      </script>\n",
              "    </div>\n",
              "  </div>\n",
              "  "
            ]
          },
          "metadata": {},
          "execution_count": 64
        }
      ]
    },
    {
      "cell_type": "markdown",
      "source": [
        "Como se podía ver también en el inicio de los datos que mostramos al principio, hay filas en las que estos datos no concuerda, en este caso es la fila 4, en la que hay 3 compras y sin embargo no hay volumen ni de dólares ni de euros. Así que controlamos esto:\n",
        "\n",
        "En el caso de que el número de compras sea 0, lo que haremos será sustituírlo por la media de compras del conjunto de train. Hacemos de manera análoga con las varibles de volumen de dólares y de euros en caso de que ambas sean desconocidas, mientras que si una se conoce, la otra se obtiene aplicando una operación con el precio final conocido para pasar de una moneda a la otra.\n",
        "\n",
        "El caso en que las 3 sean 0 se considera correcto, ya que puede que en una hora no se realizaran transacciones entre dólares y euros\n",
        "\n",
        "Lo haremos sobre una copia del dataset en caso de que este tratamiento no ayude a la predicción (como se va a comprobar)"
      ],
      "metadata": {
        "id": "LOC9_VYMj7_w"
      }
    },
    {
      "cell_type": "code",
      "source": [
        "# Creamos el nuevo dataset que vamos a usar \n",
        "new_train = df_train.copy()\n",
        "new_val = df_val.copy()\n",
        "new_test = df_test.copy()\n",
        "\n",
        "# Obtenemos las medidas con las que vamos a sustituir\n",
        "media_compras = new_train['numero de compras'].mean()\n",
        "media_dol = new_train['volumen de dolares'].mean()\n",
        "media_eur = new_train['volumen de euros'].mean()\n",
        "\n",
        "# Sustituímos según los diferentes casos\n",
        "for c in range(len(new_train)):\n",
        "  if new_train['numero de compras'][c] == new_train['volumen de dolares'][c] == new_train['volumen de euros'][c] == 0: ## 0 0 0\n",
        "    pass # Pasamos porque es un caso realista\n",
        "  elif new_train['numero de compras'][c] == 0: \n",
        "    new_train['numero de compras'][c] = media_compras \n",
        "    if new_train['volumen de dolares'][c] == 0 and new_train['volumen de euros'][c] != 0:\n",
        "      new_train['volumen de dolares'][c] = new_train['volumen de euros'][c] / new_train['precio fin'][c] # transformación de euros a dólares\n",
        "    elif new_train['volumen de dolares'][c] != 0 and new_train['volumen de euros'][c] == 0: \n",
        "      new_train['volumen de euros'][c] = new_train['volumen de dolares'][c] * new_train['precio fin'][c] # transformación de dólares a euros\n",
        "  elif new_train['numero de compras'][c] != 0: \n",
        "    if new_train['volumen de dolares'][c] == 0 and new_train['volumen de euros'][c] == 0: \n",
        "      new_train['volumen de dolares'][c] = media_dol\n",
        "      new_train['volumen de euros'][c] = media_eur\n",
        "    elif new_train['volumen de dolares'][c] == 0 and new_train['volumen de euros'][c] != 0:\n",
        "      new_train['volumen de dolares'][c] = new_train['volumen de euros'][c] / new_train['precio fin'][c]\n",
        "    elif new_train['volumen de dolares'][c] != 0 and new_train['volumen de euros'][c] == 0:\n",
        "      new_train['volumen de euros'][c] = new_train['volumen de dolares'][c] * new_train['precio fin'][c]"
      ],
      "metadata": {
        "id": "_9AagVHcjdSq"
      },
      "execution_count": null,
      "outputs": []
    },
    {
      "cell_type": "code",
      "source": [
        "# Vemos cómo se corrigieron las filas 4 y 6\n",
        "new_train.head(10)"
      ],
      "metadata": {
        "colab": {
          "base_uri": "https://localhost:8080/",
          "height": 363
        },
        "id": "0zGzCPRiXitI",
        "outputId": "f537d485-5161-499b-86ae-f73a78c8f324"
      },
      "execution_count": null,
      "outputs": [
        {
          "output_type": "execute_result",
          "data": {
            "text/plain": [
              "   precio inicio  precio mas alto  precio mas bajo  precio fin   volumen  \\\n",
              "0         1.1154           1.1200           1.1154      1.1182  37309.48   \n",
              "1         1.1182           1.1182           1.1151      1.1151   2132.61   \n",
              "2         1.1151           1.1172           1.1151      1.1151   1950.83   \n",
              "3         1.1136           1.1151           1.1136      1.1141    310.53   \n",
              "4         1.1126           1.1133           1.1126      1.1133    394.52   \n",
              "5         1.1141           1.1174           1.1141      1.1171   2093.90   \n",
              "6         1.1135           1.1135           1.1135      1.1135    200.34   \n",
              "7         1.1186           1.1187           1.1155      1.1181    445.36   \n",
              "8         1.1153           1.1191           1.1142      1.1163    718.84   \n",
              "9         1.1190           1.1195           1.1162      1.1194   1888.24   \n",
              "\n",
              "   volumen en cuotas  numero de compras  volumen de dolares  volumen de euros  \\\n",
              "0       41775.464275               31.0        2.041946e+04      2.285882e+04   \n",
              "1        2384.431292                5.0        2.036690e+03      2.277401e+03   \n",
              "2        2175.391533                4.0        1.000000e+01      1.117200e+01   \n",
              "3         346.107438                4.0        2.320000e+02      2.586564e+02   \n",
              "4         439.130428                3.0        1.045678e-10      1.164153e-10   \n",
              "5        2335.519448               17.0        1.634990e+03      1.824010e+03   \n",
              "6         223.078590                1.0        1.045490e-10      1.164153e-10   \n",
              "7         497.658656                6.0        2.841100e+02      3.177803e+02   \n",
              "8         802.820127               32.0        2.641000e+02      2.955042e+02   \n",
              "9        2113.661187                9.0        1.824940e+03      2.043006e+03   \n",
              "\n",
              "   Dia incial sin  Dia inicial cos  Año inicial sin  Año inicial cos  \n",
              "0    8.660254e-01        -0.500000         0.244241         0.969715  \n",
              "1    7.071068e-01        -0.707107         0.244937         0.969539  \n",
              "2    5.000000e-01        -0.866025         0.245632         0.969363  \n",
              "3    2.588190e-01        -0.965926         0.246327         0.969187  \n",
              "4    4.199953e-12        -1.000000         0.247022         0.969010  \n",
              "5   -2.588190e-01        -0.965926         0.247717         0.968832  \n",
              "6   -5.000000e-01        -0.866025         0.248412         0.968654  \n",
              "7   -7.071068e-01        -0.707107         0.249107         0.968476  \n",
              "8   -8.660254e-01        -0.500000         0.249801         0.968297  \n",
              "9   -9.659258e-01        -0.258819         0.250496         0.968118  "
            ],
            "text/html": [
              "\n",
              "  <div id=\"df-882d0b5b-9f85-4355-bec0-bf998a2e528d\">\n",
              "    <div class=\"colab-df-container\">\n",
              "      <div>\n",
              "<style scoped>\n",
              "    .dataframe tbody tr th:only-of-type {\n",
              "        vertical-align: middle;\n",
              "    }\n",
              "\n",
              "    .dataframe tbody tr th {\n",
              "        vertical-align: top;\n",
              "    }\n",
              "\n",
              "    .dataframe thead th {\n",
              "        text-align: right;\n",
              "    }\n",
              "</style>\n",
              "<table border=\"1\" class=\"dataframe\">\n",
              "  <thead>\n",
              "    <tr style=\"text-align: right;\">\n",
              "      <th></th>\n",
              "      <th>precio inicio</th>\n",
              "      <th>precio mas alto</th>\n",
              "      <th>precio mas bajo</th>\n",
              "      <th>precio fin</th>\n",
              "      <th>volumen</th>\n",
              "      <th>volumen en cuotas</th>\n",
              "      <th>numero de compras</th>\n",
              "      <th>volumen de dolares</th>\n",
              "      <th>volumen de euros</th>\n",
              "      <th>Dia incial sin</th>\n",
              "      <th>Dia inicial cos</th>\n",
              "      <th>Año inicial sin</th>\n",
              "      <th>Año inicial cos</th>\n",
              "    </tr>\n",
              "  </thead>\n",
              "  <tbody>\n",
              "    <tr>\n",
              "      <th>0</th>\n",
              "      <td>1.1154</td>\n",
              "      <td>1.1200</td>\n",
              "      <td>1.1154</td>\n",
              "      <td>1.1182</td>\n",
              "      <td>37309.48</td>\n",
              "      <td>41775.464275</td>\n",
              "      <td>31.0</td>\n",
              "      <td>2.041946e+04</td>\n",
              "      <td>2.285882e+04</td>\n",
              "      <td>8.660254e-01</td>\n",
              "      <td>-0.500000</td>\n",
              "      <td>0.244241</td>\n",
              "      <td>0.969715</td>\n",
              "    </tr>\n",
              "    <tr>\n",
              "      <th>1</th>\n",
              "      <td>1.1182</td>\n",
              "      <td>1.1182</td>\n",
              "      <td>1.1151</td>\n",
              "      <td>1.1151</td>\n",
              "      <td>2132.61</td>\n",
              "      <td>2384.431292</td>\n",
              "      <td>5.0</td>\n",
              "      <td>2.036690e+03</td>\n",
              "      <td>2.277401e+03</td>\n",
              "      <td>7.071068e-01</td>\n",
              "      <td>-0.707107</td>\n",
              "      <td>0.244937</td>\n",
              "      <td>0.969539</td>\n",
              "    </tr>\n",
              "    <tr>\n",
              "      <th>2</th>\n",
              "      <td>1.1151</td>\n",
              "      <td>1.1172</td>\n",
              "      <td>1.1151</td>\n",
              "      <td>1.1151</td>\n",
              "      <td>1950.83</td>\n",
              "      <td>2175.391533</td>\n",
              "      <td>4.0</td>\n",
              "      <td>1.000000e+01</td>\n",
              "      <td>1.117200e+01</td>\n",
              "      <td>5.000000e-01</td>\n",
              "      <td>-0.866025</td>\n",
              "      <td>0.245632</td>\n",
              "      <td>0.969363</td>\n",
              "    </tr>\n",
              "    <tr>\n",
              "      <th>3</th>\n",
              "      <td>1.1136</td>\n",
              "      <td>1.1151</td>\n",
              "      <td>1.1136</td>\n",
              "      <td>1.1141</td>\n",
              "      <td>310.53</td>\n",
              "      <td>346.107438</td>\n",
              "      <td>4.0</td>\n",
              "      <td>2.320000e+02</td>\n",
              "      <td>2.586564e+02</td>\n",
              "      <td>2.588190e-01</td>\n",
              "      <td>-0.965926</td>\n",
              "      <td>0.246327</td>\n",
              "      <td>0.969187</td>\n",
              "    </tr>\n",
              "    <tr>\n",
              "      <th>4</th>\n",
              "      <td>1.1126</td>\n",
              "      <td>1.1133</td>\n",
              "      <td>1.1126</td>\n",
              "      <td>1.1133</td>\n",
              "      <td>394.52</td>\n",
              "      <td>439.130428</td>\n",
              "      <td>3.0</td>\n",
              "      <td>1.045678e-10</td>\n",
              "      <td>1.164153e-10</td>\n",
              "      <td>4.199953e-12</td>\n",
              "      <td>-1.000000</td>\n",
              "      <td>0.247022</td>\n",
              "      <td>0.969010</td>\n",
              "    </tr>\n",
              "    <tr>\n",
              "      <th>5</th>\n",
              "      <td>1.1141</td>\n",
              "      <td>1.1174</td>\n",
              "      <td>1.1141</td>\n",
              "      <td>1.1171</td>\n",
              "      <td>2093.90</td>\n",
              "      <td>2335.519448</td>\n",
              "      <td>17.0</td>\n",
              "      <td>1.634990e+03</td>\n",
              "      <td>1.824010e+03</td>\n",
              "      <td>-2.588190e-01</td>\n",
              "      <td>-0.965926</td>\n",
              "      <td>0.247717</td>\n",
              "      <td>0.968832</td>\n",
              "    </tr>\n",
              "    <tr>\n",
              "      <th>6</th>\n",
              "      <td>1.1135</td>\n",
              "      <td>1.1135</td>\n",
              "      <td>1.1135</td>\n",
              "      <td>1.1135</td>\n",
              "      <td>200.34</td>\n",
              "      <td>223.078590</td>\n",
              "      <td>1.0</td>\n",
              "      <td>1.045490e-10</td>\n",
              "      <td>1.164153e-10</td>\n",
              "      <td>-5.000000e-01</td>\n",
              "      <td>-0.866025</td>\n",
              "      <td>0.248412</td>\n",
              "      <td>0.968654</td>\n",
              "    </tr>\n",
              "    <tr>\n",
              "      <th>7</th>\n",
              "      <td>1.1186</td>\n",
              "      <td>1.1187</td>\n",
              "      <td>1.1155</td>\n",
              "      <td>1.1181</td>\n",
              "      <td>445.36</td>\n",
              "      <td>497.658656</td>\n",
              "      <td>6.0</td>\n",
              "      <td>2.841100e+02</td>\n",
              "      <td>3.177803e+02</td>\n",
              "      <td>-7.071068e-01</td>\n",
              "      <td>-0.707107</td>\n",
              "      <td>0.249107</td>\n",
              "      <td>0.968476</td>\n",
              "    </tr>\n",
              "    <tr>\n",
              "      <th>8</th>\n",
              "      <td>1.1153</td>\n",
              "      <td>1.1191</td>\n",
              "      <td>1.1142</td>\n",
              "      <td>1.1163</td>\n",
              "      <td>718.84</td>\n",
              "      <td>802.820127</td>\n",
              "      <td>32.0</td>\n",
              "      <td>2.641000e+02</td>\n",
              "      <td>2.955042e+02</td>\n",
              "      <td>-8.660254e-01</td>\n",
              "      <td>-0.500000</td>\n",
              "      <td>0.249801</td>\n",
              "      <td>0.968297</td>\n",
              "    </tr>\n",
              "    <tr>\n",
              "      <th>9</th>\n",
              "      <td>1.1190</td>\n",
              "      <td>1.1195</td>\n",
              "      <td>1.1162</td>\n",
              "      <td>1.1194</td>\n",
              "      <td>1888.24</td>\n",
              "      <td>2113.661187</td>\n",
              "      <td>9.0</td>\n",
              "      <td>1.824940e+03</td>\n",
              "      <td>2.043006e+03</td>\n",
              "      <td>-9.659258e-01</td>\n",
              "      <td>-0.258819</td>\n",
              "      <td>0.250496</td>\n",
              "      <td>0.968118</td>\n",
              "    </tr>\n",
              "  </tbody>\n",
              "</table>\n",
              "</div>\n",
              "      <button class=\"colab-df-convert\" onclick=\"convertToInteractive('df-882d0b5b-9f85-4355-bec0-bf998a2e528d')\"\n",
              "              title=\"Convert this dataframe to an interactive table.\"\n",
              "              style=\"display:none;\">\n",
              "        \n",
              "  <svg xmlns=\"http://www.w3.org/2000/svg\" height=\"24px\"viewBox=\"0 0 24 24\"\n",
              "       width=\"24px\">\n",
              "    <path d=\"M0 0h24v24H0V0z\" fill=\"none\"/>\n",
              "    <path d=\"M18.56 5.44l.94 2.06.94-2.06 2.06-.94-2.06-.94-.94-2.06-.94 2.06-2.06.94zm-11 1L8.5 8.5l.94-2.06 2.06-.94-2.06-.94L8.5 2.5l-.94 2.06-2.06.94zm10 10l.94 2.06.94-2.06 2.06-.94-2.06-.94-.94-2.06-.94 2.06-2.06.94z\"/><path d=\"M17.41 7.96l-1.37-1.37c-.4-.4-.92-.59-1.43-.59-.52 0-1.04.2-1.43.59L10.3 9.45l-7.72 7.72c-.78.78-.78 2.05 0 2.83L4 21.41c.39.39.9.59 1.41.59.51 0 1.02-.2 1.41-.59l7.78-7.78 2.81-2.81c.8-.78.8-2.07 0-2.86zM5.41 20L4 18.59l7.72-7.72 1.47 1.35L5.41 20z\"/>\n",
              "  </svg>\n",
              "      </button>\n",
              "      \n",
              "  <style>\n",
              "    .colab-df-container {\n",
              "      display:flex;\n",
              "      flex-wrap:wrap;\n",
              "      gap: 12px;\n",
              "    }\n",
              "\n",
              "    .colab-df-convert {\n",
              "      background-color: #E8F0FE;\n",
              "      border: none;\n",
              "      border-radius: 50%;\n",
              "      cursor: pointer;\n",
              "      display: none;\n",
              "      fill: #1967D2;\n",
              "      height: 32px;\n",
              "      padding: 0 0 0 0;\n",
              "      width: 32px;\n",
              "    }\n",
              "\n",
              "    .colab-df-convert:hover {\n",
              "      background-color: #E2EBFA;\n",
              "      box-shadow: 0px 1px 2px rgba(60, 64, 67, 0.3), 0px 1px 3px 1px rgba(60, 64, 67, 0.15);\n",
              "      fill: #174EA6;\n",
              "    }\n",
              "\n",
              "    [theme=dark] .colab-df-convert {\n",
              "      background-color: #3B4455;\n",
              "      fill: #D2E3FC;\n",
              "    }\n",
              "\n",
              "    [theme=dark] .colab-df-convert:hover {\n",
              "      background-color: #434B5C;\n",
              "      box-shadow: 0px 1px 3px 1px rgba(0, 0, 0, 0.15);\n",
              "      filter: drop-shadow(0px 1px 2px rgba(0, 0, 0, 0.3));\n",
              "      fill: #FFFFFF;\n",
              "    }\n",
              "  </style>\n",
              "\n",
              "      <script>\n",
              "        const buttonEl =\n",
              "          document.querySelector('#df-882d0b5b-9f85-4355-bec0-bf998a2e528d button.colab-df-convert');\n",
              "        buttonEl.style.display =\n",
              "          google.colab.kernel.accessAllowed ? 'block' : 'none';\n",
              "\n",
              "        async function convertToInteractive(key) {\n",
              "          const element = document.querySelector('#df-882d0b5b-9f85-4355-bec0-bf998a2e528d');\n",
              "          const dataTable =\n",
              "            await google.colab.kernel.invokeFunction('convertToInteractive',\n",
              "                                                     [key], {});\n",
              "          if (!dataTable) return;\n",
              "\n",
              "          const docLinkHtml = 'Like what you see? Visit the ' +\n",
              "            '<a target=\"_blank\" href=https://colab.research.google.com/notebooks/data_table.ipynb>data table notebook</a>'\n",
              "            + ' to learn more about interactive tables.';\n",
              "          element.innerHTML = '';\n",
              "          dataTable['output_type'] = 'display_data';\n",
              "          await google.colab.output.renderOutput(dataTable, element);\n",
              "          const docLink = document.createElement('div');\n",
              "          docLink.innerHTML = docLinkHtml;\n",
              "          element.appendChild(docLink);\n",
              "        }\n",
              "      </script>\n",
              "    </div>\n",
              "  </div>\n",
              "  "
            ]
          },
          "metadata": {},
          "execution_count": 42
        }
      ]
    },
    {
      "cell_type": "markdown",
      "source": [
        "Ahora probamos a entrenar a ver si con esto nos mejora la predicción. Para ello tenemos que volver a normalizar"
      ],
      "metadata": {
        "id": "q9A7vHK2SF0L"
      }
    },
    {
      "cell_type": "code",
      "source": [
        "train_mean = new_train.mean()\n",
        "train_std = new_train.std()"
      ],
      "metadata": {
        "id": "EgauEebfggkp"
      },
      "execution_count": null,
      "outputs": []
    },
    {
      "cell_type": "code",
      "source": [
        "# Normalizamos\n",
        "new_train = (new_train - train_mean) / train_std\n",
        "new_val = (new_val - train_mean) / train_std\n",
        "new_test = (new_test - train_mean) / train_std\n",
        "\n",
        "# Tenemos que hacer el enventanado de nuestros nuevos conjuntos\n",
        "x_new_train, y_new_train = sliding_window(new_train,new_train[target_labels], input_width, label_width=label_width, offset=offset)\n",
        "x_new_val, y_new_val = sliding_window(new_val,new_val[target_labels], input_width, label_width=label_width, offset=offset)\n",
        "x_new_test, y_new_test = sliding_window(new_test,new_test[target_labels], input_width, label_width=label_width, offset=offset)\n",
        "\n",
        "# Entrenamos\n",
        "history = entrenar_modelo(lstm_model, x_new_train, y_new_train, x_new_val, y_new_val, MAX_EPOCHS, batch_size)\n",
        "\n",
        "# Predecimos el resultado del test con el modelo\n",
        "model_result_new = lstm_model.predict(x_new_test)\n",
        "target_index_new = new_test.columns.get_loc(target_labels)\n",
        "\n",
        "# Deshacemos la normalización para representar en unidades reales directamente \n",
        "model_result_cv = (model_result_new*train_std[3]) + train_mean[3]\n",
        "x_new_test2 = (x_test*train_std[3]) + train_mean[3]\n",
        "y_new_test2 = (y_test*train_std[3]) + train_mean[3]\n",
        "\n",
        "# Volvemos a representar la gráfica de resultados\n",
        "plot_prediction(x_new_test2[:, :, target_index_new], y_new_test2, model_result_cv, target_labels, input_width, label_width + offset, index=0)"
      ],
      "metadata": {
        "colab": {
          "base_uri": "https://localhost:8080/",
          "height": 298
        },
        "id": "ZbH1gxmQSLT_",
        "outputId": "3f5e329b-8058-4ce4-8ab6-25b3dbb9026a"
      },
      "execution_count": null,
      "outputs": [
        {
          "output_type": "stream",
          "name": "stdout",
          "text": [
            "51/51 [==============================] - 1s 15ms/step\n"
          ]
        },
        {
          "output_type": "display_data",
          "data": {
            "text/plain": [
              "<Figure size 432x288 with 1 Axes>"
            ],
            "image/png": "[encoded data removed]"
          },
          "metadata": {
            "needs_background": "light"
          }
        }
      ]
    },
    {
      "cell_type": "markdown",
      "source": [
        "Calculamos el Mean Absolut Error"
      ],
      "metadata": {
        "id": "_QZSRrBVXjy5"
      }
    },
    {
      "cell_type": "code",
      "source": [
        "mae3 = lstm_model.evaluate(x_new_test2, y_new_test2, verbose=0)[1]\n",
        "print(mae3)"
      ],
      "metadata": {
        "colab": {
          "base_uri": "https://localhost:8080/"
        },
        "id": "4RABxr8oXmZY",
        "outputId": "482e6bde-edcf-49da-c687-7133149bc2c2"
      },
      "execution_count": null,
      "outputs": [
        {
          "output_type": "stream",
          "name": "stdout",
          "text": [
            "0.010423416271805763\n"
          ]
        }
      ]
    },
    {
      "cell_type": "markdown",
      "source": [
        "No hai una mejora en el MAE y como no tenemos claro el significado de estas variables, sino que nos basábamos en suposiciones, vamos a rechazar esta transformación"
      ],
      "metadata": {
        "id": "WcBDRZUAkgWm"
      }
    },
    {
      "cell_type": "markdown",
      "source": [
        "## Eliminación de 2020\n",
        "Como vimos más arriba, en 2020 los datos en general son mucho menores en todas las variables, lo que nosotros pensamos que se debe a las circunstancias especiales del Covid, es por esto que para predecir algo del 2022, vamos a probar a tomar datos de la 'normalidad', es decir, eliminando todos los que se corresponden con 2020.\n",
        "De nuevo, lo hacemos en una copia para no sobreescribir un dataframe ya correcto con una suposición que podría no ser acertada (como se comprueba luego)"
      ],
      "metadata": {
        "id": "9wKp6RXre1be"
      }
    },
    {
      "cell_type": "code",
      "source": [
        "# Vamos a utilizar el índice obtenido al principio para eliminar estas filas del dataframe\n",
        "\n",
        "# DF xa ndesnormalizados\n",
        "df_train_20 = df_train.copy()\n",
        "df_val_20 = df_val.copy()\n",
        "df_test_20 = df_test.copy()\n",
        "df_train_20 = df_train_20.drop(range(0,n_covid,1),axis=0)\n"
      ],
      "metadata": {
        "id": "uow7g3NXfVeI"
      },
      "execution_count": null,
      "outputs": []
    },
    {
      "cell_type": "code",
      "source": [
        "# Comprobamos que hemos eliminado las filas\n",
        "df_train_20"
      ],
      "metadata": {
        "colab": {
          "base_uri": "https://localhost:8080/",
          "height": 424
        },
        "id": "l2UJLGo9iwBb",
        "outputId": "d1337543-31c7-4177-914a-b4b6aee0e457"
      },
      "execution_count": null,
      "outputs": [
        {
          "output_type": "execute_result",
          "data": {
            "text/plain": [
              "       precio inicio  precio mas alto  precio mas bajo  precio fin  \\\n",
              "8710          1.2196           1.2204           1.2160      1.2202   \n",
              "8711          1.2201           1.2265           1.2197      1.2259   \n",
              "8712          1.2259           1.2266           1.2244      1.2263   \n",
              "8713          1.2263           1.2269           1.2260      1.2265   \n",
              "8714          1.2265           1.2283           1.2218      1.2251   \n",
              "...              ...              ...              ...         ...   \n",
              "16297         1.1380           1.1390           1.1370      1.1380   \n",
              "16298         1.1370           1.1380           1.1370      1.1380   \n",
              "16299         1.1380           1.1390           1.1370      1.1390   \n",
              "16300         1.1390           1.1390           1.1380      1.1380   \n",
              "16301         1.1380           1.1390           1.1380      1.1380   \n",
              "\n",
              "          volumen  volumen en cuotas  numero de compras  volumen de dolares  \\\n",
              "8710   1489724.17       1.814705e+06             4837.0           512221.20   \n",
              "8711   1239755.44       1.517177e+06             5570.0           763018.55   \n",
              "8712    606953.70       7.437827e+05             3482.0           268826.24   \n",
              "8713    264073.46       3.238729e+05             2575.0           149154.32   \n",
              "8714    441178.15       5.412586e+05             3273.0           242072.63   \n",
              "...           ...                ...                ...                 ...   \n",
              "16297  1326144.00       1.509199e+06             3579.0           506119.10   \n",
              "16298  1380271.00       1.569979e+06             3646.0           611308.80   \n",
              "16299  1087798.70       1.237942e+06             3272.0           509875.70   \n",
              "16300   994822.70       1.132553e+06             2833.0           445035.20   \n",
              "16301   778014.60       8.857119e+05             2324.0           331312.50   \n",
              "\n",
              "       volumen de euros  Dia incial sin  Dia inicial cos  Año inicial sin  \\\n",
              "8710      624102.210356   -6.012051e-12     1.000000e+00         0.221922   \n",
              "8711      933900.490400    2.588190e-01     9.659258e-01         0.222621   \n",
              "8712      329447.789738    5.000000e-01     8.660254e-01         0.223320   \n",
              "8713      182939.140343    7.071068e-01     7.071068e-01         0.224019   \n",
              "8714      297043.777938    8.660254e-01     5.000000e-01         0.224718   \n",
              "...                 ...             ...              ...              ...   \n",
              "16297     576174.789000   -8.660254e-01    -5.000000e-01        -0.571420   \n",
              "16298     695669.414400   -9.659258e-01    -2.588190e-01        -0.570831   \n",
              "16299     580432.923200   -1.000000e+00    -8.691995e-12        -0.570242   \n",
              "16300     506895.092800   -9.659258e-01     2.588190e-01        -0.569653   \n",
              "16301     377364.937500   -8.660254e-01     5.000000e-01        -0.569063   \n",
              "\n",
              "       Año inicial cos  \n",
              "8710          0.975065  \n",
              "8711          0.974905  \n",
              "8712          0.974745  \n",
              "8713          0.974585  \n",
              "8714          0.974424  \n",
              "...                ...  \n",
              "16297         0.820658  \n",
              "16298         0.821067  \n",
              "16299         0.821477  \n",
              "16300         0.821885  \n",
              "16301         0.822294  \n",
              "\n",
              "[7592 rows x 13 columns]"
            ],
            "text/html": [
              "\n",
              "  <div id=\"df-ed2c99c8-2d83-4fd6-bae5-d6dc21c19555\">\n",
              "    <div class=\"colab-df-container\">\n",
              "      <div>\n",
              "<style scoped>\n",
              "    .dataframe tbody tr th:only-of-type {\n",
              "        vertical-align: middle;\n",
              "    }\n",
              "\n",
              "    .dataframe tbody tr th {\n",
              "        vertical-align: top;\n",
              "    }\n",
              "\n",
              "    .dataframe thead th {\n",
              "        text-align: right;\n",
              "    }\n",
              "</style>\n",
              "<table border=\"1\" class=\"dataframe\">\n",
              "  <thead>\n",
              "    <tr style=\"text-align: right;\">\n",
              "      <th></th>\n",
              "      <th>precio inicio</th>\n",
              "      <th>precio mas alto</th>\n",
              "      <th>precio mas bajo</th>\n",
              "      <th>precio fin</th>\n",
              "      <th>volumen</th>\n",
              "      <th>volumen en cuotas</th>\n",
              "      <th>numero de compras</th>\n",
              "      <th>volumen de dolares</th>\n",
              "      <th>volumen de euros</th>\n",
              "      <th>Dia incial sin</th>\n",
              "      <th>Dia inicial cos</th>\n",
              "      <th>Año inicial sin</th>\n",
              "      <th>Año inicial cos</th>\n",
              "    </tr>\n",
              "  </thead>\n",
              "  <tbody>\n",
              "    <tr>\n",
              "      <th>8710</th>\n",
              "      <td>1.2196</td>\n",
              "      <td>1.2204</td>\n",
              "      <td>1.2160</td>\n",
              "      <td>1.2202</td>\n",
              "      <td>1489724.17</td>\n",
              "      <td>1.814705e+06</td>\n",
              "      <td>4837.0</td>\n",
              "      <td>512221.20</td>\n",
              "      <td>624102.210356</td>\n",
              "      <td>-6.012051e-12</td>\n",
              "      <td>1.000000e+00</td>\n",
              "      <td>0.221922</td>\n",
              "      <td>0.975065</td>\n",
              "    </tr>\n",
              "    <tr>\n",
              "      <th>8711</th>\n",
              "      <td>1.2201</td>\n",
              "      <td>1.2265</td>\n",
              "      <td>1.2197</td>\n",
              "      <td>1.2259</td>\n",
              "      <td>1239755.44</td>\n",
              "      <td>1.517177e+06</td>\n",
              "      <td>5570.0</td>\n",
              "      <td>763018.55</td>\n",
              "      <td>933900.490400</td>\n",
              "      <td>2.588190e-01</td>\n",
              "      <td>9.659258e-01</td>\n",
              "      <td>0.222621</td>\n",
              "      <td>0.974905</td>\n",
              "    </tr>\n",
              "    <tr>\n",
              "      <th>8712</th>\n",
              "      <td>1.2259</td>\n",
              "      <td>1.2266</td>\n",
              "      <td>1.2244</td>\n",
              "      <td>1.2263</td>\n",
              "      <td>606953.70</td>\n",
              "      <td>7.437827e+05</td>\n",
              "      <td>3482.0</td>\n",
              "      <td>268826.24</td>\n",
              "      <td>329447.789738</td>\n",
              "      <td>5.000000e-01</td>\n",
              "      <td>8.660254e-01</td>\n",
              "      <td>0.223320</td>\n",
              "      <td>0.974745</td>\n",
              "    </tr>\n",
              "    <tr>\n",
              "      <th>8713</th>\n",
              "      <td>1.2263</td>\n",
              "      <td>1.2269</td>\n",
              "      <td>1.2260</td>\n",
              "      <td>1.2265</td>\n",
              "      <td>264073.46</td>\n",
              "      <td>3.238729e+05</td>\n",
              "      <td>2575.0</td>\n",
              "      <td>149154.32</td>\n",
              "      <td>182939.140343</td>\n",
              "      <td>7.071068e-01</td>\n",
              "      <td>7.071068e-01</td>\n",
              "      <td>0.224019</td>\n",
              "      <td>0.974585</td>\n",
              "    </tr>\n",
              "    <tr>\n",
              "      <th>8714</th>\n",
              "      <td>1.2265</td>\n",
              "      <td>1.2283</td>\n",
              "      <td>1.2218</td>\n",
              "      <td>1.2251</td>\n",
              "      <td>441178.15</td>\n",
              "      <td>5.412586e+05</td>\n",
              "      <td>3273.0</td>\n",
              "      <td>242072.63</td>\n",
              "      <td>297043.777938</td>\n",
              "      <td>8.660254e-01</td>\n",
              "      <td>5.000000e-01</td>\n",
              "      <td>0.224718</td>\n",
              "      <td>0.974424</td>\n",
              "    </tr>\n",
              "    <tr>\n",
              "      <th>...</th>\n",
              "      <td>...</td>\n",
              "      <td>...</td>\n",
              "      <td>...</td>\n",
              "      <td>...</td>\n",
              "      <td>...</td>\n",
              "      <td>...</td>\n",
              "      <td>...</td>\n",
              "      <td>...</td>\n",
              "      <td>...</td>\n",
              "      <td>...</td>\n",
              "      <td>...</td>\n",
              "      <td>...</td>\n",
              "      <td>...</td>\n",
              "    </tr>\n",
              "    <tr>\n",
              "      <th>16297</th>\n",
              "      <td>1.1380</td>\n",
              "      <td>1.1390</td>\n",
              "      <td>1.1370</td>\n",
              "      <td>1.1380</td>\n",
              "      <td>1326144.00</td>\n",
              "      <td>1.509199e+06</td>\n",
              "      <td>3579.0</td>\n",
              "      <td>506119.10</td>\n",
              "      <td>576174.789000</td>\n",
              "      <td>-8.660254e-01</td>\n",
              "      <td>-5.000000e-01</td>\n",
              "      <td>-0.571420</td>\n",
              "      <td>0.820658</td>\n",
              "    </tr>\n",
              "    <tr>\n",
              "      <th>16298</th>\n",
              "      <td>1.1370</td>\n",
              "      <td>1.1380</td>\n",
              "      <td>1.1370</td>\n",
              "      <td>1.1380</td>\n",
              "      <td>1380271.00</td>\n",
              "      <td>1.569979e+06</td>\n",
              "      <td>3646.0</td>\n",
              "      <td>611308.80</td>\n",
              "      <td>695669.414400</td>\n",
              "      <td>-9.659258e-01</td>\n",
              "      <td>-2.588190e-01</td>\n",
              "      <td>-0.570831</td>\n",
              "      <td>0.821067</td>\n",
              "    </tr>\n",
              "    <tr>\n",
              "      <th>16299</th>\n",
              "      <td>1.1380</td>\n",
              "      <td>1.1390</td>\n",
              "      <td>1.1370</td>\n",
              "      <td>1.1390</td>\n",
              "      <td>1087798.70</td>\n",
              "      <td>1.237942e+06</td>\n",
              "      <td>3272.0</td>\n",
              "      <td>509875.70</td>\n",
              "      <td>580432.923200</td>\n",
              "      <td>-1.000000e+00</td>\n",
              "      <td>-8.691995e-12</td>\n",
              "      <td>-0.570242</td>\n",
              "      <td>0.821477</td>\n",
              "    </tr>\n",
              "    <tr>\n",
              "      <th>16300</th>\n",
              "      <td>1.1390</td>\n",
              "      <td>1.1390</td>\n",
              "      <td>1.1380</td>\n",
              "      <td>1.1380</td>\n",
              "      <td>994822.70</td>\n",
              "      <td>1.132553e+06</td>\n",
              "      <td>2833.0</td>\n",
              "      <td>445035.20</td>\n",
              "      <td>506895.092800</td>\n",
              "      <td>-9.659258e-01</td>\n",
              "      <td>2.588190e-01</td>\n",
              "      <td>-0.569653</td>\n",
              "      <td>0.821885</td>\n",
              "    </tr>\n",
              "    <tr>\n",
              "      <th>16301</th>\n",
              "      <td>1.1380</td>\n",
              "      <td>1.1390</td>\n",
              "      <td>1.1380</td>\n",
              "      <td>1.1380</td>\n",
              "      <td>778014.60</td>\n",
              "      <td>8.857119e+05</td>\n",
              "      <td>2324.0</td>\n",
              "      <td>331312.50</td>\n",
              "      <td>377364.937500</td>\n",
              "      <td>-8.660254e-01</td>\n",
              "      <td>5.000000e-01</td>\n",
              "      <td>-0.569063</td>\n",
              "      <td>0.822294</td>\n",
              "    </tr>\n",
              "  </tbody>\n",
              "</table>\n",
              "<p>7592 rows × 13 columns</p>\n",
              "</div>\n",
              "      <button class=\"colab-df-convert\" onclick=\"convertToInteractive('df-ed2c99c8-2d83-4fd6-bae5-d6dc21c19555')\"\n",
              "              title=\"Convert this dataframe to an interactive table.\"\n",
              "              style=\"display:none;\">\n",
              "        \n",
              "  <svg xmlns=\"http://www.w3.org/2000/svg\" height=\"24px\"viewBox=\"0 0 24 24\"\n",
              "       width=\"24px\">\n",
              "    <path d=\"M0 0h24v24H0V0z\" fill=\"none\"/>\n",
              "    <path d=\"M18.56 5.44l.94 2.06.94-2.06 2.06-.94-2.06-.94-.94-2.06-.94 2.06-2.06.94zm-11 1L8.5 8.5l.94-2.06 2.06-.94-2.06-.94L8.5 2.5l-.94 2.06-2.06.94zm10 10l.94 2.06.94-2.06 2.06-.94-2.06-.94-.94-2.06-.94 2.06-2.06.94z\"/><path d=\"M17.41 7.96l-1.37-1.37c-.4-.4-.92-.59-1.43-.59-.52 0-1.04.2-1.43.59L10.3 9.45l-7.72 7.72c-.78.78-.78 2.05 0 2.83L4 21.41c.39.39.9.59 1.41.59.51 0 1.02-.2 1.41-.59l7.78-7.78 2.81-2.81c.8-.78.8-2.07 0-2.86zM5.41 20L4 18.59l7.72-7.72 1.47 1.35L5.41 20z\"/>\n",
              "  </svg>\n",
              "      </button>\n",
              "      \n",
              "  <style>\n",
              "    .colab-df-container {\n",
              "      display:flex;\n",
              "      flex-wrap:wrap;\n",
              "      gap: 12px;\n",
              "    }\n",
              "\n",
              "    .colab-df-convert {\n",
              "      background-color: #E8F0FE;\n",
              "      border: none;\n",
              "      border-radius: 50%;\n",
              "      cursor: pointer;\n",
              "      display: none;\n",
              "      fill: #1967D2;\n",
              "      height: 32px;\n",
              "      padding: 0 0 0 0;\n",
              "      width: 32px;\n",
              "    }\n",
              "\n",
              "    .colab-df-convert:hover {\n",
              "      background-color: #E2EBFA;\n",
              "      box-shadow: 0px 1px 2px rgba(60, 64, 67, 0.3), 0px 1px 3px 1px rgba(60, 64, 67, 0.15);\n",
              "      fill: #174EA6;\n",
              "    }\n",
              "\n",
              "    [theme=dark] .colab-df-convert {\n",
              "      background-color: #3B4455;\n",
              "      fill: #D2E3FC;\n",
              "    }\n",
              "\n",
              "    [theme=dark] .colab-df-convert:hover {\n",
              "      background-color: #434B5C;\n",
              "      box-shadow: 0px 1px 3px 1px rgba(0, 0, 0, 0.15);\n",
              "      filter: drop-shadow(0px 1px 2px rgba(0, 0, 0, 0.3));\n",
              "      fill: #FFFFFF;\n",
              "    }\n",
              "  </style>\n",
              "\n",
              "      <script>\n",
              "        const buttonEl =\n",
              "          document.querySelector('#df-ed2c99c8-2d83-4fd6-bae5-d6dc21c19555 button.colab-df-convert');\n",
              "        buttonEl.style.display =\n",
              "          google.colab.kernel.accessAllowed ? 'block' : 'none';\n",
              "\n",
              "        async function convertToInteractive(key) {\n",
              "          const element = document.querySelector('#df-ed2c99c8-2d83-4fd6-bae5-d6dc21c19555');\n",
              "          const dataTable =\n",
              "            await google.colab.kernel.invokeFunction('convertToInteractive',\n",
              "                                                     [key], {});\n",
              "          if (!dataTable) return;\n",
              "\n",
              "          const docLinkHtml = 'Like what you see? Visit the ' +\n",
              "            '<a target=\"_blank\" href=https://colab.research.google.com/notebooks/data_table.ipynb>data table notebook</a>'\n",
              "            + ' to learn more about interactive tables.';\n",
              "          element.innerHTML = '';\n",
              "          dataTable['output_type'] = 'display_data';\n",
              "          await google.colab.output.renderOutput(dataTable, element);\n",
              "          const docLink = document.createElement('div');\n",
              "          docLink.innerHTML = docLinkHtml;\n",
              "          element.appendChild(docLink);\n",
              "        }\n",
              "      </script>\n",
              "    </div>\n",
              "  </div>\n",
              "  "
            ]
          },
          "metadata": {},
          "execution_count": 45
        }
      ]
    },
    {
      "cell_type": "markdown",
      "source": [
        "Ahora vamos a volver a entrenar con el modelo de antes"
      ],
      "metadata": {
        "id": "LqkEk8cRrPx3"
      }
    },
    {
      "cell_type": "code",
      "source": [
        "# Obtenemos las nuevas medidas de normalización\n",
        "train_mean = df_train_20.mean()\n",
        "train_std = df_train_20.std()"
      ],
      "metadata": {
        "id": "WN2gaH2Jly1l"
      },
      "execution_count": null,
      "outputs": []
    },
    {
      "cell_type": "code",
      "source": [
        "# Volvemos a normalizar\n",
        "df_train_20 = (df_train_20 - train_mean) / train_std\n",
        "df_test_20 = (df_test_20 - train_mean) / train_std\n",
        "df_val_20 = (df_val_20 - train_mean) / train_std"
      ],
      "metadata": {
        "id": "uVCkQNV-mCwY"
      },
      "execution_count": null,
      "outputs": []
    },
    {
      "cell_type": "code",
      "source": [
        "# Tenemos que volver a crear los parámetros x_train e y_train con el nuevo df_train:\n",
        "x_train_20, y_train_20 = sliding_window(df_train_20,df_train_20[target_labels], input_width, label_width=label_width, offset=offset)\n",
        "x_val_20, y_val_20 = sliding_window(df_val_20,df_val_20[target_labels], input_width, label_width=label_width, offset=offset)\n",
        "x_test_20, y_test_20 = sliding_window(df_test_20,df_test_20[target_labels], input_width, label_width=label_width, offset=offset)"
      ],
      "metadata": {
        "id": "sEIe2zosreLJ"
      },
      "execution_count": null,
      "outputs": []
    },
    {
      "cell_type": "code",
      "source": [
        "history = entrenar_modelo(lstm_model, x_train_20, y_train_20, x_val_20, y_val_20, MAX_EPOCHS, batch_size)"
      ],
      "metadata": {
        "id": "DJXXkW_OrSPg"
      },
      "execution_count": null,
      "outputs": []
    },
    {
      "cell_type": "code",
      "source": [
        "# Predecimos el resultado del test con el modelo\n",
        "model_result_20 = lstm_model.predict(x_test_20)\n",
        "target_index_20 = df_test_20.columns.get_loc(target_labels)\n",
        "\n",
        "# Deshacemos la normalización\n",
        "model_result2_20 = (model_result_20*train_std[3]) + train_mean[3]\n",
        "x_test2_20 = (x_test_20*train_std[3]) + train_mean[3]\n",
        "y_test2_20 = (y_test_20*train_std[3]) + train_mean[3]\n",
        "\n",
        "# Volvemos a representar la gráfica de resultados\n",
        "plot_prediction(x_test2_20[:, :, target_index_20], y_test2_20, model_result2_20, target_labels, input_width, label_width + offset, index=0)"
      ],
      "metadata": {
        "colab": {
          "base_uri": "https://localhost:8080/",
          "height": 298
        },
        "id": "gg9CFEd4rWOh",
        "outputId": "c98c6768-0904-4708-8980-9e9fc119bd39"
      },
      "execution_count": null,
      "outputs": [
        {
          "output_type": "stream",
          "name": "stdout",
          "text": [
            "51/51 [==============================] - 1s 14ms/step\n"
          ]
        },
        {
          "output_type": "display_data",
          "data": {
            "text/plain": [
              "<Figure size 432x288 with 1 Axes>"
            ],
            "image/png": "[encoded data removed]"
          },
          "metadata": {
            "needs_background": "light"
          }
        }
      ]
    },
    {
      "cell_type": "code",
      "source": [
        "mae4 = lstm_model.evaluate(x_test2_20, y_test2_20, verbose=0)[1]\n",
        "print(mae4)"
      ],
      "metadata": {
        "colab": {
          "base_uri": "https://localhost:8080/"
        },
        "id": "NmNjV38RYe-J",
        "outputId": "789f1639-5fdc-4549-ecba-a390c9481adf"
      },
      "execution_count": null,
      "outputs": [
        {
          "output_type": "stream",
          "name": "stdout",
          "text": [
            "0.028251774609088898\n"
          ]
        }
      ]
    },
    {
      "cell_type": "markdown",
      "source": [
        "Eliminando el conjunto de datos perteneciente a 2020 funciona mucho peor que con él. Esto se debe a que la parte correspondiente a train tiene la media de la variable que queremos predecir y de otras más alta que la parte que se correspondería con test, por lo que al quitar de train los datos que hacen que baje esa media, ayuda a que el modelo tienda a predecir cosas aún más altas y por tanto aumente el error"
      ],
      "metadata": {
        "id": "6Y4rb8hUvnfH"
      }
    },
    {
      "cell_type": "markdown",
      "source": [
        "## Eliminación del 10% superior\n",
        "Vamos a coger el 10% de los datos con más valor (los que están a partir del cuantil 0.9) y los vamos a sustituir por la media, ya que son datos anómalos (no incorrectos) y los pasamos a datos más bajos. \n",
        "\n",
        "Esto lo hacemos así porque vemos que siempre las predicciones tienen a salir mucho más altas de la realidad, nunca más bajas\n",
        "\n",
        "De nuevo trabajamos sobre una copia del dataframe"
      ],
      "metadata": {
        "id": "BWEZv1TLzmK8"
      }
    },
    {
      "cell_type": "code",
      "source": [
        "# Hacemos la copia sobre la que vamos a trabajar (df_train, df_val y df_test están desnormalizados)\n",
        "train10 = df_train.copy() \n",
        "val10 = df_val.copy()\n",
        "test10 = df_test.copy()\n",
        "\n",
        "columnas = ['precio mas alto', 'volumen', 'volumen en cuotas', 'numero de compras', 'volumen de euros', 'volumen de dolares']\n",
        "for columna in columnas:\n",
        "  num = 0\n",
        "  q90 = train10[columna].quantile(0.9)\n",
        "  subs = train10[columna].mean()\n",
        "  for e in range(len(train10)):\n",
        "    if train10[columna][e] > q90:\n",
        "      train10[columna][e] = subs\n",
        "      num += 1\n",
        "print(num)"
      ],
      "metadata": {
        "colab": {
          "base_uri": "https://localhost:8080/"
        },
        "id": "dzrm_KBcgT4p",
        "outputId": "f53a72f0-677e-4b05-99e7-e6c29f7e694a"
      },
      "execution_count": null,
      "outputs": [
        {
          "output_type": "stream",
          "name": "stdout",
          "text": [
            "1631\n"
          ]
        }
      ]
    },
    {
      "cell_type": "code",
      "source": [
        "print(len(train10) * 0.1) # cantidad de datos del 10% de train"
      ],
      "metadata": {
        "colab": {
          "base_uri": "https://localhost:8080/"
        },
        "id": "eEfpBpxwn8or",
        "outputId": "edf6c6b2-1bf2-4bd6-e752-06f505064c2f"
      },
      "execution_count": null,
      "outputs": [
        {
          "output_type": "stream",
          "name": "stdout",
          "text": [
            "1630.2\n"
          ]
        }
      ]
    },
    {
      "cell_type": "markdown",
      "source": [
        "Con los prints anteriores comprobamos que efectivamente estamos eliminando la cantidad de datos que queremos"
      ],
      "metadata": {
        "id": "nBAhnnPNYJ3j"
      }
    },
    {
      "cell_type": "markdown",
      "source": [
        "Representamos otra vez las gráficas para ver las modificaciones"
      ],
      "metadata": {
        "id": "aO8ArIKriPLT"
      }
    },
    {
      "cell_type": "code",
      "source": [
        "train10['precio mas alto'].plot(figsize = (15, 4))"
      ],
      "metadata": {
        "colab": {
          "base_uri": "https://localhost:8080/",
          "height": 286
        },
        "id": "2VNDMKk2h-m5",
        "outputId": "5fa6573a-3608-485c-e27c-e8558c1e39a0"
      },
      "execution_count": null,
      "outputs": [
        {
          "output_type": "execute_result",
          "data": {
            "text/plain": [
              "<matplotlib.axes._subplots.AxesSubplot at 0x7f98abfa5a30>"
            ]
          },
          "metadata": {},
          "execution_count": 51
        },
        {
          "output_type": "display_data",
          "data": {
            "text/plain": [
              "<Figure size 1080x288 with 1 Axes>"
            ],
            "image/png": "[encoded data removed]"
          },
          "metadata": {
            "needs_background": "light"
          }
        }
      ]
    },
    {
      "cell_type": "code",
      "source": [
        "train10['volumen'].plot(figsize = (15, 4))"
      ],
      "metadata": {
        "colab": {
          "base_uri": "https://localhost:8080/",
          "height": 293
        },
        "id": "HwFBR5CkiB83",
        "outputId": "bb94d23c-969c-402e-87de-0b6898a99d7a"
      },
      "execution_count": null,
      "outputs": [
        {
          "output_type": "execute_result",
          "data": {
            "text/plain": [
              "<matplotlib.axes._subplots.AxesSubplot at 0x7f98acf24e50>"
            ]
          },
          "metadata": {},
          "execution_count": 52
        },
        {
          "output_type": "display_data",
          "data": {
            "text/plain": [
              "<Figure size 1080x288 with 1 Axes>"
            ],
            "image/png": "[encoded data removed]"
          },
          "metadata": {
            "needs_background": "light"
          }
        }
      ]
    },
    {
      "cell_type": "code",
      "source": [
        "train10['volumen en cuotas'].plot(figsize = (15, 4))"
      ],
      "metadata": {
        "colab": {
          "base_uri": "https://localhost:8080/",
          "height": 293
        },
        "id": "Q_HZlYeMiC2m",
        "outputId": "1cb3742b-26a4-47d1-e9e7-ee1449758d97"
      },
      "execution_count": null,
      "outputs": [
        {
          "output_type": "execute_result",
          "data": {
            "text/plain": [
              "<matplotlib.axes._subplots.AxesSubplot at 0x7f9908205190>"
            ]
          },
          "metadata": {},
          "execution_count": 53
        },
        {
          "output_type": "display_data",
          "data": {
            "text/plain": [
              "<Figure size 1080x288 with 1 Axes>"
            ],
            "image/png": "[encoded data removed]"
          },
          "metadata": {
            "needs_background": "light"
          }
        }
      ]
    },
    {
      "cell_type": "code",
      "source": [
        "train10['numero de compras'].plot(figsize = (15, 4))"
      ],
      "metadata": {
        "colab": {
          "base_uri": "https://localhost:8080/",
          "height": 282
        },
        "id": "upLt-vEgiDFW",
        "outputId": "1d4d6b34-10de-4f99-ecba-bd8299a4a650"
      },
      "execution_count": null,
      "outputs": [
        {
          "output_type": "execute_result",
          "data": {
            "text/plain": [
              "<matplotlib.axes._subplots.AxesSubplot at 0x7f990cb262b0>"
            ]
          },
          "metadata": {},
          "execution_count": 54
        },
        {
          "output_type": "display_data",
          "data": {
            "text/plain": [
              "<Figure size 1080x288 with 1 Axes>"
            ],
            "image/png": "[encoded data removed]"
          },
          "metadata": {
            "needs_background": "light"
          }
        }
      ]
    },
    {
      "cell_type": "code",
      "source": [
        "train10['volumen de euros'].plot(figsize = (15, 4))"
      ],
      "metadata": {
        "colab": {
          "base_uri": "https://localhost:8080/",
          "height": 293
        },
        "id": "ecCBEHVIiDNy",
        "outputId": "14774f73-ccc5-44f6-f821-d573577d7418"
      },
      "execution_count": null,
      "outputs": [
        {
          "output_type": "execute_result",
          "data": {
            "text/plain": [
              "<matplotlib.axes._subplots.AxesSubplot at 0x7f98ab4bfc10>"
            ]
          },
          "metadata": {},
          "execution_count": 55
        },
        {
          "output_type": "display_data",
          "data": {
            "text/plain": [
              "<Figure size 1080x288 with 1 Axes>"
            ],
            "image/png": "[encoded data removed]"
          },
          "metadata": {
            "needs_background": "light"
          }
        }
      ]
    },
    {
      "cell_type": "code",
      "source": [
        "train10['volumen de dolares'].plot(figsize = (15, 4))"
      ],
      "metadata": {
        "colab": {
          "base_uri": "https://localhost:8080/",
          "height": 293
        },
        "id": "vP67-r7EiDWB",
        "outputId": "2d7ec137-5b79-4cf0-f7f4-e4218149c78d"
      },
      "execution_count": null,
      "outputs": [
        {
          "output_type": "execute_result",
          "data": {
            "text/plain": [
              "<matplotlib.axes._subplots.AxesSubplot at 0x7f98ab873e80>"
            ]
          },
          "metadata": {},
          "execution_count": 56
        },
        {
          "output_type": "display_data",
          "data": {
            "text/plain": [
              "<Figure size 1080x288 with 1 Axes>"
            ],
            "image/png": "[encoded data removed]"
          },
          "metadata": {
            "needs_background": "light"
          }
        }
      ]
    },
    {
      "cell_type": "markdown",
      "source": [
        "Como se puede ver, ahora las gráficas no tienen picos mucho más diferenciados que el resto, sino que muchos datos pasan a estar a la misma altura"
      ],
      "metadata": {
        "id": "7noqI3ynYRkq"
      }
    },
    {
      "cell_type": "markdown",
      "source": [
        "Probamos a entrenar para ver los resultados"
      ],
      "metadata": {
        "id": "xK1H1tLIqL6Z"
      }
    },
    {
      "cell_type": "code",
      "source": [
        "# Obtenemos las nuevas medidas de normlaización\n",
        "train_mean = train10.mean()\n",
        "train_std = train10.std()\n",
        "\n",
        "# Volvemos a normalizar\n",
        "train10 = (train10 - train_mean) / train_std\n",
        "val10 = (val10 - train_mean) / train_std\n",
        "test10 = (test10 - train_mean) / train_std\n",
        "\n",
        "# Tenemos que volver a aplicar la función sliding_window para todos los conjuntos:\n",
        "x_train10, y_train10 = sliding_window(train10,train10[target_labels], input_width, label_width=label_width, offset=offset)\n",
        "x_val10, y_val10 = sliding_window(val10,val10[target_labels], input_width, label_width=label_width, offset=offset)\n",
        "x_test10, y_test10 = sliding_window(test10,test10[target_labels], input_width, label_width=label_width, offset=offset)"
      ],
      "metadata": {
        "id": "iC0yo_vwqLFd"
      },
      "execution_count": null,
      "outputs": []
    },
    {
      "cell_type": "code",
      "source": [
        "history = entrenar_modelo(lstm_model, x_train10, y_train10, x_val10, y_val10, MAX_EPOCHS, batch_size)"
      ],
      "metadata": {
        "id": "y85xgMXaqTXa"
      },
      "execution_count": null,
      "outputs": []
    },
    {
      "cell_type": "code",
      "source": [
        "# Predecimos el resultado del test con el modelo\n",
        "model_result10 = lstm_model.predict(x_test10)\n",
        "target_index_10 = test10.columns.get_loc(target_labels)\n",
        "\n",
        "# Deshacemos la normalización\n",
        "model_result10_2 = (model_result*train_std[3]) + train_mean[3]\n",
        "x_test2_10 = (x_test10*train_std[3]) + train_mean[3]\n",
        "y_test2_10 = (y_test10*train_std[3]) + train_mean[3]\n",
        "\n",
        "# Volvemos a representar la gráfica de resultados\n",
        "plot_prediction(x_test2_10[:, :, target_index_10], y_test2_10, model_result10_2, target_labels, input_width, label_width + offset, index=0)"
      ],
      "metadata": {
        "colab": {
          "base_uri": "https://localhost:8080/",
          "height": 298
        },
        "id": "OspAs04hqdti",
        "outputId": "d1d86f65-7009-4767-efa0-62289cd6831a"
      },
      "execution_count": null,
      "outputs": [
        {
          "output_type": "stream",
          "name": "stdout",
          "text": [
            "51/51 [==============================] - 1s 15ms/step\n"
          ]
        },
        {
          "output_type": "display_data",
          "data": {
            "text/plain": [
              "<Figure size 432x288 with 1 Axes>"
            ],
            "image/png": "[encoded data removed]"
          },
          "metadata": {
            "needs_background": "light"
          }
        }
      ]
    },
    {
      "cell_type": "code",
      "source": [
        "mae5 = lstm_model.evaluate(x_test2_10, y_test2_10, verbose=0)[1]\n",
        "print(mae5)"
      ],
      "metadata": {
        "colab": {
          "base_uri": "https://localhost:8080/"
        },
        "id": "BPL3n0QiZGR5",
        "outputId": "85369c08-e46d-471d-ede4-8a9bbd3168af"
      },
      "execution_count": null,
      "outputs": [
        {
          "output_type": "stream",
          "name": "stdout",
          "text": [
            "0.004673538263887167\n"
          ]
        }
      ]
    },
    {
      "cell_type": "markdown",
      "source": [
        "Tampoco nos aporta una mejora tan relevante como eliminar únicamente el dato anómalo del precio, por lo que no aplicamos este cambio al dataframe original. Aunque podemos ver que el error que da es aún así muy bajo (quizá con otro porcentaje que no fuera el 10% daría mejor)"
      ],
      "metadata": {
        "id": "vcX8QRLQXqQl"
      }
    },
    {
      "cell_type": "markdown",
      "source": [
        "## Modelo de predicción binaria\n",
        "Ahora vamos a crear una volumna nueva en el dataframe denominada mayor/menor que será una variable booleana que guardará un 1 en caso de que el precio final de ese momento sea mayor al de hace 6h, y un 0 si es menor o igual (porque no interesa saber si sube). Para los seis primeros datos del dataframe va a haber nulos ya que no se tienen datos para comparar de 6h anteriores\n",
        "\n",
        "Añadimos esa columna a todo el dataframe y separamos, y luego se la añadimos al conjunto de train mejorado que encontramos antes y sustiutimos el de la partición por este"
      ],
      "metadata": {
        "id": "RW41BclrD0iR"
      }
    },
    {
      "cell_type": "code",
      "source": [
        "# Clonamos los dataframes para no usar los mismos\n",
        "df2 = df.copy()\n",
        "df_train2 = df_train.copy()\n",
        "df_val2 = df_val.copy()\n",
        "df_test2 = df_test.copy()"
      ],
      "metadata": {
        "id": "URP11egDCu4f"
      },
      "execution_count": null,
      "outputs": []
    },
    {
      "cell_type": "code",
      "source": [
        "# Obtenemos las medidas de normalización\n",
        "train_mean = df_train2.mean()\n",
        "train_std = df_train2.std()\n",
        "\n",
        "# Normalizamos los 3 conjuntos\n",
        "df_train2 = (df_train2 - train_mean) / train_std\n",
        "df_val2 = (df_val2 - train_mean) / train_std\n",
        "df_test2 = (df_test2 - train_mean) / train_std"
      ],
      "metadata": {
        "id": "XJZBE3ceafih"
      },
      "execution_count": null,
      "outputs": []
    },
    {
      "cell_type": "code",
      "source": [
        "# Añadimos la columna al conjunto de train, con las 6 primeras filas nulas\n",
        "df2['mayor/menor'] = None\n",
        "for i in range(6,len(df2)):\n",
        "  if df2['precio fin'][i]-df2['precio fin'][i-6] > 0:\n",
        "    df2['mayor/menor'][i] = 1 \n",
        "  else:\n",
        "    df2['mayor/menor'][i] = 0"
      ],
      "metadata": {
        "colab": {
          "base_uri": "https://localhost:8080/"
        },
        "id": "fUjAch1V0kM9",
        "outputId": "d76388a1-b9ab-41ba-e48c-ca5e419e46f0"
      },
      "execution_count": null,
      "outputs": [
        {
          "output_type": "stream",
          "name": "stderr",
          "text": [
            "<ipython-input-67-6f490dfd5ed1>:7: SettingWithCopyWarning: \n",
            "A value is trying to be set on a copy of a slice from a DataFrame\n",
            "\n",
            "See the caveats in the documentation: https://pandas.pydata.org/pandas-docs/stable/user_guide/indexing.html#returning-a-view-versus-a-copy\n",
            "  df2['mayor/menor'][i] = 0\n",
            "<ipython-input-67-6f490dfd5ed1>:5: SettingWithCopyWarning: \n",
            "A value is trying to be set on a copy of a slice from a DataFrame\n",
            "\n",
            "See the caveats in the documentation: https://pandas.pydata.org/pandas-docs/stable/user_guide/indexing.html#returning-a-view-versus-a-copy\n",
            "  df2['mayor/menor'][i] = 1\n"
          ]
        }
      ]
    },
    {
      "cell_type": "code",
      "source": [
        "binario_train = df2['mayor/menor'][:len(df_train2)]\n",
        "binario_val = df2['mayor/menor'][len(df_train2):len(df_train2)+1+len(df_val2)]\n",
        "binario_test = df2['mayor/menor'][len(df_train2) + len(df_val2):]"
      ],
      "metadata": {
        "id": "hvGoYAKfuTOW"
      },
      "execution_count": null,
      "outputs": []
    },
    {
      "cell_type": "code",
      "source": [
        "df_train2['mayor/menor'] = binario_train\n",
        "df_val2['mayor/menor'] = binario_val\n",
        "df_test2['mayor/menor'] = binario_test"
      ],
      "metadata": {
        "id": "AlIwOhUJvyBL"
      },
      "execution_count": null,
      "outputs": []
    },
    {
      "cell_type": "markdown",
      "source": [
        "Si ahora ejecutamos la función .info() veremos que la columna que acabamos de añadir no está en formato numérico, por lo que lo pasamos a este formato en los tres conjuntos"
      ],
      "metadata": {
        "id": "HQwr60GY070E"
      }
    },
    {
      "cell_type": "code",
      "source": [
        "df_train2.info()"
      ],
      "metadata": {
        "colab": {
          "base_uri": "https://localhost:8080/"
        },
        "id": "7mEwBDGh1yPb",
        "outputId": "b74979ca-1ced-4d4b-914d-a9fbe697071f"
      },
      "execution_count": null,
      "outputs": [
        {
          "output_type": "stream",
          "name": "stdout",
          "text": [
            "<class 'pandas.core.frame.DataFrame'>\n",
            "Int64Index: 16302 entries, 0 to 16301\n",
            "Data columns (total 14 columns):\n",
            " #   Column              Non-Null Count  Dtype  \n",
            "---  ------              --------------  -----  \n",
            " 0   precio inicio       16302 non-null  float64\n",
            " 1   precio mas alto     16302 non-null  float64\n",
            " 2   precio mas bajo     16302 non-null  float64\n",
            " 3   precio fin          16302 non-null  float64\n",
            " 4   volumen             16302 non-null  float64\n",
            " 5   volumen en cuotas   16302 non-null  float64\n",
            " 6   numero de compras   16302 non-null  float64\n",
            " 7   volumen de dolares  16302 non-null  float64\n",
            " 8   volumen de euros    16302 non-null  float64\n",
            " 9   Dia incial sin      16302 non-null  float64\n",
            " 10  Dia inicial cos     16302 non-null  float64\n",
            " 11  Año inicial sin     16302 non-null  float64\n",
            " 12  Año inicial cos     16302 non-null  float64\n",
            " 13  mayor/menor         16296 non-null  object \n",
            "dtypes: float64(13), object(1)\n",
            "memory usage: 2.4+ MB\n"
          ]
        }
      ]
    },
    {
      "cell_type": "code",
      "source": [
        "df_train2 = df_train2.astype('float64') \n",
        "df_val2 = df_val2.astype('float64') \n",
        "df_test2 = df_test2.astype('float64')"
      ],
      "metadata": {
        "id": "CvBuEE-t0ygs"
      },
      "execution_count": null,
      "outputs": []
    },
    {
      "cell_type": "markdown",
      "source": [
        "Ahora, para que las seis primeras filas de train que en la variable mayor/menor tienen valor null, no nos influyan en el entrenamiento, las eliminamos"
      ],
      "metadata": {
        "id": "WIS26qmxglC4"
      }
    },
    {
      "cell_type": "code",
      "source": [
        "df_train2 = df_train2.drop(range(0,6,1), axis=0)"
      ],
      "metadata": {
        "id": "ANwGnq8GgwWl"
      },
      "execution_count": null,
      "outputs": []
    },
    {
      "cell_type": "markdown",
      "source": [
        "Comprobamos que se han eliminado"
      ],
      "metadata": {
        "id": "K4iLmDE0Yoyn"
      }
    },
    {
      "cell_type": "code",
      "source": [
        "df_train2.head() "
      ],
      "metadata": {
        "colab": {
          "base_uri": "https://localhost:8080/",
          "height": 206
        },
        "id": "nWWyMnP5hB92",
        "outputId": "35e13bde-aea9-41ed-9b16-a1853b5548ed"
      },
      "execution_count": null,
      "outputs": [
        {
          "output_type": "execute_result",
          "data": {
            "text/plain": [
              "    precio inicio  precio mas alto  precio mas bajo  precio fin   volumen  \\\n",
              "6       -1.037039        -1.070541        -0.999364   -1.036286 -0.599519   \n",
              "7       -0.923058        -0.953882        -0.955000   -0.933453 -0.599432   \n",
              "8       -0.996810        -0.944908        -0.983836   -0.973692 -0.599335   \n",
              "9       -0.914118        -0.935935        -0.939473   -0.904391 -0.598920   \n",
              "10      -0.978931        -0.935935        -0.957218   -0.993811 -0.599100   \n",
              "\n",
              "    volumen en cuotas  numero de compras  volumen de dolares  \\\n",
              "6           -0.595234          -0.681334           -0.583795   \n",
              "7           -0.595153          -0.680358           -0.583586   \n",
              "8           -0.595062          -0.675280           -0.583600   \n",
              "9           -0.594676          -0.679772           -0.582453   \n",
              "10          -0.594844          -0.679967           -0.583745   \n",
              "\n",
              "    volumen de euros  Dia incial sin  Dia inicial cos  Año inicial sin  \\\n",
              "6          -0.579481       -0.705863        -1.223833         0.324605   \n",
              "7          -0.579287       -0.998765        -0.999109         0.325560   \n",
              "8          -0.579301       -1.223517        -0.706242         0.326514   \n",
              "9          -0.578233       -1.364802        -0.365191         0.327468   \n",
              "10         -0.579435       -1.412991         0.000801         0.328422   \n",
              "\n",
              "    Año inicial cos  mayor/menor  \n",
              "6          1.522330          0.0  \n",
              "7          1.522069          1.0  \n",
              "8          1.521806          1.0  \n",
              "9          1.521543          1.0  \n",
              "10         1.521279          1.0  "
            ],
            "text/html": [
              "\n",
              "  <div id=\"df-5baba7c2-ca83-475b-a1b0-95c214c24e59\">\n",
              "    <div class=\"colab-df-container\">\n",
              "      <div>\n",
              "<style scoped>\n",
              "    .dataframe tbody tr th:only-of-type {\n",
              "        vertical-align: middle;\n",
              "    }\n",
              "\n",
              "    .dataframe tbody tr th {\n",
              "        vertical-align: top;\n",
              "    }\n",
              "\n",
              "    .dataframe thead th {\n",
              "        text-align: right;\n",
              "    }\n",
              "</style>\n",
              "<table border=\"1\" class=\"dataframe\">\n",
              "  <thead>\n",
              "    <tr style=\"text-align: right;\">\n",
              "      <th></th>\n",
              "      <th>precio inicio</th>\n",
              "      <th>precio mas alto</th>\n",
              "      <th>precio mas bajo</th>\n",
              "      <th>precio fin</th>\n",
              "      <th>volumen</th>\n",
              "      <th>volumen en cuotas</th>\n",
              "      <th>numero de compras</th>\n",
              "      <th>volumen de dolares</th>\n",
              "      <th>volumen de euros</th>\n",
              "      <th>Dia incial sin</th>\n",
              "      <th>Dia inicial cos</th>\n",
              "      <th>Año inicial sin</th>\n",
              "      <th>Año inicial cos</th>\n",
              "      <th>mayor/menor</th>\n",
              "    </tr>\n",
              "  </thead>\n",
              "  <tbody>\n",
              "    <tr>\n",
              "      <th>6</th>\n",
              "      <td>-1.037039</td>\n",
              "      <td>-1.070541</td>\n",
              "      <td>-0.999364</td>\n",
              "      <td>-1.036286</td>\n",
              "      <td>-0.599519</td>\n",
              "      <td>-0.595234</td>\n",
              "      <td>-0.681334</td>\n",
              "      <td>-0.583795</td>\n",
              "      <td>-0.579481</td>\n",
              "      <td>-0.705863</td>\n",
              "      <td>-1.223833</td>\n",
              "      <td>0.324605</td>\n",
              "      <td>1.522330</td>\n",
              "      <td>0.0</td>\n",
              "    </tr>\n",
              "    <tr>\n",
              "      <th>7</th>\n",
              "      <td>-0.923058</td>\n",
              "      <td>-0.953882</td>\n",
              "      <td>-0.955000</td>\n",
              "      <td>-0.933453</td>\n",
              "      <td>-0.599432</td>\n",
              "      <td>-0.595153</td>\n",
              "      <td>-0.680358</td>\n",
              "      <td>-0.583586</td>\n",
              "      <td>-0.579287</td>\n",
              "      <td>-0.998765</td>\n",
              "      <td>-0.999109</td>\n",
              "      <td>0.325560</td>\n",
              "      <td>1.522069</td>\n",
              "      <td>1.0</td>\n",
              "    </tr>\n",
              "    <tr>\n",
              "      <th>8</th>\n",
              "      <td>-0.996810</td>\n",
              "      <td>-0.944908</td>\n",
              "      <td>-0.983836</td>\n",
              "      <td>-0.973692</td>\n",
              "      <td>-0.599335</td>\n",
              "      <td>-0.595062</td>\n",
              "      <td>-0.675280</td>\n",
              "      <td>-0.583600</td>\n",
              "      <td>-0.579301</td>\n",
              "      <td>-1.223517</td>\n",
              "      <td>-0.706242</td>\n",
              "      <td>0.326514</td>\n",
              "      <td>1.521806</td>\n",
              "      <td>1.0</td>\n",
              "    </tr>\n",
              "    <tr>\n",
              "      <th>9</th>\n",
              "      <td>-0.914118</td>\n",
              "      <td>-0.935935</td>\n",
              "      <td>-0.939473</td>\n",
              "      <td>-0.904391</td>\n",
              "      <td>-0.598920</td>\n",
              "      <td>-0.594676</td>\n",
              "      <td>-0.679772</td>\n",
              "      <td>-0.582453</td>\n",
              "      <td>-0.578233</td>\n",
              "      <td>-1.364802</td>\n",
              "      <td>-0.365191</td>\n",
              "      <td>0.327468</td>\n",
              "      <td>1.521543</td>\n",
              "      <td>1.0</td>\n",
              "    </tr>\n",
              "    <tr>\n",
              "      <th>10</th>\n",
              "      <td>-0.978931</td>\n",
              "      <td>-0.935935</td>\n",
              "      <td>-0.957218</td>\n",
              "      <td>-0.993811</td>\n",
              "      <td>-0.599100</td>\n",
              "      <td>-0.594844</td>\n",
              "      <td>-0.679967</td>\n",
              "      <td>-0.583745</td>\n",
              "      <td>-0.579435</td>\n",
              "      <td>-1.412991</td>\n",
              "      <td>0.000801</td>\n",
              "      <td>0.328422</td>\n",
              "      <td>1.521279</td>\n",
              "      <td>1.0</td>\n",
              "    </tr>\n",
              "  </tbody>\n",
              "</table>\n",
              "</div>\n",
              "      <button class=\"colab-df-convert\" onclick=\"convertToInteractive('df-5baba7c2-ca83-475b-a1b0-95c214c24e59')\"\n",
              "              title=\"Convert this dataframe to an interactive table.\"\n",
              "              style=\"display:none;\">\n",
              "        \n",
              "  <svg xmlns=\"http://www.w3.org/2000/svg\" height=\"24px\"viewBox=\"0 0 24 24\"\n",
              "       width=\"24px\">\n",
              "    <path d=\"M0 0h24v24H0V0z\" fill=\"none\"/>\n",
              "    <path d=\"M18.56 5.44l.94 2.06.94-2.06 2.06-.94-2.06-.94-.94-2.06-.94 2.06-2.06.94zm-11 1L8.5 8.5l.94-2.06 2.06-.94-2.06-.94L8.5 2.5l-.94 2.06-2.06.94zm10 10l.94 2.06.94-2.06 2.06-.94-2.06-.94-.94-2.06-.94 2.06-2.06.94z\"/><path d=\"M17.41 7.96l-1.37-1.37c-.4-.4-.92-.59-1.43-.59-.52 0-1.04.2-1.43.59L10.3 9.45l-7.72 7.72c-.78.78-.78 2.05 0 2.83L4 21.41c.39.39.9.59 1.41.59.51 0 1.02-.2 1.41-.59l7.78-7.78 2.81-2.81c.8-.78.8-2.07 0-2.86zM5.41 20L4 18.59l7.72-7.72 1.47 1.35L5.41 20z\"/>\n",
              "  </svg>\n",
              "      </button>\n",
              "      \n",
              "  <style>\n",
              "    .colab-df-container {\n",
              "      display:flex;\n",
              "      flex-wrap:wrap;\n",
              "      gap: 12px;\n",
              "    }\n",
              "\n",
              "    .colab-df-convert {\n",
              "      background-color: #E8F0FE;\n",
              "      border: none;\n",
              "      border-radius: 50%;\n",
              "      cursor: pointer;\n",
              "      display: none;\n",
              "      fill: #1967D2;\n",
              "      height: 32px;\n",
              "      padding: 0 0 0 0;\n",
              "      width: 32px;\n",
              "    }\n",
              "\n",
              "    .colab-df-convert:hover {\n",
              "      background-color: #E2EBFA;\n",
              "      box-shadow: 0px 1px 2px rgba(60, 64, 67, 0.3), 0px 1px 3px 1px rgba(60, 64, 67, 0.15);\n",
              "      fill: #174EA6;\n",
              "    }\n",
              "\n",
              "    [theme=dark] .colab-df-convert {\n",
              "      background-color: #3B4455;\n",
              "      fill: #D2E3FC;\n",
              "    }\n",
              "\n",
              "    [theme=dark] .colab-df-convert:hover {\n",
              "      background-color: #434B5C;\n",
              "      box-shadow: 0px 1px 3px 1px rgba(0, 0, 0, 0.15);\n",
              "      filter: drop-shadow(0px 1px 2px rgba(0, 0, 0, 0.3));\n",
              "      fill: #FFFFFF;\n",
              "    }\n",
              "  </style>\n",
              "\n",
              "      <script>\n",
              "        const buttonEl =\n",
              "          document.querySelector('#df-5baba7c2-ca83-475b-a1b0-95c214c24e59 button.colab-df-convert');\n",
              "        buttonEl.style.display =\n",
              "          google.colab.kernel.accessAllowed ? 'block' : 'none';\n",
              "\n",
              "        async function convertToInteractive(key) {\n",
              "          const element = document.querySelector('#df-5baba7c2-ca83-475b-a1b0-95c214c24e59');\n",
              "          const dataTable =\n",
              "            await google.colab.kernel.invokeFunction('convertToInteractive',\n",
              "                                                     [key], {});\n",
              "          if (!dataTable) return;\n",
              "\n",
              "          const docLinkHtml = 'Like what you see? Visit the ' +\n",
              "            '<a target=\"_blank\" href=https://colab.research.google.com/notebooks/data_table.ipynb>data table notebook</a>'\n",
              "            + ' to learn more about interactive tables.';\n",
              "          element.innerHTML = '';\n",
              "          dataTable['output_type'] = 'display_data';\n",
              "          await google.colab.output.renderOutput(dataTable, element);\n",
              "          const docLink = document.createElement('div');\n",
              "          docLink.innerHTML = docLinkHtml;\n",
              "          element.appendChild(docLink);\n",
              "        }\n",
              "      </script>\n",
              "    </div>\n",
              "  </div>\n",
              "  "
            ]
          },
          "metadata": {},
          "execution_count": 73
        }
      ]
    },
    {
      "cell_type": "markdown",
      "source": [
        "Ahora nos disponemos a entrenar, y para esto tenemos que cambiar el target_labels, para indicar que lo que queremos predecir ahora es la variable binaria que nos va a decir si la predicción de pasadas 6h va a ser mayor o menor que la última que le demos"
      ],
      "metadata": {
        "id": "y6PgMh1y6csd"
      }
    },
    {
      "cell_type": "code",
      "source": [
        "input_width = 70\n",
        "label_width = 1\n",
        "offset = 5\n",
        "target_labels = 'mayor/menor'\n",
        "\n",
        "# Llamamos a la función para dividir los conjuntos del dataset\n",
        "x_train2, y_train2 = sliding_window(df_train2,df_train2[target_labels], input_width, label_width=label_width, offset=offset)\n",
        "x_val2, y_val2 = sliding_window(df_val2, df_val2[target_labels], input_width, label_width=label_width, offset=offset)\n",
        "x_test2, y_test2 = sliding_window(df_test2, df_test2[target_labels], input_width, label_width=label_width, offset=offset)"
      ],
      "metadata": {
        "id": "dxmrub8c6ri1"
      },
      "execution_count": null,
      "outputs": []
    },
    {
      "cell_type": "markdown",
      "source": [
        "Además, no vamos a usar el mismo modelo de antes, por lo que definimos uno nuevo"
      ],
      "metadata": {
        "id": "8XtiWC-k6xCW"
      }
    },
    {
      "cell_type": "code",
      "source": [
        "lstm_model2 = tf.keras.models.Sequential([\n",
        "    tf.keras.layers.LSTM(units=10, return_sequences=True), \n",
        "    tf.keras.layers.LSTM(units=10, return_sequences=False),\n",
        "    tf.keras.layers.Dense(units=1, activation= 'sigmoid')\n",
        "])"
      ],
      "metadata": {
        "id": "mDFVdA2H60_X"
      },
      "execution_count": null,
      "outputs": []
    },
    {
      "cell_type": "markdown",
      "source": [
        "Modificamos la función de entrenamiento para que en este caso mire el accuracy en vez del mean_absolut_error (ya que ahora trabajamos similar a si fuera clasificación en clases)"
      ],
      "metadata": {
        "id": "Sb3unD1fzy7E"
      }
    },
    {
      "cell_type": "code",
      "source": [
        "def entrenar_modelo2(model, train_data, train_label, val_data, val_label, epochs, batch_size, patience=5, verbose = 0):\n",
        "    early_stopping = tf.keras.callbacks.EarlyStopping(monitor='val_binary_accuracy',\n",
        "                                                      patience=patience,\n",
        "                                                      mode='max')\n",
        "\n",
        "    model.compile(loss=tf.losses.MeanSquaredError(),\n",
        "                  optimizer=tf.optimizers.Adam(),\n",
        "                  metrics=[tf.metrics.BinaryAccuracy()])\n",
        "\n",
        "    history = model.fit(train_data, train_label, epochs=epochs,\n",
        "                        batch_size=batch_size,\n",
        "                        validation_data=(val_data, val_label),\n",
        "                        callbacks=[early_stopping], verbose=verbose)\n",
        "    return history"
      ],
      "metadata": {
        "id": "RiFffvaDw6eN"
      },
      "execution_count": null,
      "outputs": []
    },
    {
      "cell_type": "code",
      "source": [
        "MAX_EPOCHS = 20\n",
        "batch_size = 32\n",
        "history = entrenar_modelo2(lstm_model2, x_train2, y_train2, x_val2, y_val2, MAX_EPOCHS, batch_size, verbose=1)"
      ],
      "metadata": {
        "id": "HoxFHOx07MsF",
        "colab": {
          "base_uri": "https://localhost:8080/"
        },
        "outputId": "5d7355d4-093e-40fc-8d4e-70aa4cdda577"
      },
      "execution_count": null,
      "outputs": [
        {
          "output_type": "stream",
          "name": "stdout",
          "text": [
            "Epoch 1/20\n",
            "507/507 [==============================] - 36s 61ms/step - loss: 0.2455 - binary_accuracy: 0.5499 - val_loss: 0.2507 - val_binary_accuracy: 0.5307\n",
            "Epoch 2/20\n",
            "507/507 [==============================] - 29s 57ms/step - loss: 0.2403 - binary_accuracy: 0.5771 - val_loss: 0.2465 - val_binary_accuracy: 0.5487\n",
            "Epoch 3/20\n",
            "507/507 [==============================] - 30s 59ms/step - loss: 0.2386 - binary_accuracy: 0.5814 - val_loss: 0.2532 - val_binary_accuracy: 0.5033\n",
            "Epoch 4/20\n",
            "507/507 [==============================] - 31s 61ms/step - loss: 0.2376 - binary_accuracy: 0.5816 - val_loss: 0.2470 - val_binary_accuracy: 0.5374\n",
            "Epoch 5/20\n",
            "507/507 [==============================] - 29s 57ms/step - loss: 0.2365 - binary_accuracy: 0.5893 - val_loss: 0.2517 - val_binary_accuracy: 0.5034\n",
            "Epoch 6/20\n",
            "507/507 [==============================] - 33s 66ms/step - loss: 0.2352 - binary_accuracy: 0.5932 - val_loss: 0.2601 - val_binary_accuracy: 0.4726\n",
            "Epoch 7/20\n",
            "507/507 [==============================] - 32s 64ms/step - loss: 0.2359 - binary_accuracy: 0.5935 - val_loss: 0.2590 - val_binary_accuracy: 0.4839\n"
          ]
        }
      ]
    },
    {
      "cell_type": "markdown",
      "source": [
        "Predecimos el valor diciendo según la salida de la red, si la predicción se considera mayor o menor a la de 6h antes"
      ],
      "metadata": {
        "id": "Gk-aZF3iZ1F5"
      }
    },
    {
      "cell_type": "code",
      "source": [
        "# Predecimos el resultado del test con el modelo\n",
        "model_resultB = lstm_model2.predict(x_test2, verbose=0)\n",
        "\n",
        "target_index2 = df_test2.columns.get_loc(target_labels)\n",
        "\n",
        "if model_resultB[0][0] > 0.5:\n",
        "  print('O prezo 6 horas despois do último dato proporcionado será maior')\n",
        "else:\n",
        "  print('O prezo 6 horas despois do último dato proporcionado será menor')"
      ],
      "metadata": {
        "colab": {
          "base_uri": "https://localhost:8080/"
        },
        "id": "Xw_Wp1j67oHo",
        "outputId": "51e97167-643d-4aca-d123-70ed46cb8300"
      },
      "execution_count": null,
      "outputs": [
        {
          "output_type": "stream",
          "name": "stdout",
          "text": [
            "O prezo 6 horas despois do último dato proporcionado será maior\n"
          ]
        }
      ]
    },
    {
      "cell_type": "code",
      "source": [
        "ac = lstm_model2.evaluate(x_test2, y_test2, verbose=1)[1]\n",
        "print(ac)"
      ],
      "metadata": {
        "colab": {
          "base_uri": "https://localhost:8080/"
        },
        "id": "jdhxw2G3yXhi",
        "outputId": "f60772f2-6b04-43ad-d6d8-7845c60adef2"
      },
      "execution_count": null,
      "outputs": [
        {
          "output_type": "stream",
          "name": "stdout",
          "text": [
            "51/51 [==============================] - 1s 13ms/step - loss: 0.2671 - binary_accuracy: 0.4922\n",
            "0.49221184849739075\n"
          ]
        }
      ]
    },
    {
      "cell_type": "markdown",
      "source": [
        "# Conclusións\n",
        "\n",
        "No primeiro caso, o da predicción do valor final, o mellor DataFrame resultou aquel no que quitamos o valor anómalo na variable precio mas alto, cun MAE de 0.00428. Probamos con varios preprocesados distintos, sempre comparando o seu rendemento co resultado inicial: o mesmo modelo pero traballando co DF en crú, só normalizando e sen ningún outro procesado. A gráfica na que mostramos o resultado non parece achegarse demasiado, pero tratáse dunha escala pequena, polo que seleccionamos o modelo igualmente, fiándonos do MAE da predicción de test xeral, non no individual da gráfica.\n",
        "\n",
        "\n",
        "\n",
        "\n",
        "\n",
        "\n",
        "No caso binario, tras crear unha nova variable para indicar se é maior ou menor e adestrar con ela, o noso accuracy é extremadamente baixo, máis do normal. Non obstantem probamos con varias arquiteturas (máis capas LSTM e Dense, máis neuronas por capa...) e nunca conseguimos mellorar o modelo. Resulta extraño tamén que, co early stopping, o adestramento sempre se detén no epoch 9, xa que en todos os casos aprende moi pouco, sempre comeza a decrecer o binary accuracy de validacion tras uns poucos epochs. Entendemos que esto está mal, xa que evalúa incluso por debaixo do 0.5 (o cal sería o acc dun modelo aleatorio), pero cambiando a arquitetura non conseguimos mellores resultados"
      ],
      "metadata": {
        "id": "6BSSgwWq6_wI"
      }
    },
    {
      "cell_type": "markdown",
      "source": [
        "## Baseline\n",
        "Ahora vamos a definir el modelo que vamos a utilizar de baseline, contra el que luego compararemos nuestro modelo para decir si lo hace mejor o peor.\n",
        "\n",
        "Para definir este baseline utilizamos el de la librería Scikit-learn: DummyClassifier que obtendrá lo que nosotros le indiquemos en strategy\n",
        "\n",
        "Para comparar con el modelo que predice el precio final, utilizamos la comparación contra un baseline que predice todo el rato un valor uniforme a partir de la lista valores (cada valor de precio tiene un valor uniforme), mientras que para predecir el binario utilizamos un baseline que devuelve todo el rato una costante, en este caso 1 (es decir, dice que siempre es mayor que el de 6h atrás)"
      ],
      "metadata": {
        "id": "ugC7axwh4bsq"
      }
    },
    {
      "cell_type": "code",
      "source": [
        "from sklearn.dummy import DummyClassifier\n",
        "\n",
        "# Definimos el modelo:\n",
        "dummy_clf = DummyClassifier(strategy='uniform')\n",
        "dummy_cte = DummyClassifier(strategy='constant', constant = 1) \n",
        "\n",
        "input_width = 70\n",
        "target_labels = 'precio fin'"
      ],
      "metadata": {
        "id": "nrHN7sQp5WCO"
      },
      "execution_count": null,
      "outputs": []
    },
    {
      "cell_type": "markdown",
      "source": [
        "Comparación con el modelo de predicción del precio final:"
      ],
      "metadata": {
        "id": "YFeaq-P4ZvNj"
      }
    },
    {
      "cell_type": "code",
      "source": [
        "from sklearn.metrics import mean_absolute_error\n",
        "from sklearn.metrics import accuracy_score\n",
        "from tensorflow.python.ops.gen_math_ops import mean_eager_fallback\n",
        "\n",
        "# Entrenamos este modelo\n",
        "dummy_clf.fit(x_train[:, 0, :], y_train[:, 0, :])\n",
        "\n",
        "# Obtenemos el loss:\n",
        "dummy_predict = dummy_clf.predict(x_test[:, 0, :])\n",
        "\n",
        "# Obtemos o MAE:\n",
        "MAE_dummy = mean_absolute_error(y_test[:, 0, :], dummy_predict)\n",
        "\n",
        "print('MAE do dummy: ', MAE_dummy)\n",
        "print('MAE do noso modelo: ', mae2)"
      ],
      "metadata": {
        "colab": {
          "base_uri": "https://localhost:8080/"
        },
        "id": "CQivPYHHGYPt",
        "outputId": "35d3bffb-f3dc-4293-e52d-7d9b5bc23512"
      },
      "execution_count": null,
      "outputs": [
        {
          "output_type": "stream",
          "name": "stdout",
          "text": [
            "MAE do dummy:  3.64280266360213\n",
            "MAE do noso modelo:  0.0042886557057499886\n"
          ]
        }
      ]
    },
    {
      "cell_type": "markdown",
      "source": [
        "Comparación con el modelo de predicción binaria (mayor o menor):"
      ],
      "metadata": {
        "id": "i8OP2snGZzdu"
      }
    },
    {
      "cell_type": "code",
      "source": [
        "from sklearn.metrics import accuracy_score\n",
        "# Entrenamos este modelo\n",
        "dummy_cte.fit(x_train2[:, 0, :], y_train2[:, 0, :])\n",
        "\n",
        "# Obtenemos el loss:\n",
        "dummyB_predict = dummy_cte.predict(x_test2[:, 0, :])\n",
        "\n",
        "# Obtemos o MAE:\n",
        "Acc_dummy = accuracy_score(y_test2[:, 0, :], dummyB_predict)\n",
        "\n",
        "print('Accuracy do dummy: ', Acc_dummy)\n",
        "print('Accuracy do noso modelo: ', ac)"
      ],
      "metadata": {
        "colab": {
          "base_uri": "https://localhost:8080/"
        },
        "id": "Lq9SLXj8NMeQ",
        "outputId": "ad2ead26-ae9a-4d22-db69-b55ac62a404b"
      },
      "execution_count": null,
      "outputs": [
        {
          "output_type": "stream",
          "name": "stdout",
          "text": [
            "Accuracy do dummy:  0.464797507788162\n",
            "Accuracy do noso modelo:  0.49221184849739075\n"
          ]
        }
      ]
    },
    {
      "cell_type": "markdown",
      "source": [
        "Observamos como, na comparación frente ao baseline do modelo inicial, o noso modelo resulta claramente favorable, cun valor de MAE moi pequeno. Non obstante,na comparación co modelo binario obtemos un resultado moi similar e moi pobre, pese a ser lixeiramente superior.\n",
        "Isto concorda coas conclusións obtidas arriba, onde xa recoñecemos que o accuacy binario é menor que un modelo aleatorio, pero que o modelo de predicción do prezo obtén un MAE moi bo."
      ],
      "metadata": {
        "id": "RKfZ4brV-AOY"
      }
    }
  ]
}